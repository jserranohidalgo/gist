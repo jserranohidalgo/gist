{
 "cells": [
  {
   "cell_type": "code",
   "execution_count": 149,
   "metadata": {},
   "outputs": [
    {
     "name": "stderr",
     "output_type": "stream",
     "text": [
      "Downloading https://repo1.maven.org/maven2/org/tpolecat/doobie-postgres_2.13/0.8.8/doobie-postgres_2.13-0.8.8.pom\n",
      "Downloaded https://repo1.maven.org/maven2/org/tpolecat/doobie-postgres_2.13/0.8.8/doobie-postgres_2.13-0.8.8.pom\n",
      "Downloading https://repo1.maven.org/maven2/org/postgresql/postgresql/42.2.9/postgresql-42.2.9.pom\n",
      "Downloading https://repo1.maven.org/maven2/co/fs2/fs2-io_2.13/2.1.0/fs2-io_2.13-2.1.0.pom\n",
      "Downloaded https://repo1.maven.org/maven2/org/postgresql/postgresql/42.2.9/postgresql-42.2.9.pom\n",
      "Downloaded https://repo1.maven.org/maven2/co/fs2/fs2-io_2.13/2.1.0/fs2-io_2.13-2.1.0.pom\n",
      "Downloading https://repo1.maven.org/maven2/org/postgresql/postgresql/42.2.9/postgresql-42.2.9.jar\n",
      "Downloading https://repo1.maven.org/maven2/org/tpolecat/doobie-postgres_2.13/0.8.8/doobie-postgres_2.13-0.8.8.jar\n",
      "Downloading https://repo1.maven.org/maven2/co/fs2/fs2-io_2.13/2.1.0/fs2-io_2.13-2.1.0-sources.jar\n",
      "Downloading https://repo1.maven.org/maven2/org/postgresql/postgresql/42.2.9/postgresql-42.2.9-sources.jar\n",
      "Downloaded https://repo1.maven.org/maven2/co/fs2/fs2-io_2.13/2.1.0/fs2-io_2.13-2.1.0-sources.jar\n",
      "Downloading https://repo1.maven.org/maven2/org/tpolecat/doobie-postgres_2.13/0.8.8/doobie-postgres_2.13-0.8.8-sources.jar\n",
      "Downloading https://repo1.maven.org/maven2/co/fs2/fs2-io_2.13/2.1.0/fs2-io_2.13-2.1.0.jar\n",
      "Downloaded https://repo1.maven.org/maven2/org/tpolecat/doobie-postgres_2.13/0.8.8/doobie-postgres_2.13-0.8.8-sources.jar\n",
      "Downloaded https://repo1.maven.org/maven2/co/fs2/fs2-io_2.13/2.1.0/fs2-io_2.13-2.1.0.jar\n",
      "Downloaded https://repo1.maven.org/maven2/org/postgresql/postgresql/42.2.9/postgresql-42.2.9-sources.jar\n",
      "Downloaded https://repo1.maven.org/maven2/org/postgresql/postgresql/42.2.9/postgresql-42.2.9.jar\n",
      "Downloaded https://repo1.maven.org/maven2/org/tpolecat/doobie-postgres_2.13/0.8.8/doobie-postgres_2.13-0.8.8.jar\n"
     ]
    },
    {
     "data": {
      "text/plain": [
       "\u001b[32mimport \u001b[39m\u001b[36m$ivy.$                                \n",
       "\u001b[39m\n",
       "\u001b[32mimport \u001b[39m\u001b[36m$ivy.$                                  \n",
       "\u001b[39m\n",
       "\u001b[32mimport \u001b[39m\u001b[36m$ivy.$                                    \u001b[39m"
      ]
     },
     "execution_count": 149,
     "metadata": {},
     "output_type": "execute_result"
    }
   ],
   "source": [
    "import $ivy.`org.tpolecat::doobie-core:0.8.8`\n",
    "import $ivy.`org.postgresql:postgresql:42.2.10`\n",
    "import $ivy.`org.tpolecat::doobie-postgres:0.8.8`"
   ]
  },
  {
   "cell_type": "code",
   "execution_count": 77,
   "metadata": {},
   "outputs": [
    {
     "data": {
      "text/plain": [
       "\u001b[32mimport \u001b[39m\u001b[36mcats._, cats.data._, cats.effect._, cats.implicits._\n",
       "\u001b[39m\n",
       "\u001b[32mimport \u001b[39m\u001b[36mdoobie._, doobie.implicits._\n",
       "\u001b[39m\n",
       "\u001b[32mimport \u001b[39m\u001b[36mfs2.Stream\u001b[39m"
      ]
     },
     "execution_count": 77,
     "metadata": {},
     "output_type": "execute_result"
    }
   ],
   "source": [
    "import cats._, cats.data._, cats.effect._, cats.implicits._\n",
    "import doobie._, doobie.implicits._\n",
    "import fs2.Stream"
   ]
  },
  {
   "cell_type": "code",
   "execution_count": 43,
   "metadata": {},
   "outputs": [
    {
     "data": {
      "text/plain": [
       "\u001b[32mimport \u001b[39m\u001b[36mdoobie.util.ExecutionContexts\n",
       "\u001b[39m\n",
       "\u001b[36mcs\u001b[39m: \u001b[32mContextShift\u001b[39m[\u001b[32mIO\u001b[39m] = cats.effect.internals.IOContextShift@5a19259b\n",
       "\u001b[36mxa\u001b[39m: \u001b[32mTransactor\u001b[39m.\u001b[32mAux\u001b[39m[\u001b[32mIO\u001b[39m, \u001b[32mUnit\u001b[39m] = doobie.util.transactor$Transactor$$anon$13@7d22e762"
      ]
     },
     "execution_count": 43,
     "metadata": {},
     "output_type": "execute_result"
    }
   ],
   "source": [
    "import doobie.util.ExecutionContexts\n",
    "implicit val cs = IO.contextShift(ExecutionContexts.synchronous)\n",
    "val xa = Transactor.fromDriverManager[IO](\n",
    "  \"org.postgresql.Driver\",     // driver classname\n",
    "  \"jdbc:postgresql:world\",     // connect URL (driver-specific)\n",
    "  \"postgres\",                  // user\n",
    "  \"\",                          // password\n",
    "  Blocker.liftExecutionContext(ExecutionContexts.synchronous) // just for testing\n",
    ")"
   ]
  },
  {
   "cell_type": "code",
   "execution_count": 47,
   "metadata": {},
   "outputs": [
    {
     "data": {
      "text/plain": [
       "\u001b[36mprogram1\u001b[39m: \u001b[32mConnectionIO\u001b[39m[\u001b[32mInt\u001b[39m] = \u001b[33mPure\u001b[39m(\u001b[32m42\u001b[39m)\n",
       "\u001b[36mio\u001b[39m: \u001b[32mIO\u001b[39m[\u001b[32mInt\u001b[39m] = \u001b[33mAsync\u001b[39m(\n",
       "  cats.effect.internals.IOBracket$$$Lambda$2863/259606418@48130d6e,\n",
       "  false\n",
       ")\n",
       "\u001b[36mres46_2\u001b[39m: \u001b[32mInt\u001b[39m = \u001b[32m42\u001b[39m"
      ]
     },
     "execution_count": 47,
     "metadata": {},
     "output_type": "execute_result"
    }
   ],
   "source": [
    "val program1 = 42.pure[ConnectionIO]\n",
    "val io = program1.transact(xa)\n",
    "io.unsafeRunSync"
   ]
  },
  {
   "cell_type": "code",
   "execution_count": 48,
   "metadata": {},
   "outputs": [
    {
     "name": "stdout",
     "output_type": "stream",
     "text": [
      "Right(42)\n"
     ]
    },
    {
     "data": {
      "text/plain": [
       "\u001b[36mprogram2\u001b[39m: \u001b[32mConnectionIO\u001b[39m[\u001b[32mInt\u001b[39m] = \u001b[33mSuspend\u001b[39m(\n",
       "  \u001b[33mBracketCase\u001b[39m(\n",
       "    \u001b[33mSuspend\u001b[39m(\u001b[33mPrepareStatement\u001b[39m(\u001b[32m\"select 42\"\u001b[39m)),\n",
       "    doobie.hi.connection$$$Lambda$3025/964657051@7d018e80,\n",
       "    cats.effect.Bracket$$Lambda$3027/2114759256@467139e8\n",
       "  )\n",
       ")"
      ]
     },
     "execution_count": 48,
     "metadata": {},
     "output_type": "execute_result"
    }
   ],
   "source": [
    "val program2 = sql\"select 42\".query[Int].unique\n",
    "program2.transact(xa).unsafeRunAsync(println)"
   ]
  },
  {
   "cell_type": "code",
   "execution_count": 49,
   "metadata": {},
   "outputs": [
    {
     "data": {
      "text/plain": [
       "\u001b[36mprogram3\u001b[39m: \u001b[32mConnectionIO\u001b[39m[(\u001b[32mInt\u001b[39m, \u001b[32mDouble\u001b[39m)] = \u001b[33mFlatMapped\u001b[39m(\n",
       "  \u001b[33mSuspend\u001b[39m(\n",
       "    \u001b[33mBracketCase\u001b[39m(\n",
       "      \u001b[33mSuspend\u001b[39m(\u001b[33mPrepareStatement\u001b[39m(\u001b[32m\"select 42\"\u001b[39m)),\n",
       "      doobie.hi.connection$$$Lambda$3025/964657051@320494d7,\n",
       "      cats.effect.Bracket$$Lambda$3027/2114759256@e77a4d\n",
       "    )\n",
       "  ),\n",
       "  ammonite.$sess.cmd48$Helper$$Lambda$3587/1129877496@6fb34d72\n",
       ")\n",
       "\u001b[36mres48_1\u001b[39m: (\u001b[32mInt\u001b[39m, \u001b[32mDouble\u001b[39m) = (\u001b[32m42\u001b[39m, \u001b[32m0.9449415732984399\u001b[39m)"
      ]
     },
     "execution_count": 49,
     "metadata": {},
     "output_type": "execute_result"
    }
   ],
   "source": [
    "val program3: ConnectionIO[(Int, Double)] =\n",
    "  for {\n",
    "    a <- sql\"select 42\".query[Int].unique\n",
    "    b <- sql\"select random()\".query[Double].unique\n",
    "  } yield (a, b)\n",
    "program3.transact(xa).unsafeRunSync"
   ]
  },
  {
   "cell_type": "code",
   "execution_count": 50,
   "metadata": {},
   "outputs": [
    {
     "data": {
      "text/plain": [
       "\u001b[36mprogram3a\u001b[39m: \u001b[32mConnectionIO\u001b[39m[(\u001b[32mInt\u001b[39m, \u001b[32mDouble\u001b[39m)] = \u001b[33mFlatMapped\u001b[39m(\n",
       "  \u001b[33mFlatMapped\u001b[39m(\n",
       "    \u001b[33mSuspend\u001b[39m(\n",
       "      \u001b[33mBracketCase\u001b[39m(\n",
       "        \u001b[33mSuspend\u001b[39m(\u001b[33mPrepareStatement\u001b[39m(\u001b[32m\"select 42\"\u001b[39m)),\n",
       "        doobie.hi.connection$$$Lambda$3025/964657051@45170a9a,\n",
       "        cats.effect.Bracket$$Lambda$3027/2114759256@327230be\n",
       "      )\n",
       "    ),\n",
       "    cats.FlatMap$$Lambda$3018/1974523915@5ffd5405\n",
       "  ),\n",
       "  cats.Monad$$Lambda$2798/2001364205@75255920\n",
       ")\n",
       "\u001b[36mres49_1\u001b[39m: (\u001b[32mInt\u001b[39m, \u001b[32mDouble\u001b[39m) = (\u001b[32m42\u001b[39m, \u001b[32m0.9301555440877713\u001b[39m)"
      ]
     },
     "execution_count": 50,
     "metadata": {},
     "output_type": "execute_result"
    }
   ],
   "source": [
    "val program3a = {\n",
    "  val a: ConnectionIO[Int] = sql\"select 42\".query[Int].unique\n",
    "  val b: ConnectionIO[Double] = sql\"select random()\".query[Double].unique\n",
    "  (a, b).tupled\n",
    "}\n",
    "program3a.transact(xa).unsafeRunSync"
   ]
  },
  {
   "cell_type": "code",
   "execution_count": 36,
   "metadata": {},
   "outputs": [
    {
     "data": {
      "text/plain": [
       "\u001b[36mprogram3a\u001b[39m: \u001b[32mConnectionIO\u001b[39m[(\u001b[32mInt\u001b[39m, \u001b[32mDouble\u001b[39m)] = \u001b[33mFlatMapped\u001b[39m(\n",
       "  \u001b[33mFlatMapped\u001b[39m(\n",
       "    \u001b[33mSuspend\u001b[39m(\n",
       "      \u001b[33mBracketCase\u001b[39m(\n",
       "        \u001b[33mSuspend\u001b[39m(\u001b[33mPrepareStatement\u001b[39m(\u001b[32m\"select 42\"\u001b[39m)),\n",
       "        doobie.hi.connection$$$Lambda$3025/964657051@1b4aa139,\n",
       "        cats.effect.Bracket$$Lambda$3027/2114759256@683a72d1\n",
       "      )\n",
       "    ),\n",
       "    cats.FlatMap$$Lambda$3018/1974523915@3cdf46d7\n",
       "  ),\n",
       "  cats.Monad$$Lambda$2798/2001364205@4f187c5a\n",
       ")\n",
       "\u001b[36mres35_1\u001b[39m: \u001b[32mList\u001b[39m[(\u001b[32mInt\u001b[39m, \u001b[32mDouble\u001b[39m)] = \u001b[33mList\u001b[39m(\n",
       "  (\u001b[32m42\u001b[39m, \u001b[32m0.25058705885668786\u001b[39m),\n",
       "  (\u001b[32m42\u001b[39m, \u001b[32m0.9150082867816458\u001b[39m),\n",
       "  (\u001b[32m42\u001b[39m, \u001b[32m0.45798019903125464\u001b[39m),\n",
       "  (\u001b[32m42\u001b[39m, \u001b[32m0.461622284297345\u001b[39m),\n",
       "  (\u001b[32m42\u001b[39m, \u001b[32m0.5036114233007609\u001b[39m)\n",
       ")"
      ]
     },
     "execution_count": 36,
     "metadata": {},
     "output_type": "execute_result"
    }
   ],
   "source": [
    "val program3a = {\n",
    "  val a: ConnectionIO[Int] = sql\"select 42\".query[Int].unique\n",
    "  val b: ConnectionIO[Double] = sql\"select random()\".query[Double].unique\n",
    "  (a, b).tupled\n",
    "}\n",
    "program3a.replicateA(5).transact(xa).unsafeRunSync"
   ]
  },
  {
   "cell_type": "markdown",
   "metadata": {},
   "source": [
    "# SELECTING DATA"
   ]
  },
  {
   "cell_type": "code",
   "execution_count": 65,
   "metadata": {},
   "outputs": [
    {
     "name": "stdout",
     "output_type": "stream",
     "text": [
      "Afghanistan\n",
      "Netherlands\n",
      "Netherlands Antilles\n",
      "Albania\n",
      "Algeria\n"
     ]
    }
   ],
   "source": [
    "sql\"select name from country\"\n",
    "  .query[String]    // Query0[String]\n",
    "  .to[List]         // ConnectionIO[List[String]]\n",
    "  .transact(xa)     // IO[List[String]]\n",
    "  .unsafeRunSync    // List[String]\n",
    "  .take(5)          // List[String]\n",
    "  .foreach(println) // Unit"
   ]
  },
  {
   "cell_type": "code",
   "execution_count": 64,
   "metadata": {},
   "outputs": [
    {
     "data": {
      "text/plain": [
       "\u001b[36mres63\u001b[39m: \u001b[32mString\u001b[39m = \u001b[32m\"Afghanistan\"\u001b[39m"
      ]
     },
     "execution_count": 64,
     "metadata": {},
     "output_type": "execute_result"
    }
   ],
   "source": [
    "sql\"\"\"select name from country where code='AFG'\"\"\"\n",
    "  .query[String]    // Query0[String]\n",
    "  .unique         // ConnectionIO[List[String]]\n",
    "  .transact(xa)     // IO[List[String]]\n",
    "  .unsafeRunSync    // List[String]\n"
   ]
  },
  {
   "cell_type": "code",
   "execution_count": 66,
   "metadata": {},
   "outputs": [
    {
     "name": "stdout",
     "output_type": "stream",
     "text": [
      "Afghanistan\n",
      "Netherlands\n",
      "Netherlands Antilles\n",
      "Albania\n",
      "Algeria\n"
     ]
    }
   ],
   "source": [
    "sql\"select name from country\"\n",
    "  .query[String]    // Query0[String]\n",
    "  .stream           // Stream[ConnectionIO, String]\n",
    "  .take(5)          // Stream[ConnectionIO, String]\n",
    "  .compile.toList   // ConnectionIO[List[String]]\n",
    "  .transact(xa)     // IO[List[String]]\n",
    "  .unsafeRunSync    // List[String]\n",
    "  .foreach(println) // Unit"
   ]
  },
  {
   "cell_type": "code",
   "execution_count": 67,
   "metadata": {},
   "outputs": [
    {
     "data": {
      "text/plain": [
       "\u001b[36my\u001b[39m: \u001b[32mutil\u001b[39m.\u001b[32myolo\u001b[39m.\u001b[32mYolo\u001b[39m[\u001b[32mIO\u001b[39m] = doobie.util.yolo$Yolo@75a28c61\n",
       "\u001b[32mimport \u001b[39m\u001b[36my._\u001b[39m"
      ]
     },
     "execution_count": 67,
     "metadata": {},
     "output_type": "execute_result"
    }
   ],
   "source": [
    "val y = xa.yolo // a stable reference is required\n",
    "import y._"
   ]
  },
  {
   "cell_type": "code",
   "execution_count": 68,
   "metadata": {},
   "outputs": [
    {
     "name": "stdout",
     "output_type": "stream",
     "text": [
      "\u001b[34m  Afghanistan\u001b[0m\n",
      "\u001b[34m  Netherlands\u001b[0m\n",
      "\u001b[34m  Netherlands Antilles\u001b[0m\n",
      "\u001b[34m  Albania\u001b[0m\n",
      "\u001b[34m  Algeria\u001b[0m\n"
     ]
    }
   ],
   "source": [
    "sql\"select name from country\"\n",
    "  .query[String] // Query0[String]\n",
    "  .stream        // Stream[ConnectionIO, String]\n",
    "  .take(5)       // Stream[ConnectionIO, String]\n",
    "  .quick         // IO[Unit]\n",
    "  .unsafeRunSync"
   ]
  },
  {
   "cell_type": "code",
   "execution_count": 71,
   "metadata": {},
   "outputs": [
    {
     "data": {
      "text/plain": [
       "\u001b[36mres70\u001b[39m: \u001b[32mQuery0\u001b[39m[(\u001b[32mString\u001b[39m, \u001b[32mString\u001b[39m, \u001b[32mInt\u001b[39m, \u001b[32mOption\u001b[39m[\u001b[32mDouble\u001b[39m])] = doobie.util.query$Query$$anon$3@602d6e83"
      ]
     },
     "execution_count": 71,
     "metadata": {},
     "output_type": "execute_result"
    }
   ],
   "source": [
    "sql\"select code, name, population, gnp from country\"\n",
    "  .query[(String, String, Int, Option[Double])]\n",
    "/*  .stream\n",
    "  .take(5)\n",
    "  .quick\n",
    "  .unsafeRunSync\n",
    "*/"
   ]
  },
  {
   "cell_type": "code",
   "execution_count": 72,
   "metadata": {},
   "outputs": [
    {
     "name": "stdout",
     "output_type": "stream",
     "text": [
      "\u001b[34m  AFG :: Afghanistan :: 22720000 :: Some(5976.0) :: HNil\u001b[0m\n",
      "\u001b[34m  NLD :: Netherlands :: 15864000 :: Some(371362.0) :: HNil\u001b[0m\n",
      "\u001b[34m  ANT :: Netherlands Antilles :: 217000 :: Some(1941.0) :: HNil\u001b[0m\n",
      "\u001b[34m  ALB :: Albania :: 3401200 :: Some(3205.0) :: HNil\u001b[0m\n",
      "\u001b[34m  DZA :: Algeria :: 31471000 :: Some(49982.0) :: HNil\u001b[0m\n"
     ]
    },
    {
     "data": {
      "text/plain": [
       "\u001b[32mimport \u001b[39m\u001b[36mshapeless._\n",
       "\n",
       "\u001b[39m"
      ]
     },
     "execution_count": 72,
     "metadata": {},
     "output_type": "execute_result"
    }
   ],
   "source": [
    "import shapeless._\n",
    "\n",
    "sql\"select code, name, population, gnp from country\"\n",
    "  .query[String :: String :: Int :: Option[Double] :: HNil]\n",
    "  .stream\n",
    "  .take(5)\n",
    "  .quick\n",
    "  .unsafeRunSync"
   ]
  },
  {
   "cell_type": "code",
   "execution_count": 73,
   "metadata": {},
   "outputs": [
    {
     "data": {
      "text/plain": [
       "defined \u001b[32mclass\u001b[39m \u001b[36mCountry\u001b[39m"
      ]
     },
     "execution_count": 73,
     "metadata": {},
     "output_type": "execute_result"
    }
   ],
   "source": [
    "case class Country(code: String, name: String, pop: Int, gnp: Option[Double])"
   ]
  },
  {
   "cell_type": "code",
   "execution_count": 74,
   "metadata": {},
   "outputs": [
    {
     "name": "stdout",
     "output_type": "stream",
     "text": [
      "\u001b[34m  Country(AFG,Afghanistan,22720000,Some(5976.0))\u001b[0m\n",
      "\u001b[34m  Country(NLD,Netherlands,15864000,Some(371362.0))\u001b[0m\n",
      "\u001b[34m  Country(ANT,Netherlands Antilles,217000,Some(1941.0))\u001b[0m\n",
      "\u001b[34m  Country(ALB,Albania,3401200,Some(3205.0))\u001b[0m\n",
      "\u001b[34m  Country(DZA,Algeria,31471000,Some(49982.0))\u001b[0m\n"
     ]
    }
   ],
   "source": [
    "sql\"select code, name, population, gnp from country\"\n",
    "  .query[Country]\n",
    "  .stream\n",
    "  .take(5)\n",
    "  .quick\n",
    "  .unsafeRunSync"
   ]
  },
  {
   "cell_type": "code",
   "execution_count": 75,
   "metadata": {},
   "outputs": [
    {
     "data": {
      "text/plain": [
       "defined \u001b[32mclass\u001b[39m \u001b[36mCode\u001b[39m\n",
       "defined \u001b[32mclass\u001b[39m \u001b[36mCountry2\u001b[39m"
      ]
     },
     "execution_count": 75,
     "metadata": {},
     "output_type": "execute_result"
    }
   ],
   "source": [
    "case class Code(code: String)\n",
    "case class Country2(name: String, pop: Int, gnp: Option[Double])"
   ]
  },
  {
   "cell_type": "code",
   "execution_count": 76,
   "metadata": {},
   "outputs": [
    {
     "name": "stdout",
     "output_type": "stream",
     "text": [
      "\u001b[34m  (Code(AFG),Country2(Afghanistan,22720000,Some(5976.0)))\u001b[0m\n",
      "\u001b[34m  (Code(NLD),Country2(Netherlands,15864000,Some(371362.0)))\u001b[0m\n",
      "\u001b[34m  (Code(ANT),Country2(Netherlands Antilles,217000,Some(1941.0)))\u001b[0m\n",
      "\u001b[34m  (Code(ALB),Country2(Albania,3401200,Some(3205.0)))\u001b[0m\n",
      "\u001b[34m  (Code(DZA),Country2(Algeria,31471000,Some(49982.0)))\u001b[0m\n"
     ]
    }
   ],
   "source": [
    "sql\"select code, name, population, gnp from country\"\n",
    "  .query[(Code, Country2)]\n",
    "  .stream\n",
    "  .take(5)\n",
    "  .quick\n",
    "  .unsafeRunSync"
   ]
  },
  {
   "cell_type": "code",
   "execution_count": 78,
   "metadata": {},
   "outputs": [
    {
     "name": "stdout",
     "output_type": "stream",
     "text": [
      "Country2(Afghanistan,22720000,Some(5976.0))\n",
      "Country2(Netherlands,15864000,Some(371362.0))\n",
      "Country2(Netherlands Antilles,217000,Some(1941.0))\n",
      "Country2(Albania,3401200,Some(3205.0))\n",
      "Country2(Algeria,31471000,Some(49982.0))\n"
     ]
    },
    {
     "data": {
      "text/plain": [
       "\u001b[36mp\u001b[39m: \u001b[32mStream\u001b[39m[\u001b[32mIO\u001b[39m, \u001b[32mCountry2\u001b[39m] = Stream(..)"
      ]
     },
     "execution_count": 78,
     "metadata": {},
     "output_type": "execute_result"
    }
   ],
   "source": [
    "val p: Stream[IO, Country2] = {\n",
    "  sql\"select name, population, gnp from country\"\n",
    "    .query[Country2] // Query0[Country2]\n",
    "    .stream          // Stream[ConnectionIO, Country2]\n",
    "    .transact(xa)    // Stream[IO, Country2]\n",
    "}\n",
    "// p: Stream[IO, Country2] = Stream(..)\n",
    "\n",
    "p.take(5).compile.toVector.unsafeRunSync.foreach(println)"
   ]
  },
  {
   "cell_type": "code",
   "execution_count": 79,
   "metadata": {},
   "outputs": [
    {
     "name": "stdout",
     "output_type": "stream",
     "text": [
      "\u001b[34m  HashMap(Code(ANT) -> Country2(Netherlands Antilles,217000,Some(1941.0)), Code(ALB) -> Country2(Albania,3401200,Some(3205.0)), Code(DZA) -> Country2(Algeria,31471000,Some(49982.0)), Code(NLD) -> Country2(Netherlands,15864000,Some(371362.0)), Code(AFG) -> Country2(Afghanistan,22720000,Some(5976.0)))\u001b[0m\n"
     ]
    },
    {
     "data": {
      "text/plain": [
       "\u001b[36mproc\u001b[39m: \u001b[32mStream\u001b[39m[\u001b[32mConnectionIO\u001b[39m, (\u001b[32mCode\u001b[39m, \u001b[32mCountry2\u001b[39m)] = Stream(..)"
      ]
     },
     "execution_count": 79,
     "metadata": {},
     "output_type": "execute_result"
    }
   ],
   "source": [
    "val proc = HC.stream[(Code, Country2)](\n",
    "  \"select code, name, population, gnp from country\", // statement\n",
    "  ().pure[PreparedStatementIO],                      // prep (none)\n",
    "  512                                                // chunk size\n",
    ")\n",
    "// proc: Stream[ConnectionIO, (Code, Country2)] = Stream(..)\n",
    "\n",
    "proc.take(5)        // Stream[ConnectionIO, (Code, Country2)]\n",
    "    .compile.toList // ConnectionIO[List[(Code, Country2)]]\n",
    "    .map(_.toMap)   // ConnectionIO[Map[Code, Country2]]\n",
    "    .quick\n",
    "    .unsafeRunSync"
   ]
  },
  {
   "cell_type": "markdown",
   "metadata": {},
   "source": [
    "# PARAMETERIZED QUERIES"
   ]
  },
  {
   "cell_type": "code",
   "execution_count": 88,
   "metadata": {},
   "outputs": [
    {
     "data": {
      "text/plain": [
       "defined \u001b[32mfunction\u001b[39m \u001b[36mbiggerThan\u001b[39m"
      ]
     },
     "execution_count": 88,
     "metadata": {},
     "output_type": "execute_result"
    }
   ],
   "source": [
    "def biggerThan(minPop: Int) = sql\"\"\"\n",
    "  select code, name, population, gnp\n",
    "  from country\n",
    "  where population > $minPop\n",
    "\"\"\".query[Country]"
   ]
  },
  {
   "cell_type": "code",
   "execution_count": 89,
   "metadata": {},
   "outputs": [
    {
     "name": "stdout",
     "output_type": "stream",
     "text": [
      "\u001b[34m  Country(BRA,Brazil,170115000,Some(776739.0))\u001b[0m\n",
      "\u001b[34m  Country(IDN,Indonesia,212107000,Some(84982.0))\u001b[0m\n",
      "\u001b[34m  Country(IND,India,1013662000,Some(447114.0))\u001b[0m\n",
      "\u001b[34m  Country(CHN,China,1277558000,Some(982268.0))\u001b[0m\n",
      "\u001b[34m  Country(PAK,Pakistan,156483000,Some(61289.0))\u001b[0m\n",
      "\u001b[34m  Country(USA,United States,278357000,Some(8510700.0))\u001b[0m\n"
     ]
    }
   ],
   "source": [
    "biggerThan(150000000).quick.unsafeRunSync"
   ]
  },
  {
   "cell_type": "code",
   "execution_count": 90,
   "metadata": {},
   "outputs": [
    {
     "name": "stdout",
     "output_type": "stream",
     "text": [
      "\u001b[34m  Country(BRA,Brazil,170115000,Some(776739.0))\u001b[0m\n",
      "\u001b[34m  Country(PAK,Pakistan,156483000,Some(61289.0))\u001b[0m\n"
     ]
    },
    {
     "data": {
      "text/plain": [
       "defined \u001b[32mfunction\u001b[39m \u001b[36mpopulationIn\u001b[39m"
      ]
     },
     "execution_count": 90,
     "metadata": {},
     "output_type": "execute_result"
    }
   ],
   "source": [
    "def populationIn(range: Range) = sql\"\"\"\n",
    "  select code, name, population, gnp\n",
    "  from country\n",
    "  where population > ${range.min}\n",
    "  and   population < ${range.max}\n",
    "\"\"\".query[Country]\n",
    "\n",
    "populationIn(150000000 to 200000000).quick.unsafeRunSync"
   ]
  },
  {
   "cell_type": "code",
   "execution_count": 91,
   "metadata": {},
   "outputs": [
    {
     "data": {
      "text/plain": [
       "defined \u001b[32mfunction\u001b[39m \u001b[36mpopulationIn\u001b[39m"
      ]
     },
     "execution_count": 91,
     "metadata": {},
     "output_type": "execute_result"
    }
   ],
   "source": [
    "def populationIn(range: Range, codes: NonEmptyList[String]) = {\n",
    "  val q = fr\"\"\"\n",
    "    select code, name, population, gnp\n",
    "    from country\n",
    "    where population > ${range.min}\n",
    "    and   population < ${range.max}\n",
    "    and   \"\"\" ++ Fragments.in(fr\"code\", codes) // code IN (...)\n",
    "  q.query[Country]\n",
    "}"
   ]
  },
  {
   "cell_type": "code",
   "execution_count": 93,
   "metadata": {},
   "outputs": [
    {
     "name": "stdout",
     "output_type": "stream",
     "text": [
      "\u001b[34m  Country(BRA,Brazil,170115000,Some(776739.0))\u001b[0m\n",
      "\u001b[34m  Country(PAK,Pakistan,156483000,Some(61289.0))\u001b[0m\n",
      "\u001b[34m  Country(USA,United States,278357000,Some(8510700.0))\u001b[0m\n"
     ]
    }
   ],
   "source": [
    "populationIn(100000000 to 300000000, NonEmptyList.of(\"USA\", \"BRA\", \"PAK\", \"GBR\")).quick.unsafeRunSync"
   ]
  },
  {
   "cell_type": "markdown",
   "metadata": {},
   "source": [
    "# TYPEChECKING QUERIES"
   ]
  },
  {
   "cell_type": "code",
   "execution_count": 94,
   "metadata": {},
   "outputs": [
    {
     "data": {
      "text/plain": [
       "defined \u001b[32mfunction\u001b[39m \u001b[36mbiggerThan\u001b[39m"
      ]
     },
     "execution_count": 94,
     "metadata": {},
     "output_type": "execute_result"
    }
   ],
   "source": [
    "def biggerThan(minPop: Short) =\n",
    "  sql\"\"\"\n",
    "    select code, name, population, gnp, indepyear\n",
    "    from country\n",
    "    where population > $minPop\n",
    "  \"\"\".query[Country]"
   ]
  },
  {
   "cell_type": "code",
   "execution_count": 95,
   "metadata": {},
   "outputs": [
    {
     "name": "stdout",
     "output_type": "stream",
     "text": [
      "  Query0[$cmd93.cmd72.Country] defined at cmd93.sc:2\n",
      "  \u001b[0mselect code, name, population, gnp, indepyear\n",
      "  \u001b[0mfrom country\n",
      "  \u001b[0mwhere population > ?\n",
      "  \u001b[32m✓\u001b[0m SQL Compiles and TypeChecks\n",
      "  \u001b[31m✕\u001b[0m P01 Short  →  INTEGER (int4)\n",
      "    Short is not coercible to INTEGER (int4) according to the JDBC\n",
      "    specification. Expected schema type was SMALLINT.\n",
      "  \u001b[32m✓\u001b[0m C01 code       CHAR     (bpchar)  NOT NULL  →  String\n",
      "  \u001b[32m✓\u001b[0m C02 name       VARCHAR  (varchar) NOT NULL  →  String\n",
      "  \u001b[32m✓\u001b[0m C03 population INTEGER  (int4)    NOT NULL  →  Int\n",
      "  \u001b[31m✕\u001b[0m C04 gnp        NUMERIC  (numeric) NULL      →  Option[Double]\n",
      "    NUMERIC (numeric) is ostensibly coercible to Option[Double]\n",
      "    according to the JDBC specification but is not a recommended\n",
      "    target type. Expected schema type was FLOAT or DOUBLE.\n",
      "  \u001b[31m✕\u001b[0m C05 indepyear  SMALLINT (int2)    NULL      →  \n",
      "    Column is unused. Remove it from the SELECT statement.\n"
     ]
    }
   ],
   "source": [
    "biggerThan(0).check.unsafeRunSync"
   ]
  },
  {
   "cell_type": "code",
   "execution_count": 98,
   "metadata": {},
   "outputs": [
    {
     "name": "stdout",
     "output_type": "stream",
     "text": [
      "  Query0[String] defined at cmd97.sc:1\n",
      "  \u001b[0mselect name, population from country\n",
      "  \u001b[32m✓\u001b[0m SQL Compiles and TypeChecks\n",
      "  \u001b[32m✓\u001b[0m C01 name       VARCHAR (varchar) NOT NULL  →  String\n",
      "  \u001b[31m✕\u001b[0m C02 population INTEGER (int4)    NOT NULL  →  \n",
      "    Column is unused. Remove it from the SELECT statement.\n"
     ]
    }
   ],
   "source": [
    "sql\"select name, population from country\".query[String].check.unsafeRunSync"
   ]
  },
  {
   "cell_type": "markdown",
   "metadata": {},
   "source": [
    "# DDL, Inserting, and Updating"
   ]
  },
  {
   "cell_type": "code",
   "execution_count": 99,
   "metadata": {},
   "outputs": [
    {
     "data": {
      "text/plain": [
       "\u001b[36mdrop\u001b[39m: \u001b[32mConnectionIO\u001b[39m[\u001b[32mInt\u001b[39m] = \u001b[33mSuspend\u001b[39m(\n",
       "  \u001b[33mBracketCase\u001b[39m(\n",
       "    \u001b[33mSuspend\u001b[39m(\n",
       "      \u001b[33mPrepareStatement\u001b[39m(\n",
       "        \u001b[32m\"\"\"\n",
       "    DROP TABLE IF EXISTS person\n",
       "  \"\"\"\u001b[39m\n",
       "      )\n",
       "    ),\n",
       "    doobie.hi.connection$$$Lambda$3025/964657051@262b243f,\n",
       "    cats.effect.Bracket$$Lambda$3027/2114759256@26630c16\n",
       "  )\n",
       ")\n",
       "\u001b[36mcreate\u001b[39m: \u001b[32mConnectionIO\u001b[39m[\u001b[32mInt\u001b[39m] = \u001b[33mSuspend\u001b[39m(\n",
       "  \u001b[33mBracketCase\u001b[39m(\n",
       "    \u001b[33mSuspend\u001b[39m(\n",
       "      \u001b[33mPrepareStatement\u001b[39m(\n",
       "        \u001b[32m\"\"\"\n",
       "    CREATE TABLE person (\n",
       "      id   SERIAL,\n",
       "      name VARCHAR NOT NULL UNIQUE,\n",
       "      age  SMALLINT\n",
       "    )\n",
       "  \"\"\"\u001b[39m\n",
       "      )\n",
       "    ),\n",
       "    doobie.hi.connection$$$Lambda$3025/964657051@68ae5d59,\n",
       "    cats.effect.Bracket$$Lambda$3027/2114759256@3a6f3a3a\n",
       "  )\n",
       ")"
      ]
     },
     "execution_count": 99,
     "metadata": {},
     "output_type": "execute_result"
    }
   ],
   "source": [
    "val drop =\n",
    "  sql\"\"\"\n",
    "    DROP TABLE IF EXISTS person\n",
    "  \"\"\".update.run\n",
    "\n",
    "val create =\n",
    "  sql\"\"\"\n",
    "    CREATE TABLE person (\n",
    "      id   SERIAL,\n",
    "      name VARCHAR NOT NULL UNIQUE,\n",
    "      age  SMALLINT\n",
    "    )\n",
    "  \"\"\".update.run"
   ]
  },
  {
   "cell_type": "code",
   "execution_count": 100,
   "metadata": {},
   "outputs": [
    {
     "data": {
      "text/plain": [
       "\u001b[36mres99\u001b[39m: \u001b[32mInt\u001b[39m = \u001b[32m0\u001b[39m"
      ]
     },
     "execution_count": 100,
     "metadata": {},
     "output_type": "execute_result"
    }
   ],
   "source": [
    "(drop, create).mapN(_ + _).transact(xa).unsafeRunSync"
   ]
  },
  {
   "cell_type": "code",
   "execution_count": 101,
   "metadata": {},
   "outputs": [
    {
     "data": {
      "text/plain": [
       "defined \u001b[32mfunction\u001b[39m \u001b[36minsert1\u001b[39m"
      ]
     },
     "execution_count": 101,
     "metadata": {},
     "output_type": "execute_result"
    }
   ],
   "source": [
    "def insert1(name: String, age: Option[Short]): Update0 =\n",
    "  sql\"insert into person (name, age) values ($name, $age)\".update"
   ]
  },
  {
   "cell_type": "code",
   "execution_count": 102,
   "metadata": {},
   "outputs": [
    {
     "name": "stdout",
     "output_type": "stream",
     "text": [
      "\u001b[34m  1 row(s) updated\u001b[0m\n"
     ]
    },
    {
     "data": {
      "text/plain": [
       "\u001b[36mres101_0\u001b[39m: \u001b[32mInt\u001b[39m = \u001b[32m1\u001b[39m"
      ]
     },
     "execution_count": 102,
     "metadata": {},
     "output_type": "execute_result"
    }
   ],
   "source": [
    "insert1(\"Alice\", Some(12)).run.transact(xa).unsafeRunSync\n",
    "// res1: Int = 1\n",
    "insert1(\"Bob\", None).quick.unsafeRunSync // switch to YOLO mode\n",
    "//   1 row(s) updated"
   ]
  },
  {
   "cell_type": "code",
   "execution_count": 103,
   "metadata": {},
   "outputs": [
    {
     "data": {
      "text/plain": [
       "defined \u001b[32mclass\u001b[39m \u001b[36mPerson\u001b[39m"
      ]
     },
     "execution_count": 103,
     "metadata": {},
     "output_type": "execute_result"
    }
   ],
   "source": [
    "case class Person(id: Long, name: String, age: Option[Short])"
   ]
  },
  {
   "cell_type": "code",
   "execution_count": 104,
   "metadata": {},
   "outputs": [
    {
     "data": {
      "text/plain": [
       "defined \u001b[32mfunction\u001b[39m \u001b[36minsert2\u001b[39m"
      ]
     },
     "execution_count": 104,
     "metadata": {},
     "output_type": "execute_result"
    }
   ],
   "source": [
    "def insert2(name: String, age: Option[Short]): ConnectionIO[Person] =\n",
    "  for {\n",
    "    _  <- sql\"insert into person (name, age) values ($name, $age)\".update.run\n",
    "    id <- sql\"select lastval()\".query[Long].unique\n",
    "    p  <- sql\"select id, name, age from person where id = $id\".query[Person].unique\n",
    "  } yield p"
   ]
  },
  {
   "cell_type": "code",
   "execution_count": 105,
   "metadata": {},
   "outputs": [
    {
     "name": "stdout",
     "output_type": "stream",
     "text": [
      "\u001b[34m  Person(3,Jimmy,Some(42))\u001b[0m\n"
     ]
    }
   ],
   "source": [
    "insert2(\"Jimmy\", Some(42)).quick.unsafeRunSync\n"
   ]
  },
  {
   "cell_type": "code",
   "execution_count": 106,
   "metadata": {},
   "outputs": [
    {
     "data": {
      "text/plain": [
       "defined \u001b[32mfunction\u001b[39m \u001b[36minsert3\u001b[39m"
      ]
     },
     "execution_count": 106,
     "metadata": {},
     "output_type": "execute_result"
    }
   ],
   "source": [
    "def insert3(name: String, age: Option[Short]): ConnectionIO[Person] = {\n",
    "  sql\"insert into person (name, age) values ($name, $age)\"\n",
    "    .update\n",
    "    .withUniqueGeneratedKeys(\"id\", \"name\", \"age\")\n",
    "}"
   ]
  },
  {
   "cell_type": "code",
   "execution_count": 107,
   "metadata": {},
   "outputs": [
    {
     "name": "stdout",
     "output_type": "stream",
     "text": [
      "\u001b[34m  Person(4,Elvis,None)\u001b[0m\n"
     ]
    }
   ],
   "source": [
    "insert3(\"Elvis\", None).quick.unsafeRunSync"
   ]
  },
  {
   "cell_type": "code",
   "execution_count": 109,
   "metadata": {},
   "outputs": [
    {
     "data": {
      "text/plain": [
       "\u001b[36mres108\u001b[39m: \u001b[32mConnectionIO\u001b[39m[\u001b[32mList\u001b[39m[\u001b[32mString\u001b[39m]] = \u001b[33mSuspend\u001b[39m(\n",
       "  \u001b[33mBracketCase\u001b[39m(\n",
       "    \u001b[33mSuspend\u001b[39m(\n",
       "      \u001b[33mPrepareStatement\u001b[39m(\u001b[32m\"select name from country as C where C.code = SPA\"\u001b[39m)\n",
       "    ),\n",
       "    doobie.hi.connection$$$Lambda$3025/964657051@167ca9f,\n",
       "    cats.effect.Bracket$$Lambda$3027/2114759256@6a8d3d3e\n",
       "  )\n",
       ")"
      ]
     },
     "execution_count": 109,
     "metadata": {},
     "output_type": "execute_result"
    }
   ],
   "source": [
    "sql\"select name from country as C where C.code = SPA\".query[String].to[List]"
   ]
  },
  {
   "cell_type": "code",
   "execution_count": 110,
   "metadata": {},
   "outputs": [
    {
     "data": {
      "text/plain": [
       "\u001b[36mres109\u001b[39m: \u001b[32mConnectionIO\u001b[39m[\u001b[32mList\u001b[39m[\u001b[32mString\u001b[39m]] = \u001b[33mSuspend\u001b[39m(\n",
       "  \u001b[33mBracketCase\u001b[39m(\n",
       "    \u001b[33mSuspend\u001b[39m(\u001b[33mPrepareStatement\u001b[39m(\u001b[32m\"select code from country\"\u001b[39m)),\n",
       "    doobie.hi.connection$$$Lambda$3025/964657051@4be3a465,\n",
       "    cats.effect.Bracket$$Lambda$3027/2114759256@2b7467c9\n",
       "  )\n",
       ")"
      ]
     },
     "execution_count": 110,
     "metadata": {},
     "output_type": "execute_result"
    }
   ],
   "source": [
    "sql\"select code from country\".query[String].to[List]"
   ]
  },
  {
   "cell_type": "code",
   "execution_count": 120,
   "metadata": {},
   "outputs": [
    {
     "data": {
      "text/plain": [
       "\u001b[36mhan\u001b[39m: \u001b[32mLogHandler\u001b[39m = \u001b[33mLogHandler\u001b[39m(\n",
       "  doobie.util.log$LogHandler$$$Lambda$2795/2070485161@689fa92e\n",
       ")"
      ]
     },
     "execution_count": 120,
     "metadata": {},
     "output_type": "execute_result"
    }
   ],
   "source": [
    "implicit val han = LogHandler.jdkLogHandler"
   ]
  },
  {
   "cell_type": "code",
   "execution_count": 125,
   "metadata": {},
   "outputs": [
    {
     "data": {
      "text/plain": [
       "\u001b[36mfmquery\u001b[39m: \u001b[32mcats\u001b[39m.\u001b[32mfree\u001b[39m.\u001b[32mFree\u001b[39m[\u001b[32mfree\u001b[39m.\u001b[32mconnection\u001b[39m.\u001b[32mConnectionOp\u001b[39m, \u001b[32mList\u001b[39m[\u001b[32mString\u001b[39m]] = \u001b[33mFlatMapped\u001b[39m(\n",
       "  \u001b[33mSuspend\u001b[39m(\n",
       "    \u001b[33mBracketCase\u001b[39m(\n",
       "      \u001b[33mSuspend\u001b[39m(\n",
       "        \u001b[33mPrepareStatement\u001b[39m(\n",
       "          \u001b[32m\"select code from country where population > 100000000\"\u001b[39m\n",
       "        )\n",
       "      ),\n",
       "      doobie.hi.connection$$$Lambda$3025/964657051@2ad77508,\n",
       "      cats.effect.Bracket$$Lambda$3027/2114759256@514c0238\n",
       "    )\n",
       "  ),\n",
       "  ammonite.$sess.cmd124$Helper$$Lambda$4475/1530349478@7b0b1d57\n",
       ")"
      ]
     },
     "execution_count": 125,
     "metadata": {},
     "output_type": "execute_result"
    }
   ],
   "source": [
    "val fmquery = for {\n",
    "    codes <- sql\"select code from country where population > 100000000\".query[String].nel\n",
    "    name <- (fr\"select name from country as C where \"++\n",
    "        Fragments.in(fr\"C.code\", codes)).query[String].to[List]\n",
    "} yield name"
   ]
  },
  {
   "cell_type": "code",
   "execution_count": 127,
   "metadata": {},
   "outputs": [
    {
     "name": "stderr",
     "output_type": "stream",
     "text": [
      "May 03, 2020 1:55:45 PM doobie.util.log$LogHandler$ $anonfun$jdkLogHandler$1\n",
      "INFO: Successful Statement Execution:\n",
      "\n",
      "  select code from country where population > 100000000\n",
      "\n",
      " arguments = []\n",
      "   elapsed = 3 ms exec + 2 ms processing (5 ms total)\n",
      "          \n",
      "May 03, 2020 1:55:45 PM doobie.util.log$LogHandler$ $anonfun$jdkLogHandler$1\n",
      "INFO: Successful Statement Execution:\n",
      "\n",
      "  select name from country as C where  C.code IN (?, ?, ?, ?, ?, ?, ?, ?, ?, ?) \n",
      "\n",
      " arguments = [BGD, BRA, IDN, IND, JPN, CHN, NGA, PAK, RUS, USA]\n",
      "   elapsed = 2 ms exec + 0 ms processing (2 ms total)\n",
      "          \n"
     ]
    },
    {
     "name": "stdout",
     "output_type": "stream",
     "text": [
      "\u001b[34m  List(Bangladesh, Brazil, Indonesia, India, Japan, China, Nigeria, Pakistan, Russian Federation, United States)\u001b[0m\n"
     ]
    }
   ],
   "source": [
    "fmquery.quick.unsafeRunSync"
   ]
  },
  {
   "cell_type": "markdown",
   "metadata": {},
   "source": [
    "# Statement Fragments"
   ]
  },
  {
   "cell_type": "code",
   "execution_count": 128,
   "metadata": {},
   "outputs": [
    {
     "name": "stderr",
     "output_type": "stream",
     "text": [
      "May 03, 2020 1:57:30 PM doobie.util.log$LogHandler$ $anonfun$jdkLogHandler$1\n",
      "INFO: Successful Statement Execution:\n",
      "\n",
      "  select name from country where code = 'USA' \n",
      "\n",
      " arguments = []\n",
      "   elapsed = 3 ms exec + 0 ms processing (3 ms total)\n",
      "          \n"
     ]
    },
    {
     "name": "stdout",
     "output_type": "stream",
     "text": [
      "\u001b[34m  United States\u001b[0m\n"
     ]
    },
    {
     "data": {
      "text/plain": [
       "\u001b[36ma\u001b[39m: \u001b[32mFragment\u001b[39m = Fragment(\"select name from country \")\n",
       "\u001b[36mb\u001b[39m: \u001b[32mFragment\u001b[39m = Fragment(\"where code = 'USA' \")\n",
       "\u001b[36mc\u001b[39m: \u001b[32mFragment\u001b[39m = Fragment(\"select name from country where code = 'USA' \")"
      ]
     },
     "execution_count": 128,
     "metadata": {},
     "output_type": "execute_result"
    }
   ],
   "source": [
    "val a = fr\"select name from country\"\n",
    "// a: Fragment = Fragment(\"select name from country \")\n",
    "val b = fr\"where code = 'USA'\"\n",
    "// b: Fragment = Fragment(\"where code = 'USA' \")\n",
    "val c = a ++ b // concatenation by ++\n",
    "// c: Fragment = Fragment(\"select name from country where code = 'USA' \") // concatenation by ++\n",
    "c.query[String].unique.quick.unsafeRunSync\n",
    "//   United States"
   ]
  },
  {
   "cell_type": "code",
   "execution_count": 141,
   "metadata": {},
   "outputs": [
    {
     "name": "stderr",
     "output_type": "stream",
     "text": [
      "May 03, 2020 2:06:37 PM doobie.util.log$LogHandler$ $anonfun$jdkLogHandler$1\n",
      "INFO: Successful Statement Execution:\n",
      "\n",
      "  select name from country where code = 'FRA'\n",
      "\n",
      " arguments = []\n",
      "   elapsed = 2 ms exec + 0 ms processing (2 ms total)\n",
      "          \n"
     ]
    },
    {
     "data": {
      "text/plain": [
       "defined \u001b[32mfunction\u001b[39m \u001b[36mwhereCode\u001b[39m\n",
       "\u001b[36mfra\u001b[39m: \u001b[32mFragment\u001b[39m = Fragment(\"where code = ? \")\n",
       "\u001b[36mres140_2\u001b[39m: \u001b[32mString\u001b[39m = \u001b[32m\"France\"\u001b[39m"
      ]
     },
     "execution_count": 141,
     "metadata": {},
     "output_type": "execute_result"
    }
   ],
   "source": [
    "def whereCode(s: String) = fr\"where code = $s\"\n",
    "val fra = whereCode(\"FRA\")\n",
    "// fra: Fragment = Fragment(\"where code = ? \")\n",
    "//(fr\"select name from country\" ++ fra).query[String].quick.unsafeRunSync\n",
    " (sql\"select name from country where code = 'FRA'\").query[String].unique.transact(xa).unsafeRunSync"
   ]
  },
  {
   "cell_type": "code",
   "execution_count": 142,
   "metadata": {},
   "outputs": [
    {
     "name": "stderr",
     "output_type": "stream",
     "text": [
      "May 03, 2020 2:07:12 PM doobie.util.log$LogHandler$ $anonfun$jdkLogHandler$1\n",
      "INFO: Successful Statement Execution:\n",
      "\n",
      "  select count(*) from city \n",
      "\n",
      " arguments = []\n",
      "   elapsed = 3 ms exec + 0 ms processing (4 ms total)\n",
      "          \n"
     ]
    },
    {
     "name": "stdout",
     "output_type": "stream",
     "text": [
      "\u001b[34m  4079\u001b[0m\n"
     ]
    },
    {
     "data": {
      "text/plain": [
       "defined \u001b[32mfunction\u001b[39m \u001b[36mcount\u001b[39m"
      ]
     },
     "execution_count": 142,
     "metadata": {},
     "output_type": "execute_result"
    }
   ],
   "source": [
    "def count(table: String) = \n",
    "    (fr\"select count(*) from\" ++ \n",
    "      Fragment.const(table)\n",
    "    ).query[Int].unique\n",
    "count(\"city\").quick.unsafeRunSync"
   ]
  },
  {
   "cell_type": "code",
   "execution_count": 143,
   "metadata": {},
   "outputs": [
    {
     "data": {
      "text/plain": [
       "\u001b[36mres142_0\u001b[39m: \u001b[32mFragment\u001b[39m = Fragment(\"IN ( ? , ? , ? ) \")\n",
       "\u001b[36mres142_1\u001b[39m: \u001b[32mFragment\u001b[39m = Fragment(\"IN (?, ?, ?) \")"
      ]
     },
     "execution_count": 143,
     "metadata": {},
     "output_type": "execute_result"
    }
   ],
   "source": [
    "fr\"IN (\" ++ List(1, 2, 3).map(n => fr\"$n\").intercalate(fr\",\") ++ fr\")\"\n",
    "// res3: Fragment = Fragment(\"IN ( ? , ? , ? ) \")\n",
    "fr0\"IN (\" ++ List(1, 2, 3).map(n => fr0\"$n\").intercalate(fr\",\") ++ fr\")\"\n",
    "// res4: Fragment = Fragment(\"IN (?, ?, ?) \")"
   ]
  },
  {
   "cell_type": "markdown",
   "metadata": {},
   "source": [
    "# Error handling"
   ]
  },
  {
   "cell_type": "code",
   "execution_count": 144,
   "metadata": {},
   "outputs": [
    {
     "name": "stderr",
     "output_type": "stream",
     "text": [
      "May 03, 2020 2:18:41 PM doobie.util.log$LogHandler$ $anonfun$jdkLogHandler$1\n",
      "INFO: Successful Statement Execution:\n",
      "\n",
      "  DROP TABLE IF EXISTS person\n",
      "\n",
      " arguments = []\n",
      "   elapsed = 12 ms exec + 0 ms processing (12 ms total)\n",
      "          \n"
     ]
    },
    {
     "name": "stdout",
     "output_type": "stream",
     "text": [
      "\u001b[34m  0 row(s) updated\u001b[0m\n"
     ]
    },
    {
     "name": "stderr",
     "output_type": "stream",
     "text": [
      "May 03, 2020 2:18:42 PM doobie.util.log$LogHandler$ $anonfun$jdkLogHandler$1\n",
      "INFO: Successful Statement Execution:\n",
      "\n",
      "  CREATE TABLE person (\n",
      "            id    SERIAL,\n",
      "            name  VARCHAR NOT NULL UNIQUE\n",
      "          )\n",
      "\n",
      " arguments = []\n",
      "   elapsed = 11 ms exec + 0 ms processing (11 ms total)\n",
      "          \n"
     ]
    },
    {
     "name": "stdout",
     "output_type": "stream",
     "text": [
      "\u001b[34m  0 row(s) updated\u001b[0m\n"
     ]
    }
   ],
   "source": [
    "List(\n",
    "  sql\"\"\"DROP TABLE IF EXISTS person\"\"\",\n",
    "  sql\"\"\"CREATE TABLE person (\n",
    "          id    SERIAL,\n",
    "          name  VARCHAR NOT NULL UNIQUE\n",
    "        )\"\"\"\n",
    ").traverse(_.update.quick).void.unsafeRunSync"
   ]
  },
  {
   "cell_type": "code",
   "execution_count": 145,
   "metadata": {},
   "outputs": [
    {
     "data": {
      "text/plain": [
       "defined \u001b[32mclass\u001b[39m \u001b[36mPerson\u001b[39m\n",
       "defined \u001b[32mfunction\u001b[39m \u001b[36minsert\u001b[39m"
      ]
     },
     "execution_count": 145,
     "metadata": {},
     "output_type": "execute_result"
    }
   ],
   "source": [
    "case class Person(id: Int, name: String)\n",
    "\n",
    "def insert(s: String): ConnectionIO[Person] = {\n",
    "  sql\"insert into person (name) values ($s)\"\n",
    "    .update\n",
    "    .withUniqueGeneratedKeys(\"id\", \"name\")\n",
    "}"
   ]
  },
  {
   "cell_type": "code",
   "execution_count": 146,
   "metadata": {},
   "outputs": [
    {
     "name": "stdout",
     "output_type": "stream",
     "text": [
      "\u001b[34m  Person(1,bob)\u001b[0m\n"
     ]
    }
   ],
   "source": [
    "insert(\"bob\").quick.unsafeRunSync"
   ]
  },
  {
   "cell_type": "code",
   "execution_count": 148,
   "metadata": {},
   "outputs": [
    {
     "name": "stdout",
     "output_type": "stream",
     "text": [
      "ERROR: duplicate key value violates unique constraint \"person_name_key\"\n",
      "  Detail: Key (name)=(bob) already exists.\n",
      "23505\n"
     ]
    }
   ],
   "source": [
    "try {\n",
    "  insert(\"bob\").quick.unsafeRunSync\n",
    "} catch {\n",
    "  case e: java.sql.SQLException =>\n",
    "    println(e.getMessage)\n",
    "    println(e.getSQLState)\n",
    "}"
   ]
  },
  {
   "cell_type": "code",
   "execution_count": 150,
   "metadata": {},
   "outputs": [
    {
     "data": {
      "text/plain": [
       "\u001b[32mimport \u001b[39m\u001b[36mdoobie.postgres._\n",
       "\n",
       "\u001b[39m\n",
       "defined \u001b[32mfunction\u001b[39m \u001b[36msafeInsert\u001b[39m"
      ]
     },
     "execution_count": 150,
     "metadata": {},
     "output_type": "execute_result"
    }
   ],
   "source": [
    "import doobie.postgres._\n",
    "\n",
    "def safeInsert(s: String): ConnectionIO[Either[String, Person]] =\n",
    "  insert(s).attemptSomeSqlState {\n",
    "    case sqlstate.class23.UNIQUE_VIOLATION => \"Oops!\"\n",
    "  }"
   ]
  },
  {
   "cell_type": "code",
   "execution_count": 151,
   "metadata": {},
   "outputs": [
    {
     "name": "stdout",
     "output_type": "stream",
     "text": [
      "\u001b[34m  Left(Oops!)\u001b[0m\n"
     ]
    }
   ],
   "source": [
    "safeInsert(\"bob\").quick.unsafeRunSync"
   ]
  },
  {
   "cell_type": "code",
   "execution_count": 152,
   "metadata": {},
   "outputs": [
    {
     "name": "stdout",
     "output_type": "stream",
     "text": [
      "\u001b[34m  Right(Person(5,juan))\u001b[0m\n"
     ]
    }
   ],
   "source": [
    "safeInsert(\"juan\").quick.unsafeRunSync"
   ]
  },
  {
   "cell_type": "markdown",
   "metadata": {},
   "source": [
    "# SQL Arrays"
   ]
  },
  {
   "cell_type": "code",
   "execution_count": 155,
   "metadata": {},
   "outputs": [
    {
     "data": {
      "text/plain": [
       "\u001b[32mimport \u001b[39m\u001b[36mdoobie.postgres._\n",
       "\u001b[39m\n",
       "\u001b[32mimport \u001b[39m\u001b[36mdoobie.postgres.implicits._\u001b[39m"
      ]
     },
     "execution_count": 155,
     "metadata": {},
     "output_type": "execute_result"
    }
   ],
   "source": [
    "import doobie.postgres._\n",
    "import doobie.postgres.implicits._"
   ]
  },
  {
   "cell_type": "code",
   "execution_count": 156,
   "metadata": {},
   "outputs": [
    {
     "data": {
      "text/plain": [
       "\u001b[36mdrop\u001b[39m: \u001b[32mIO\u001b[39m[\u001b[32mUnit\u001b[39m] = \u001b[33mAsync\u001b[39m(\n",
       "  cats.effect.internals.IOBracket$$$Lambda$2863/259606418@37459ed1,\n",
       "  false\n",
       ")\n",
       "\u001b[36mcreate\u001b[39m: \u001b[32mIO\u001b[39m[\u001b[32mUnit\u001b[39m] = \u001b[33mAsync\u001b[39m(\n",
       "  cats.effect.internals.IOBracket$$$Lambda$2863/259606418@7b743345,\n",
       "  false\n",
       ")"
      ]
     },
     "execution_count": 156,
     "metadata": {},
     "output_type": "execute_result"
    }
   ],
   "source": [
    "val drop = sql\"DROP TABLE IF EXISTS person\".update.quick\n",
    "\n",
    "val create =\n",
    "  sql\"\"\"\n",
    "    CREATE TABLE person (\n",
    "      id   SERIAL,\n",
    "      name VARCHAR   NOT NULL UNIQUE,\n",
    "      pets VARCHAR[] NOT NULL\n",
    "    )\n",
    "  \"\"\".update.quick"
   ]
  },
  {
   "cell_type": "code",
   "execution_count": 157,
   "metadata": {},
   "outputs": [
    {
     "name": "stderr",
     "output_type": "stream",
     "text": [
      "May 03, 2020 4:44:17 PM doobie.util.log$LogHandler$ $anonfun$jdkLogHandler$1\n",
      "INFO: Successful Statement Execution:\n",
      "\n",
      "  DROP TABLE IF EXISTS person\n",
      "\n",
      " arguments = []\n",
      "   elapsed = 3 ms exec + 0 ms processing (3 ms total)\n",
      "          \n"
     ]
    },
    {
     "name": "stdout",
     "output_type": "stream",
     "text": [
      "\u001b[34m  0 row(s) updated\u001b[0m\n"
     ]
    },
    {
     "name": "stderr",
     "output_type": "stream",
     "text": [
      "May 03, 2020 4:44:17 PM doobie.util.log$LogHandler$ $anonfun$jdkLogHandler$1\n",
      "INFO: Successful Statement Execution:\n",
      "\n",
      "      CREATE TABLE person (\n",
      "        id   SERIAL,\n",
      "        name VARCHAR   NOT NULL UNIQUE,\n",
      "        pets VARCHAR[] NOT NULL\n",
      "      )\n",
      "    \n",
      "\n",
      " arguments = []\n",
      "   elapsed = 19 ms exec + 0 ms processing (19 ms total)\n",
      "          \n"
     ]
    },
    {
     "name": "stdout",
     "output_type": "stream",
     "text": [
      "\u001b[34m  0 row(s) updated\u001b[0m\n"
     ]
    }
   ],
   "source": [
    "(drop *> create).unsafeRunSync"
   ]
  },
  {
   "cell_type": "code",
   "execution_count": 158,
   "metadata": {},
   "outputs": [
    {
     "data": {
      "text/plain": [
       "defined \u001b[32mclass\u001b[39m \u001b[36mPerson\u001b[39m\n",
       "defined \u001b[32mfunction\u001b[39m \u001b[36minsert\u001b[39m"
      ]
     },
     "execution_count": 158,
     "metadata": {},
     "output_type": "execute_result"
    }
   ],
   "source": [
    "case class Person(id: Long, name: String, pets: List[String])\n",
    "\n",
    "def insert(name: String, pets: List[String]): ConnectionIO[Person] = {\n",
    "  sql\"insert into person (name, pets) values ($name, $pets)\"\n",
    "    .update\n",
    "    .withUniqueGeneratedKeys(\"id\", \"name\", \"pets\")\n",
    "}"
   ]
  },
  {
   "cell_type": "code",
   "execution_count": 159,
   "metadata": {},
   "outputs": [
    {
     "name": "stdout",
     "output_type": "stream",
     "text": [
      "\u001b[34m  Person(1,Bob,List(Nixon, Slappy))\u001b[0m\n",
      "\u001b[34m  Person(2,Alice,List())\u001b[0m\n"
     ]
    }
   ],
   "source": [
    "insert(\"Bob\", List(\"Nixon\", \"Slappy\")).quick.unsafeRunSync\n",
    "//   Person(1,Bob,List(Nixon, Slappy))\n",
    "insert(\"Alice\", Nil).quick.unsafeRunSync"
   ]
  },
  {
   "cell_type": "markdown",
   "metadata": {},
   "source": [
    "# Unit Testing"
   ]
  },
  {
   "cell_type": "code",
   "execution_count": 163,
   "metadata": {},
   "outputs": [
    {
     "name": "stderr",
     "output_type": "stream",
     "text": [
      "Downloading https://repo1.maven.org/maven2/org/tpolecat/doobie-scalatest_2.13/0.8.8/doobie-scalatest_2.13-0.8.8.pom\n",
      "Downloaded https://repo1.maven.org/maven2/org/tpolecat/doobie-scalatest_2.13/0.8.8/doobie-scalatest_2.13-0.8.8.pom\n",
      "Downloading https://repo1.maven.org/maven2/org/tpolecat/doobie-scalatest_2.13/0.8.8/doobie-scalatest_2.13-0.8.8-sources.jar\n",
      "Downloading https://repo1.maven.org/maven2/org/tpolecat/doobie-scalatest_2.13/0.8.8/doobie-scalatest_2.13-0.8.8.jar\n",
      "Downloaded https://repo1.maven.org/maven2/org/tpolecat/doobie-scalatest_2.13/0.8.8/doobie-scalatest_2.13-0.8.8.jar\n",
      "Downloaded https://repo1.maven.org/maven2/org/tpolecat/doobie-scalatest_2.13/0.8.8/doobie-scalatest_2.13-0.8.8-sources.jar\n"
     ]
    },
    {
     "data": {
      "text/plain": [
       "\u001b[32mimport \u001b[39m\u001b[36m$ivy.$                               \n",
       "\u001b[39m\n",
       "\u001b[32mimport \u001b[39m\u001b[36m$ivy.$                                     \u001b[39m"
      ]
     },
     "execution_count": 163,
     "metadata": {},
     "output_type": "execute_result"
    }
   ],
   "source": [
    "import $ivy.`org.scalatest::scalatest:3.1.1`\n",
    "import $ivy.`org.tpolecat::doobie-scalatest:0.8.8`"
   ]
  },
  {
   "cell_type": "code",
   "execution_count": 164,
   "metadata": {},
   "outputs": [
    {
     "data": {
      "text/plain": [
       "defined \u001b[32mclass\u001b[39m \u001b[36mCountry\u001b[39m\n",
       "\u001b[36mtrivial\u001b[39m: \u001b[32mQuery0\u001b[39m[(\u001b[32mInt\u001b[39m, \u001b[32mString\u001b[39m)] = doobie.util.query$Query$$anon$3@328ab0ef\n",
       "defined \u001b[32mfunction\u001b[39m \u001b[36mbiggerThan\u001b[39m\n",
       "defined \u001b[32mfunction\u001b[39m \u001b[36mupdate\u001b[39m"
      ]
     },
     "execution_count": 164,
     "metadata": {},
     "output_type": "execute_result"
    }
   ],
   "source": [
    "case class Country(code: Int, name: String, pop: Int, gnp: Double)\n",
    "\n",
    "val trivial =\n",
    "  sql\"\"\"\n",
    "    select 42, 'foo'::varchar\n",
    "  \"\"\".query[(Int, String)]\n",
    "\n",
    "def biggerThan(minPop: Short) =\n",
    "  sql\"\"\"\n",
    "    select code, name, population, gnp, indepyear\n",
    "    from country\n",
    "    where population > $minPop\n",
    "  \"\"\".query[Country]\n",
    "\n",
    "def update(oldName: String, newName: String) =\n",
    "  sql\"\"\"\n",
    "    update country set name = $newName where name = $oldName\n",
    "  \"\"\".update"
   ]
  },
  {
   "cell_type": "code",
   "execution_count": 165,
   "metadata": {},
   "outputs": [
    {
     "data": {
      "text/plain": [
       "\u001b[32mimport \u001b[39m\u001b[36morg.scalatest._\n",
       "\n",
       "\u001b[39m\n",
       "defined \u001b[32mclass\u001b[39m \u001b[36mAnalysisTestScalaCheck\u001b[39m"
      ]
     },
     "execution_count": 165,
     "metadata": {},
     "output_type": "execute_result"
    }
   ],
   "source": [
    "import org.scalatest._\n",
    "\n",
    "class AnalysisTestScalaCheck extends FunSuite with Matchers with doobie.scalatest.IOChecker {\n",
    "\n",
    "  override val colors = doobie.util.Colors.None // just for docs\n",
    "\n",
    "  val transactor = Transactor.fromDriverManager[IO](\n",
    "    \"org.postgresql.Driver\", \"jdbc:postgresql:world\", \"postgres\", \"\"\n",
    "  )\n",
    "\n",
    "  test(\"trivial\")    { check(trivial)        }\n",
    "  test(\"biggerThan\") { check(biggerThan(0))  }\n",
    "  test(\"update\")     { check(update(\"\", \"\")) }\n",
    "\n",
    "}"
   ]
  },
  {
   "cell_type": "code",
   "execution_count": 167,
   "metadata": {},
   "outputs": [
    {
     "name": "stdout",
     "output_type": "stream",
     "text": [
      "\u001b[32mcmd164$Helper$AnalysisTestScalaCheck:\u001b[0m\n",
      "\u001b[32m- trivial\u001b[0m\n",
      "\u001b[31m- biggerThan *** FAILED ***\u001b[0m\n",
      "\u001b[31m  Query0[cmd164.cmd163.Country] defined at cmd163.sc:9\u001b[0m\n",
      "\u001b[31m    select code, name, population, gnp, indepyear\u001b[0m\n",
      "\u001b[31m    from country\u001b[0m\n",
      "\u001b[31m    where population > ?\u001b[0m\n",
      "\u001b[31m    ✓ SQL Compiles and TypeChecks\u001b[0m\n",
      "\u001b[31m    ✕ P01 Short  →  INTEGER (int4)\u001b[0m\n",
      "\u001b[31m      Short is not coercible to INTEGER (int4) according to the JDBC\u001b[0m\n",
      "\u001b[31m      specification. Expected schema type was SMALLINT.\u001b[0m\n",
      "\u001b[31m    ✕ C01 code       CHAR     (bpchar)  NOT NULL  →  Int\u001b[0m\n",
      "\u001b[31m      CHAR (bpchar) is ostensibly coercible to Int according to the JDBC\u001b[0m\n",
      "\u001b[31m      specification but is not a recommended target type. Expected\u001b[0m\n",
      "\u001b[31m      schema type was INTEGER.\u001b[0m\n",
      "\u001b[31m    ✓ C02 name       VARCHAR  (varchar) NOT NULL  →  String\u001b[0m\n",
      "\u001b[31m    ✓ C03 population INTEGER  (int4)    NOT NULL  →  Int\u001b[0m\n",
      "\u001b[31m    ✕ C04 gnp        NUMERIC  (numeric) NULL      →  Double\u001b[0m\n",
      "\u001b[31m      NUMERIC (numeric) is ostensibly coercible to Double according to\u001b[0m\n",
      "\u001b[31m      the JDBC specification but is not a recommended target type.\u001b[0m\n",
      "\u001b[31m      Expected schema type was FLOAT or DOUBLE.\u001b[0m\n",
      "\u001b[31m      Reading a NULL value into Double will result in a runtime failure.\u001b[0m\n",
      "\u001b[31m      Fix this by making the schema type NOT NULL or by changing the\u001b[0m\n",
      "\u001b[31m      Scala type to Option[Double]\u001b[0m\n",
      "\u001b[31m    ✕ C05 indepyear  SMALLINT (int2)    NULL      →  \u001b[0m\n",
      "\u001b[31m      Column is unused. Remove it from the SELECT statement. (Checker.scala:56)\u001b[0m\n",
      "\u001b[32m- update\u001b[0m\n"
     ]
    }
   ],
   "source": [
    "(new AnalysisTestScalaCheck).execute()"
   ]
  },
  {
   "cell_type": "markdown",
   "metadata": {},
   "source": [
    "# Managing Connections"
   ]
  },
  {
   "cell_type": "code",
   "execution_count": 168,
   "metadata": {},
   "outputs": [
    {
     "name": "stderr",
     "output_type": "stream",
     "text": [
      "Downloading https://repo1.maven.org/maven2/org/tpolecat/doobie-hikari_2.13/0.8.8/doobie-hikari_2.13-0.8.8.pom\n",
      "Downloaded https://repo1.maven.org/maven2/org/tpolecat/doobie-hikari_2.13/0.8.8/doobie-hikari_2.13-0.8.8.pom\n",
      "Downloading https://repo1.maven.org/maven2/com/zaxxer/HikariCP/3.4.1/HikariCP-3.4.1.pom\n",
      "Downloaded https://repo1.maven.org/maven2/com/zaxxer/HikariCP/3.4.1/HikariCP-3.4.1.pom\n",
      "Downloading https://repo1.maven.org/maven2/com/zaxxer/HikariCP/3.4.1/HikariCP-3.4.1-sources.jar\n",
      "Downloading https://repo1.maven.org/maven2/org/tpolecat/doobie-hikari_2.13/0.8.8/doobie-hikari_2.13-0.8.8.jar\n",
      "Downloading https://repo1.maven.org/maven2/com/zaxxer/HikariCP/3.4.1/HikariCP-3.4.1.jar\n",
      "Downloading https://repo1.maven.org/maven2/org/tpolecat/doobie-hikari_2.13/0.8.8/doobie-hikari_2.13-0.8.8-sources.jar\n",
      "Downloaded https://repo1.maven.org/maven2/org/tpolecat/doobie-hikari_2.13/0.8.8/doobie-hikari_2.13-0.8.8-sources.jar\n",
      "Downloaded https://repo1.maven.org/maven2/org/tpolecat/doobie-hikari_2.13/0.8.8/doobie-hikari_2.13-0.8.8.jar\n",
      "Downloaded https://repo1.maven.org/maven2/com/zaxxer/HikariCP/3.4.1/HikariCP-3.4.1-sources.jar\n",
      "Downloaded https://repo1.maven.org/maven2/com/zaxxer/HikariCP/3.4.1/HikariCP-3.4.1.jar\n"
     ]
    },
    {
     "data": {
      "text/plain": [
       "\u001b[32mimport \u001b[39m\u001b[36m$ivy.$                                  \u001b[39m"
      ]
     },
     "execution_count": 168,
     "metadata": {},
     "output_type": "execute_result"
    }
   ],
   "source": [
    "import $ivy.`org.tpolecat::doobie-hikari:0.8.8`"
   ]
  },
  {
   "cell_type": "code",
   "execution_count": 169,
   "metadata": {},
   "outputs": [
    {
     "data": {
      "text/plain": [
       "\u001b[32mimport \u001b[39m\u001b[36mdoobie.hikari._\u001b[39m"
      ]
     },
     "execution_count": 169,
     "metadata": {},
     "output_type": "execute_result"
    }
   ],
   "source": [
    "import doobie.hikari._"
   ]
  },
  {
   "cell_type": "code",
   "execution_count": 173,
   "metadata": {},
   "outputs": [
    {
     "data": {
      "text/plain": [
       "\u001b[36mtransactor\u001b[39m: \u001b[32mResource\u001b[39m[\u001b[32mIO\u001b[39m, \u001b[32mHikariTransactor\u001b[39m[\u001b[32mIO\u001b[39m]] = \u001b[33mBind\u001b[39m(\n",
       "  \u001b[33mBind\u001b[39m(\n",
       "    \u001b[33mAllocate\u001b[39m(\n",
       "      \u001b[33mMap\u001b[39m(\n",
       "        \u001b[33mDelay\u001b[39m(doobie.util.ExecutionContexts$$$Lambda$4834/1654447853@7b7aa543),\n",
       "        scala.Function1$$Lambda$332/1620823990@447296e9,\n",
       "        \u001b[32m1\u001b[39m\n",
       "      )\n",
       "    ),\n",
       "    cats.effect.Resource$$Lambda$2919/2101121789@5e6e8cbb\n",
       "  ),\n",
       "  ammonite.$sess.cmd172$Helper$$Lambda$4861/981580907@6b26885d\n",
       ")"
      ]
     },
     "execution_count": 173,
     "metadata": {},
     "output_type": "execute_result"
    }
   ],
   "source": [
    "val transactor: Resource[IO, HikariTransactor[IO]] =\n",
    "    for {\n",
    "      ce <- ExecutionContexts.fixedThreadPool[IO](32) // our connect EC\n",
    "      be <- Blocker[IO]    // our blocking EC\n",
    "      xa <- HikariTransactor.newHikariTransactor[IO](\n",
    "          \"org.postgresql.Driver\",     // driver classname\n",
    "          \"jdbc:postgresql:world\",     // connect URL (driver-specific)\n",
    "          \"postgres\",                  // user\n",
    "          \"\",                          // password\n",
    "          ce,                          // await connection here\n",
    "          be                           // execute JDBC operations here\n",
    "            )\n",
    "    } yield xa"
   ]
  },
  {
   "cell_type": "code",
   "execution_count": 176,
   "metadata": {},
   "outputs": [
    {
     "name": "stderr",
     "output_type": "stream",
     "text": [
      "May 03, 2020 5:12:33 PM doobie.util.log$LogHandler$ $anonfun$jdkLogHandler$1\n",
      "INFO: Successful Statement Execution:\n",
      "\n",
      "  select 42\n",
      "\n",
      " arguments = []\n",
      "   elapsed = 1 ms exec + 0 ms processing (1 ms total)\n",
      "          \n"
     ]
    },
    {
     "name": "stdout",
     "output_type": "stream",
     "text": [
      "42\n"
     ]
    },
    {
     "data": {
      "text/plain": [
       "\u001b[36mres175\u001b[39m: \u001b[32mExitCode\u001b[39m = \u001b[33mExitCode\u001b[39m(\u001b[32m0\u001b[39m)"
      ]
     },
     "execution_count": 176,
     "metadata": {},
     "output_type": "execute_result"
    }
   ],
   "source": [
    "transactor.use { xa =>\n",
    "\n",
    "      // Construct and run your server here!\n",
    "      for {\n",
    "        n <- sql\"select 42\".query[Int].unique.transact(xa)\n",
    "        _ <- IO(println(n))\n",
    "      } yield ExitCode.Success\n",
    "\n",
    "    }.unsafeRunSync"
   ]
  },
  {
   "cell_type": "markdown",
   "metadata": {},
   "source": [
    "# Quill Integration"
   ]
  },
  {
   "cell_type": "code",
   "execution_count": 178,
   "metadata": {},
   "outputs": [
    {
     "name": "stderr",
     "output_type": "stream",
     "text": [
      "Downloading https://repo1.maven.org/maven2/io/getquill/quill-jdbc_2.13/3.5.1/quill-jdbc_2.13-3.5.1.pom\n",
      "Downloaded https://repo1.maven.org/maven2/io/getquill/quill-jdbc_2.13/3.5.1/quill-jdbc_2.13-3.5.1.pom\n",
      "Downloading https://repo1.maven.org/maven2/org/scala-lang/modules/scala-collection-compat_2.13/2.1.3/scala-collection-compat_2.13-2.1.3.pom\n",
      "Downloading https://repo1.maven.org/maven2/io/getquill/quill-sql_2.13/3.5.1/quill-sql_2.13-3.5.1.pom\n",
      "Downloading https://repo1.maven.org/maven2/com/zaxxer/HikariCP/3.4.2/HikariCP-3.4.2.pom\n",
      "Downloaded https://repo1.maven.org/maven2/io/getquill/quill-sql_2.13/3.5.1/quill-sql_2.13-3.5.1.pom\n",
      "Downloaded https://repo1.maven.org/maven2/com/zaxxer/HikariCP/3.4.2/HikariCP-3.4.2.pom\n",
      "Downloaded https://repo1.maven.org/maven2/org/scala-lang/modules/scala-collection-compat_2.13/2.1.3/scala-collection-compat_2.13-2.1.3.pom\n",
      "Downloading https://repo1.maven.org/maven2/io/getquill/quill-core_2.13/3.5.1/quill-core_2.13-3.5.1.pom\n",
      "Downloading https://repo1.maven.org/maven2/com/github/vertical-blank/scala-sql-formatter_2.13/1.0.1/scala-sql-formatter_2.13-1.0.1.pom\n",
      "Downloaded https://repo1.maven.org/maven2/com/github/vertical-blank/scala-sql-formatter_2.13/1.0.1/scala-sql-formatter_2.13-1.0.1.pom\n",
      "Downloaded https://repo1.maven.org/maven2/io/getquill/quill-core_2.13/3.5.1/quill-core_2.13-3.5.1.pom\n",
      "Downloading https://repo1.maven.org/maven2/com/github/vertical-blank/sql-formatter/1.0/sql-formatter-1.0.pom\n",
      "Downloaded https://repo1.maven.org/maven2/com/github/vertical-blank/sql-formatter/1.0/sql-formatter-1.0.pom\n",
      "Downloading https://repo1.maven.org/maven2/com/zaxxer/HikariCP/3.4.2/HikariCP-3.4.2.jar\n",
      "Downloading https://repo1.maven.org/maven2/org/scala-lang/modules/scala-collection-compat_2.13/2.1.3/scala-collection-compat_2.13-2.1.3.jar\n",
      "Downloading https://repo1.maven.org/maven2/io/getquill/quill-core_2.13/3.5.1/quill-core_2.13-3.5.1.jar\n",
      "Downloading https://repo1.maven.org/maven2/com/github/vertical-blank/sql-formatter/1.0/sql-formatter-1.0.jar\n",
      "Downloading https://repo1.maven.org/maven2/io/getquill/quill-sql_2.13/3.5.1/quill-sql_2.13-3.5.1.jar\n",
      "Downloaded https://repo1.maven.org/maven2/org/scala-lang/modules/scala-collection-compat_2.13/2.1.3/scala-collection-compat_2.13-2.1.3.jar\n",
      "Downloading https://repo1.maven.org/maven2/io/getquill/quill-jdbc_2.13/3.5.1/quill-jdbc_2.13-3.5.1.jar\n",
      "Downloading https://repo1.maven.org/maven2/com/github/vertical-blank/sql-formatter/1.0/sql-formatter-1.0-sources.jar\n",
      "Downloaded https://repo1.maven.org/maven2/com/github/vertical-blank/sql-formatter/1.0/sql-formatter-1.0-sources.jar\n",
      "Downloading https://repo1.maven.org/maven2/io/getquill/quill-sql_2.13/3.5.1/quill-sql_2.13-3.5.1-sources.jar\n",
      "Downloaded https://repo1.maven.org/maven2/com/github/vertical-blank/sql-formatter/1.0/sql-formatter-1.0.jar\n",
      "Downloading https://repo1.maven.org/maven2/com/github/vertical-blank/scala-sql-formatter_2.13/1.0.1/scala-sql-formatter_2.13-1.0.1-sources.jar\n",
      "Downloaded https://repo1.maven.org/maven2/io/getquill/quill-sql_2.13/3.5.1/quill-sql_2.13-3.5.1-sources.jar\n",
      "Downloading https://repo1.maven.org/maven2/io/getquill/quill-jdbc_2.13/3.5.1/quill-jdbc_2.13-3.5.1-sources.jar\n",
      "Downloaded https://repo1.maven.org/maven2/com/github/vertical-blank/scala-sql-formatter_2.13/1.0.1/scala-sql-formatter_2.13-1.0.1-sources.jar\n",
      "Downloading https://repo1.maven.org/maven2/com/github/vertical-blank/scala-sql-formatter_2.13/1.0.1/scala-sql-formatter_2.13-1.0.1.jar\n",
      "Downloaded https://repo1.maven.org/maven2/com/github/vertical-blank/scala-sql-formatter_2.13/1.0.1/scala-sql-formatter_2.13-1.0.1.jar\n",
      "Downloading https://repo1.maven.org/maven2/org/scala-lang/modules/scala-collection-compat_2.13/2.1.3/scala-collection-compat_2.13-2.1.3-sources.jar\n",
      "Downloaded https://repo1.maven.org/maven2/io/getquill/quill-jdbc_2.13/3.5.1/quill-jdbc_2.13-3.5.1.jar\n",
      "Downloading https://repo1.maven.org/maven2/com/zaxxer/HikariCP/3.4.2/HikariCP-3.4.2-sources.jar\n",
      "Downloaded https://repo1.maven.org/maven2/io/getquill/quill-jdbc_2.13/3.5.1/quill-jdbc_2.13-3.5.1-sources.jar\n",
      "Downloading https://repo1.maven.org/maven2/io/getquill/quill-core_2.13/3.5.1/quill-core_2.13-3.5.1-sources.jar\n",
      "Downloaded https://repo1.maven.org/maven2/org/scala-lang/modules/scala-collection-compat_2.13/2.1.3/scala-collection-compat_2.13-2.1.3-sources.jar\n",
      "Downloaded https://repo1.maven.org/maven2/io/getquill/quill-core_2.13/3.5.1/quill-core_2.13-3.5.1-sources.jar\n",
      "Downloaded https://repo1.maven.org/maven2/com/zaxxer/HikariCP/3.4.2/HikariCP-3.4.2-sources.jar\n",
      "Downloaded https://repo1.maven.org/maven2/com/zaxxer/HikariCP/3.4.2/HikariCP-3.4.2.jar\n",
      "Downloaded https://repo1.maven.org/maven2/io/getquill/quill-sql_2.13/3.5.1/quill-sql_2.13-3.5.1.jar\n",
      "Downloaded https://repo1.maven.org/maven2/io/getquill/quill-core_2.13/3.5.1/quill-core_2.13-3.5.1.jar\n"
     ]
    },
    {
     "data": {
      "text/plain": [
       "\u001b[32mimport \u001b[39m\u001b[36m$ivy.$                                 \n",
       "\u001b[39m\n",
       "\u001b[32mimport \u001b[39m\u001b[36m$ivy.$                              \u001b[39m"
      ]
     },
     "execution_count": 178,
     "metadata": {},
     "output_type": "execute_result"
    }
   ],
   "source": [
    "import $ivy.`org.tpolecat::doobie-quill:0.8.8`\n",
    "import $ivy.`io.getquill::quill-jdbc:3.5.1`"
   ]
  },
  {
   "cell_type": "code",
   "execution_count": 182,
   "metadata": {},
   "outputs": [
    {
     "data": {
      "text/plain": [
       "\u001b[32mimport \u001b[39m\u001b[36m_root_.io.getquill.{ idiom => _, _ }\n",
       "\u001b[39m\n",
       "\u001b[32mimport \u001b[39m\u001b[36mdoobie.quill.DoobieContext\u001b[39m"
      ]
     },
     "execution_count": 182,
     "metadata": {},
     "output_type": "execute_result"
    }
   ],
   "source": [
    "import _root_.io.getquill.{ idiom => _, _ }\n",
    "import doobie.quill.DoobieContext"
   ]
  },
  {
   "cell_type": "code",
   "execution_count": 183,
   "metadata": {},
   "outputs": [
    {
     "data": {
      "text/plain": [
       "\u001b[36mdc\u001b[39m: \u001b[32mDoobieContext\u001b[39m.\u001b[32mPostgres\u001b[39m[\u001b[32mLiteral\u001b[39m.type] = doobie.quill.DoobieContext$Postgres@260b5f99\n",
       "\u001b[32mimport \u001b[39m\u001b[36mdc._\u001b[39m"
      ]
     },
     "execution_count": 183,
     "metadata": {},
     "output_type": "execute_result"
    }
   ],
   "source": [
    "val dc = new DoobieContext.Postgres(Literal) // Literal naming scheme\n",
    "import dc._"
   ]
  },
  {
   "cell_type": "code",
   "execution_count": 184,
   "metadata": {},
   "outputs": [
    {
     "data": {
      "text/plain": [
       "defined \u001b[32mclass\u001b[39m \u001b[36mCountry\u001b[39m"
      ]
     },
     "execution_count": 184,
     "metadata": {},
     "output_type": "execute_result"
    }
   ],
   "source": [
    "case class Country(code: String, name: String, population: Int)"
   ]
  },
  {
   "cell_type": "code",
   "execution_count": 184,
   "metadata": {},
   "outputs": [
    {
     "name": "stderr",
     "output_type": "stream",
     "text": [
      "cmd184.sc:1: exception during macro expansion: \n",
      "scala.reflect.macros.TypecheckException: value getquill is not a member of cats.effect.IO[Int]\n",
      "\tat scala.reflect.macros.contexts.Typers.$anonfun$typecheck$3(Typers.scala:44)\n",
      "\tat scala.reflect.macros.contexts.Typers.$anonfun$typecheck$2(Typers.scala:38)\n",
      "\tat scala.reflect.macros.contexts.Typers.doTypecheck$1(Typers.scala:37)\n",
      "\tat scala.reflect.macros.contexts.Typers.typecheck(Typers.scala:51)\n",
      "\tat scala.reflect.macros.contexts.Typers.typecheck$(Typers.scala:32)\n",
      "\tat scala.reflect.macros.contexts.Context.typecheck(Context.scala:18)\n",
      "\tat scala.reflect.macros.contexts.Context.typecheck(Context.scala:18)\n",
      "\tat io.getquill.dsl.QueryDslMacro.meta(QueryDslMacro.scala:23)\n",
      "\tat io.getquill.dsl.QueryDslMacro.expandEntity(QueryDslMacro.scala:11)\n",
      "\n",
      "val q1 = quote { query[Country].filter(_.code == \"GBR\") }\n",
      "                      ^Compilation Failed"
     ]
    },
    {
     "ename": "",
     "evalue": "",
     "output_type": "error",
     "traceback": [
      "Compilation Failed"
     ]
    }
   ],
   "source": [
    "val q1 = quote { query[Country].filter(_.code == \"GBR\") }"
   ]
  },
  {
   "cell_type": "code",
   "execution_count": 184,
   "metadata": {},
   "outputs": [
    {
     "name": "stderr",
     "output_type": "stream",
     "text": [
      "cmd184.sc:1: not found: value q1\n",
      "val res184 = run(q1)\n",
      "                 ^Compilation Failed"
     ]
    },
    {
     "ename": "",
     "evalue": "",
     "output_type": "error",
     "traceback": [
      "Compilation Failed"
     ]
    }
   ],
   "source": [
    "run(q1)"
   ]
  },
  {
   "cell_type": "code",
   "execution_count": null,
   "metadata": {},
   "outputs": [],
   "source": []
  }
 ],
 "metadata": {
  "kernelspec": {
   "display_name": "Scala",
   "language": "scala",
   "name": "scala"
  },
  "language_info": {
   "codemirror_mode": "text/x-scala",
   "file_extension": ".scala",
   "mimetype": "text/x-scala",
   "name": "scala",
   "nbconvert_exporter": "script",
   "version": "2.13.0"
  }
 },
 "nbformat": 4,
 "nbformat_minor": 2
}
