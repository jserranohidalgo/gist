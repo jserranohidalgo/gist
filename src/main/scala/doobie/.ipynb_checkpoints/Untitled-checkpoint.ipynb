{
 "cells": [
  {
   "cell_type": "code",
   "execution_count": 1,
   "metadata": {},
   "outputs": [
    {
     "data": {
      "text/plain": [
       "\u001b[32mimport \u001b[39m\u001b[36m$ivy.$                                 \n",
       "\u001b[39m\n",
       "\u001b[32mimport \u001b[39m\u001b[36m$ivy.$                              \n",
       "\u001b[39m\n",
       "\u001b[32mimport \u001b[39m\u001b[36m$ivy.$                                  \n",
       "\u001b[39m\n",
       "\u001b[32mimport \u001b[39m\u001b[36m$ivy.$                                    \u001b[39m"
      ]
     },
     "execution_count": 1,
     "metadata": {},
     "output_type": "execute_result"
    }
   ],
   "source": [
    "import $ivy.`org.tpolecat::doobie-quill:0.8.8`\n",
    "import $ivy.`io.getquill::quill-jdbc:3.5.1`\n",
    "import $ivy.`org.postgresql:postgresql:42.2.10`\n",
    "import $ivy.`org.tpolecat::doobie-postgres:0.8.8`"
   ]
  },
  {
   "cell_type": "code",
   "execution_count": 2,
   "metadata": {},
   "outputs": [
    {
     "data": {
      "text/plain": [
       "\u001b[32mimport \u001b[39m\u001b[36m_root_.io.getquill.{ idiom => _, _ }\n",
       "\u001b[39m\n",
       "\u001b[32mimport \u001b[39m\u001b[36mdoobie.quill.DoobieContext\u001b[39m"
      ]
     },
     "execution_count": 2,
     "metadata": {},
     "output_type": "execute_result"
    }
   ],
   "source": [
    "import _root_.io.getquill.{ idiom => _, _ }\n",
    "import doobie.quill.DoobieContext"
   ]
  },
  {
   "cell_type": "code",
   "execution_count": 3,
   "metadata": {},
   "outputs": [
    {
     "name": "stderr",
     "output_type": "stream",
     "text": [
      "SLF4J: Failed to load class \"org.slf4j.impl.StaticLoggerBinder\".\n",
      "SLF4J: Defaulting to no-operation (NOP) logger implementation\n",
      "SLF4J: See http://www.slf4j.org/codes.html#StaticLoggerBinder for further details.\n"
     ]
    },
    {
     "data": {
      "text/plain": [
       "\u001b[36mdc\u001b[39m: \u001b[32mDoobieContext\u001b[39m.\u001b[32mPostgres\u001b[39m[\u001b[32mLiteral\u001b[39m.type] = doobie.quill.DoobieContext$Postgres@6f5d8205\n",
       "\u001b[32mimport \u001b[39m\u001b[36mdc._\u001b[39m"
      ]
     },
     "execution_count": 3,
     "metadata": {},
     "output_type": "execute_result"
    }
   ],
   "source": [
    "val dc = new DoobieContext.Postgres(Literal) // Literal naming scheme\n",
    "import dc._"
   ]
  },
  {
   "cell_type": "code",
   "execution_count": 4,
   "metadata": {},
   "outputs": [
    {
     "data": {
      "text/plain": [
       "\u001b[32mimport \u001b[39m\u001b[36mcats.effect.IO, cats.effect.Blocker\n",
       "\u001b[39m\n",
       "\u001b[32mimport \u001b[39m\u001b[36mdoobie._, doobie.implicits._\u001b[39m"
      ]
     },
     "execution_count": 4,
     "metadata": {},
     "output_type": "execute_result"
    }
   ],
   "source": [
    "import cats.effect.IO, cats.effect.Blocker\n",
    "import doobie._, doobie.implicits._"
   ]
  },
  {
   "cell_type": "code",
   "execution_count": 5,
   "metadata": {},
   "outputs": [
    {
     "data": {
      "text/plain": [
       "\u001b[32mimport \u001b[39m\u001b[36mdoobie.util.ExecutionContexts\n",
       "\u001b[39m\n",
       "\u001b[36mcs\u001b[39m: \u001b[32mcats\u001b[39m.\u001b[32meffect\u001b[39m.\u001b[32mContextShift\u001b[39m[\u001b[32mIO\u001b[39m] = cats.effect.internals.IOContextShift@1dcfc969\n",
       "\u001b[36mxa\u001b[39m: \u001b[32mTransactor\u001b[39m.\u001b[32mAux\u001b[39m[\u001b[32mIO\u001b[39m, \u001b[32mUnit\u001b[39m] = doobie.util.transactor$Transactor$$anon$13@46fcce3c"
      ]
     },
     "execution_count": 5,
     "metadata": {},
     "output_type": "execute_result"
    }
   ],
   "source": [
    "import doobie.util.ExecutionContexts\n",
    "implicit val cs = IO.contextShift(ExecutionContexts.synchronous)\n",
    "val xa = Transactor.fromDriverManager[IO](\n",
    "  \"org.postgresql.Driver\",     // driver classname\n",
    "  \"jdbc:postgresql:world\",     // connect URL (driver-specific)\n",
    "  \"postgres\",                  // user\n",
    "  \"\",                          // password\n",
    "  Blocker.liftExecutionContext(ExecutionContexts.synchronous) // just for testing\n",
    ")"
   ]
  },
  {
   "cell_type": "code",
   "execution_count": 6,
   "metadata": {},
   "outputs": [
    {
     "data": {
      "text/plain": [
       "defined \u001b[32mclass\u001b[39m \u001b[36mCountry\u001b[39m"
      ]
     },
     "execution_count": 6,
     "metadata": {},
     "output_type": "execute_result"
    }
   ],
   "source": [
    "case class Country(code: String, name: String, population: Int)"
   ]
  },
  {
   "cell_type": "code",
   "execution_count": null,
   "metadata": {},
   "outputs": [],
   "source": [
    "val q1 = quote { query[Country].filter(_.code == \"GBR\") }"
   ]
  },
  {
   "cell_type": "code",
   "execution_count": null,
   "metadata": {},
   "outputs": [],
   "source": [
    "run(q1).transact(xa).unsafeRunSync"
   ]
  },
  {
   "cell_type": "code",
   "execution_count": 7,
   "metadata": {},
   "outputs": [
    {
     "data": {
      "text/plain": [
       "\u001b[36mq1\u001b[39m: \u001b[32mAnyRef\u001b[39m with \u001b[32mQuoted\u001b[39m[\u001b[32mEntityQuery\u001b[39m[\u001b[32mCountry\u001b[39m]]{def quoted: io.getquill.ast.Map;def ast: io.getquill.ast.Map;def id67116215(): Unit;val liftings: Object} = querySchema(\"Country\").filter(country => country.code == \"GBR\").map(country => country)"
      ]
     },
     "execution_count": 7,
     "metadata": {},
     "output_type": "execute_result"
    }
   ],
   "source": [
    "val q1 = quote { for {\n",
    "    country <- query[Country] if country.code == \"GBR\"\n",
    "} yield country }"
   ]
  },
  {
   "cell_type": "code",
   "execution_count": 11,
   "metadata": {},
   "outputs": [
    {
     "name": "stdout",
     "output_type": "stream",
     "text": [
      "cmd10.sc:1: SELECT country.code, country.name, country.population FROM Country country WHERE country.code = 'GBR'\n",
      "val res10 = run(q1).transact(xa).unsafeRunSync\n",
      "               ^"
     ]
    },
    {
     "data": {
      "text/plain": [
       "\u001b[36mres10\u001b[39m: \u001b[32mList\u001b[39m[\u001b[32mCountry\u001b[39m] = \u001b[33mList\u001b[39m(\u001b[33mCountry\u001b[39m(\u001b[32m\"GBR\"\u001b[39m, \u001b[32m\"United Kingdom\"\u001b[39m, \u001b[32m59623400\u001b[39m))"
      ]
     },
     "execution_count": 11,
     "metadata": {},
     "output_type": "execute_result"
    }
   ],
   "source": [
    "run(q1).transact(xa).unsafeRunSync"
   ]
  },
  {
   "cell_type": "code",
   "execution_count": 12,
   "metadata": {},
   "outputs": [
    {
     "data": {
      "text/plain": [
       "defined \u001b[32mclass\u001b[39m \u001b[36mCountry\u001b[39m\n",
       "defined \u001b[32mclass\u001b[39m \u001b[36mCity\u001b[39m"
      ]
     },
     "execution_count": 12,
     "metadata": {},
     "output_type": "execute_result"
    }
   ],
   "source": [
    "case class Country(code: String, name: String, capital: Option[Int])\n",
    "case class City(id: Int, name: String, countryCode: String, population: Int)"
   ]
  },
  {
   "cell_type": "code",
   "execution_count": 19,
   "metadata": {},
   "outputs": [
    {
     "data": {
      "text/plain": [
       "\u001b[36mq2\u001b[39m: \u001b[32mAnyRef\u001b[39m with \u001b[32mQuoted\u001b[39m[\u001b[32mdc\u001b[39m.\u001b[32mQuery\u001b[39m[(\u001b[32mString\u001b[39m, \u001b[32mString\u001b[39m)]]{def quoted: io.getquill.ast.FlatMap;def ast: io.getquill.ast.FlatMap;def id548165528(): Unit;val liftings: Object} = querySchema(\"Country\").flatMap(country => querySchema(\"City\").filter(capital => country.capital.exists((x1) => x1 == capital.id)).filter(capital => capital.population > 8000000).map(capital => (country.name, capital.name)))"
      ]
     },
     "execution_count": 19,
     "metadata": {},
     "output_type": "execute_result"
    }
   ],
   "source": [
    "val q2 = quote { for {\n",
    "    country <- query[Country] \n",
    "    capital <- query[City] \n",
    "    if country.capital.exists(_ == capital.id) \n",
    "    if capital.population > 8000000\n",
    "} yield (country.name, capital.name) }"
   ]
  },
  {
   "cell_type": "code",
   "execution_count": 20,
   "metadata": {},
   "outputs": [
    {
     "name": "stdout",
     "output_type": "stream",
     "text": [
      "cmd19.sc:1: SELECT country.name, capital.name FROM Country country, City capital WHERE country.capital = capital.id AND capital.population > 8000000\n",
      "val res19 = run(q2).transact(xa).unsafeRunSync\n",
      "               ^"
     ]
    },
    {
     "data": {
      "text/plain": [
       "\u001b[36mres19\u001b[39m: \u001b[32mList\u001b[39m[(\u001b[32mString\u001b[39m, \u001b[32mString\u001b[39m)] = \u001b[33mList\u001b[39m(\n",
       "  (\u001b[32m\"Indonesia\"\u001b[39m, \u001b[32m\"Jakarta\"\u001b[39m),\n",
       "  (\u001b[32m\"South Korea\"\u001b[39m, \u001b[32m\"Seoul\"\u001b[39m),\n",
       "  (\u001b[32m\"Mexico\"\u001b[39m, \u001b[32m\"Ciudad de M\\u00e9xico\"\u001b[39m),\n",
       "  (\u001b[32m\"Russian Federation\"\u001b[39m, \u001b[32m\"Moscow\"\u001b[39m)\n",
       ")"
      ]
     },
     "execution_count": 20,
     "metadata": {},
     "output_type": "execute_result"
    }
   ],
   "source": [
    "run(q2).transact(xa).unsafeRunSync"
   ]
  },
  {
   "cell_type": "markdown",
   "metadata": {},
   "source": [
    "### sessions"
   ]
  },
  {
   "cell_type": "code",
   "execution_count": 8,
   "metadata": {},
   "outputs": [
    {
     "data": {
      "text/plain": [
       "\u001b[32mimport \u001b[39m\u001b[36m$ivy.$                           \n",
       "\u001b[39m\n",
       "\u001b[32mimport \u001b[39m\u001b[36m$ivy.$                                  \n",
       "\u001b[39m\n",
       "\u001b[32mimport \u001b[39m\u001b[36m$ivy.$                                    \n",
       "\n",
       "\u001b[39m\n",
       "\u001b[36mres7_3\u001b[39m: \u001b[32mClass\u001b[39m[\u001b[32m?0\u001b[39m] = class org.postgresql.Driver"
      ]
     },
     "execution_count": 8,
     "metadata": {},
     "output_type": "execute_result"
    }
   ],
   "source": [
    "import $ivy.`org.slf4j:slf4j-nop:1.7.21`\n",
    "import $ivy.`org.postgresql:postgresql:42.2.10`\n",
    "import $ivy.`org.tpolecat::doobie-postgres:0.8.8`\n",
    "\n",
    "Class.forName(\"org.postgresql.Driver\")"
   ]
  },
  {
   "cell_type": "code",
   "execution_count": 16,
   "metadata": {},
   "outputs": [
    {
     "data": {
      "text/plain": [
       "\u001b[32mimport \u001b[39m\u001b[36mcats._, cats.syntax.all._, cats.data._, cats.instances.all._\n",
       "\u001b[39m\n",
       "\u001b[32mimport \u001b[39m\u001b[36mcats.effect._\n",
       "\u001b[39m\n",
       "\u001b[32mimport \u001b[39m\u001b[36mfs2.Stream\n",
       "\u001b[39m\n",
       "\u001b[32mimport \u001b[39m\u001b[36m_root_.doobie._, _root_.doobie.implicits._\n",
       "\n",
       "\u001b[39m\n",
       "\u001b[32mimport \u001b[39m\u001b[36mjava.sql.{Connection, DriverManager}\u001b[39m"
      ]
     },
     "execution_count": 16,
     "metadata": {},
     "output_type": "execute_result"
    }
   ],
   "source": [
    "import cats._, cats.syntax.all._, cats.data._, cats.instances.all._\n",
    "import cats.effect._\n",
    "import fs2.Stream\n",
    "import _root_.doobie._, _root_.doobie.implicits._\n",
    "\n",
    "import java.sql.{Connection, DriverManager}"
   ]
  },
  {
   "cell_type": "code",
   "execution_count": 19,
   "metadata": {},
   "outputs": [
    {
     "data": {
      "text/plain": [
       "\u001b[36mc\u001b[39m: \u001b[32mIO\u001b[39m[\u001b[32mConnection\u001b[39m] = \u001b[33mDelay\u001b[39m(\n",
       "  ammonite.$sess.cmd18$Helper$$Lambda$2949/2039822581@ea7f3c9\n",
       ")"
      ]
     },
     "execution_count": 19,
     "metadata": {},
     "output_type": "execute_result"
    }
   ],
   "source": [
    "val c = IO.delay(DriverManager.getConnection(\"jdbc:postgresql:world\", \"postgres\", \"\"))"
   ]
  },
  {
   "cell_type": "code",
   "execution_count": 20,
   "metadata": {},
   "outputs": [
    {
     "data": {
      "text/plain": [
       "\u001b[36mres19\u001b[39m: \u001b[32mConnection\u001b[39m = org.postgresql.jdbc.PgConnection@31089492"
      ]
     },
     "execution_count": 20,
     "metadata": {},
     "output_type": "execute_result"
    }
   ],
   "source": [
    "c.unsafeRunSync"
   ]
  },
  {
   "cell_type": "code",
   "execution_count": 21,
   "metadata": {},
   "outputs": [],
   "source": [
    "res19.close"
   ]
  },
  {
   "cell_type": "code",
   "execution_count": 23,
   "metadata": {},
   "outputs": [
    {
     "data": {
      "text/plain": [
       "\u001b[36mconnectionResource\u001b[39m: \u001b[32mResource\u001b[39m[\u001b[32mIO\u001b[39m, \u001b[32mConnection\u001b[39m] = \u001b[33mAllocate\u001b[39m(\n",
       "  \u001b[33mMap\u001b[39m(\n",
       "    \u001b[33mDelay\u001b[39m(ammonite.$sess.cmd22$Helper$$Lambda$2995/1153593491@78edb2b),\n",
       "    scala.Function1$$Lambda$318/1443055846@6b4a14dd,\n",
       "    \u001b[32m1\u001b[39m\n",
       "  )\n",
       ")"
      ]
     },
     "execution_count": 23,
     "metadata": {},
     "output_type": "execute_result"
    }
   ],
   "source": [
    "val connectionResource = Resource.make(\n",
    "    IO.delay(\n",
    "        DriverManager.getConnection(\"jdbc:postgresql:world\", \"postgres\", \"\")))(\n",
    "    connection => IO(connection.close))"
   ]
  },
  {
   "cell_type": "code",
   "execution_count": 25,
   "metadata": {},
   "outputs": [
    {
     "data": {
      "text/plain": [
       "\u001b[36mres24\u001b[39m: \u001b[32mInt\u001b[39m = \u001b[32m1\u001b[39m"
      ]
     },
     "execution_count": 25,
     "metadata": {},
     "output_type": "execute_result"
    }
   ],
   "source": [
    "connectionResource.use(_ => IO(1)).unsafeRunSync"
   ]
  },
  {
   "cell_type": "code",
   "execution_count": null,
   "metadata": {},
   "outputs": [],
   "source": []
  }
 ],
 "metadata": {
  "kernelspec": {
   "display_name": "Scala",
   "language": "scala",
   "name": "scala"
  },
  "language_info": {
   "codemirror_mode": "text/x-scala",
   "file_extension": ".scala",
   "mimetype": "text/x-scala",
   "name": "scala",
   "nbconvert_exporter": "script",
   "version": "2.13.0"
  }
 },
 "nbformat": 4,
 "nbformat_minor": 2
}
