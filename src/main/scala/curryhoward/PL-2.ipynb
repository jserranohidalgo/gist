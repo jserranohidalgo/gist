{
 "cells": [
  {
   "cell_type": "code",
   "execution_count": 1,
   "metadata": {},
   "outputs": [
    {
     "data": {
      "text/plain": [
       "defined \u001b[32mclass\u001b[39m \u001b[36mAbsurd\u001b[39m\n",
       "defined \u001b[32mtype\u001b[39m \u001b[36mNot\u001b[39m\n",
       "defined \u001b[32mclass\u001b[39m \u001b[36mOr\u001b[39m\n",
       "defined \u001b[32mobject\u001b[39m \u001b[36mOr\u001b[39m\n",
       "defined \u001b[32mclass\u001b[39m \u001b[36mAnd\u001b[39m\n",
       "defined \u001b[32mobject\u001b[39m \u001b[36mAnd\u001b[39m"
      ]
     },
     "execution_count": 1,
     "metadata": {},
     "output_type": "execute_result"
    }
   ],
   "source": [
    "abstract class Absurd{\n",
    "    def apply[A]: A\n",
    "}\n",
    "\n",
    "type Not[A] = A => Absurd\n",
    "\n",
    "abstract class Or[A, B]{\n",
    "    def apply[C](f: A => C, g: B => C): C\n",
    "}\n",
    "\n",
    "object Or{\n",
    "    def applyL[A, B](a: A): Or[A, B] = new Or[A, B]{\n",
    "        def apply[C](f: A => C, g: B => C): C = \n",
    "            f(a)\n",
    "    }\n",
    "\n",
    "    def applyR[A, B](b: B): Or[A, B] = new Or[A, B]{\n",
    "        def apply[C](f: A => C, g: B => C): C = \n",
    "            g(b)\n",
    "    }\n",
    "    \n",
    "    def elim[A, B, C](or: Or[A, B], f: A => C, g: B => C): C = \n",
    "        or[C](f, g)\n",
    "}\n",
    "\n",
    "abstract class And[A, B]{\n",
    "    def apply[C](f: A => B => C): C\n",
    "}\n",
    "\n",
    "object And{\n",
    "    def apply[A, B](a: A, b: B): And[A, B] = new And[A, B]{\n",
    "        def apply[C](f: A => B => C): C = \n",
    "            f(a)(b)\n",
    "    }\n",
    "    \n",
    "    def elimL[A, B](and: And[A, B]): A = \n",
    "        and(a => _ => a)\n",
    "    \n",
    "    def elimR[A, B](and: And[A, B]): B = \n",
    "        and(_ => b => b)\n",
    "}\n",
    "\n"
   ]
  },
  {
   "cell_type": "code",
   "execution_count": 2,
   "metadata": {},
   "outputs": [
    {
     "data": {
      "text/plain": [
       "defined \u001b[32mfunction\u001b[39m \u001b[36mproof1\u001b[39m\n",
       "defined \u001b[32mfunction\u001b[39m \u001b[36mproof2\u001b[39m\n",
       "defined \u001b[32mfunction\u001b[39m \u001b[36mproof3\u001b[39m\n",
       "defined \u001b[32mfunction\u001b[39m \u001b[36mproof4\u001b[39m\n",
       "defined \u001b[32mfunction\u001b[39m \u001b[36mproof5\u001b[39m\n",
       "defined \u001b[32mfunction\u001b[39m \u001b[36mproof6\u001b[39m\n",
       "defined \u001b[32mfunction\u001b[39m \u001b[36mproof7\u001b[39m\n",
       "defined \u001b[32mfunction\u001b[39m \u001b[36mproof8\u001b[39m\n",
       "defined \u001b[32mfunction\u001b[39m \u001b[36mproof9\u001b[39m\n",
       "defined \u001b[32mfunction\u001b[39m \u001b[36mproof10\u001b[39m\n",
       "defined \u001b[32mfunction\u001b[39m \u001b[36mproof11\u001b[39m"
      ]
     },
     "execution_count": 2,
     "metadata": {},
     "output_type": "execute_result"
    }
   ],
   "source": [
    "def proof1[A, B](or: Or[A, B]): Not[A] => B = \n",
    "    (n: Not[A]) => or[B]((a: A) => n(a)[B], (b: B) => b)\n",
    "\n",
    "def proof2[A, B](n: Not[A]): A => B = \n",
    "    (a: A) => n(a)[B]\n",
    "\n",
    "def proof3[A, B](i: A => Not[B]): (A => B) => Not[A] = \n",
    "    (i2: A => B) => (a: A) => i(a)(i2(a))\n",
    "\n",
    "def proof4[A, B](n: Not[A => B]): Not[B] = \n",
    "    (b: B) => n((_: A) => b)\n",
    "\n",
    "def proof5[A, B](n: Not[A]): Not[And[A, B]] = \n",
    "//    (and: And[A, B]) => n(And.elimL(and))\n",
    "    n compose And.elimL\n",
    "\n",
    "def proof6[A, B]: Not[And[A, Not[A]]] = \n",
    "    (a: And[A, Not[A]]) => And.elimR(a)(And.elimL(a))\n",
    "\n",
    "def proof7[A, B](n: Not[And[A, B]]): A => Not[B] = \n",
    "    (a: A) => (b: B) => n(And(a, b))\n",
    "\n",
    "def proof8[A, B](or: Or[A, B]): Or[B, A] = \n",
    "    or[Or[B, A]](Or.applyR[B, A], Or.applyL[B, A])\n",
    "\n",
    "def proof9[A, B](n: Not[A Or B]): Not[A] And Not[B] = \n",
    "    And((a: A) => n(Or.applyL(a)), (b: B) => n(Or.applyR(b)))\n",
    "\n",
    "def proof10[A, B](and: Not[A] And Not[B]): Not[A Or B] = \n",
    "    or => or[Absurd](And.elimL(and), And.elimR(and))\n",
    "\n",
    "def proof11[A](a: A And Not[A]): Absurd = \n",
    "    And.elimR(a)(And.elimL(a))\n"
   ]
  },
  {
   "cell_type": "code",
   "execution_count": 3,
   "metadata": {},
   "outputs": [
    {
     "data": {
      "text/plain": [
       "defined \u001b[32mtrait\u001b[39m \u001b[36mClassicalLogic\u001b[39m"
      ]
     },
     "execution_count": 3,
     "metadata": {},
     "output_type": "execute_result"
    }
   ],
   "source": [
    "trait ClassicalLogic{\n",
    "    trait DN{\n",
    "        def apply[A](nn: Not[Not[A]]): A\n",
    "    }\n",
    "    \n",
    "    val dn: DN\n",
    "    \n",
    "    def proof1[A](f: Not[A] => A): A =\n",
    "        dn((n: Not[A]) => proof11(And(f(n),n)))\n",
    "}\n"
   ]
  },
  {
   "cell_type": "code",
   "execution_count": null,
   "metadata": {},
   "outputs": [],
   "source": []
  },
  {
   "cell_type": "code",
   "execution_count": null,
   "metadata": {},
   "outputs": [],
   "source": []
  }
 ],
 "metadata": {
  "kernelspec": {
   "display_name": "Scala",
   "language": "scala",
   "name": "scala"
  },
  "language_info": {
   "codemirror_mode": "text/x-scala",
   "file_extension": ".scala",
   "mimetype": "text/x-scala",
   "name": "scala",
   "nbconvert_exporter": "script",
   "version": "2.13.0"
  }
 },
 "nbformat": 4,
 "nbformat_minor": 2
}
