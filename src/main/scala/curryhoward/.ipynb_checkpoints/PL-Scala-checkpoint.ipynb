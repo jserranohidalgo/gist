{
 "cells": [
  {
   "cell_type": "code",
   "execution_count": 4,
   "metadata": {},
   "outputs": [
    {
     "data": {
      "text/plain": [
       "defined \u001b[32mtype\u001b[39m \u001b[36mNot\u001b[39m\n",
       "defined \u001b[32mobject\u001b[39m \u001b[36mNot\u001b[39m\n",
       "defined \u001b[32mtype\u001b[39m \u001b[36mOr\u001b[39m\n",
       "defined \u001b[32mobject\u001b[39m \u001b[36mOr\u001b[39m\n",
       "defined \u001b[32mtype\u001b[39m \u001b[36mAnd\u001b[39m\n",
       "defined \u001b[32mobject\u001b[39m \u001b[36mAnd\u001b[39m"
      ]
     },
     "execution_count": 4,
     "metadata": {},
     "output_type": "execute_result"
    }
   ],
   "source": [
    "\n",
    "type Not[A] = A => Nothing\n",
    "\n",
    "object Not{\n",
    "    def elim[A, C](n: Not[A], a: A): C = n(a)\n",
    "}\n",
    "\n",
    "type Or[A, B] = Either[A, B]\n",
    "\n",
    "object Or{\n",
    "    def applyL[A, B](a: A): Or[A, B] = Left(a)\n",
    "\n",
    "    def applyR[A, B](b: B): Or[A, B] = Right(b)\n",
    "    \n",
    "    def elim[A, B, C](f: A => C, g: B => C)(or: Or[A, B]): C = \n",
    "        or.fold(f, g)\n",
    "}\n",
    "\n",
    "type And[A, B] = (A, B)\n",
    "\n",
    "object And{\n",
    "    def apply[A, B](a: A, b: B): And[A, B] = (a, b)\n",
    "    \n",
    "    def elimL[A, B](and: And[A, B]): A = and._1\n",
    "    \n",
    "    def elimR[A, B](and: And[A, B]): B = and._2\n",
    "}\n",
    "\n"
   ]
  },
  {
   "cell_type": "code",
   "execution_count": 5,
   "metadata": {},
   "outputs": [
    {
     "data": {
      "text/plain": [
       "defined \u001b[32mfunction\u001b[39m \u001b[36mproof0\u001b[39m\n",
       "defined \u001b[32mfunction\u001b[39m \u001b[36mproof1\u001b[39m\n",
       "defined \u001b[32mfunction\u001b[39m \u001b[36mproof2\u001b[39m\n",
       "defined \u001b[32mfunction\u001b[39m \u001b[36mproof3\u001b[39m\n",
       "defined \u001b[32mfunction\u001b[39m \u001b[36mproof4\u001b[39m\n",
       "defined \u001b[32mfunction\u001b[39m \u001b[36mproof5\u001b[39m\n",
       "defined \u001b[32mfunction\u001b[39m \u001b[36mproof6\u001b[39m\n",
       "defined \u001b[32mfunction\u001b[39m \u001b[36mproof7\u001b[39m\n",
       "defined \u001b[32mfunction\u001b[39m \u001b[36mproof8\u001b[39m\n",
       "defined \u001b[32mfunction\u001b[39m \u001b[36mproof9\u001b[39m\n",
       "defined \u001b[32mfunction\u001b[39m \u001b[36mproof10\u001b[39m\n",
       "defined \u001b[32mfunction\u001b[39m \u001b[36mproof11\u001b[39m"
      ]
     },
     "execution_count": 5,
     "metadata": {},
     "output_type": "execute_result"
    }
   ],
   "source": [
    "def proof0[A, B]: (A => B) => A => B = \n",
    "    (f: A => B) => f // (a: A) => f(a)\n",
    "\n",
    "def proof1[A, B]: Or[A, B] => Not[A] => B = \n",
    "    or => (n: Not[A]) => \n",
    "        Or.elim((a: A) => Not.elim[A, B](n, a), identity[B])(or)\n",
    "\n",
    "def proof2[A, B]: Not[A] => A => B = \n",
    "    n => (a: A) => Not.elim[A, B](n, a)\n",
    "\n",
    "def proof3[A, B]: (A => Not[B]) => (A => B) => Not[A] = \n",
    "    i => (i2: A => B) => (a: A) => i(a)(i2(a))\n",
    "\n",
    "def proof4[A, B]: Not[A => B] => Not[B] = \n",
    "    n => (b: B) => n((_: A) => b)\n",
    "\n",
    "def proof5[A, B]: Not[A] => Not[And[A, B]] = \n",
    "//    (and: And[A, B]) => n(And.elimL(and))\n",
    "    n => n compose And.elimL\n",
    "\n",
    "def proof6[A, B]: Not[And[A, Not[A]]] = \n",
    "    (a: And[A, Not[A]]) => And.elimR(a)(And.elimL(a))\n",
    "\n",
    "def proof7[A, B]: Not[And[A, B]] => A => Not[B] = \n",
    "    n => (a: A) => (b: B) => n(And(a, b))\n",
    "\n",
    "def proof8[A, B]: Or[A, B] => Or[B, A] = \n",
    "    Or.elim[A, B, Or[B, A]](Or.applyR[B, A], Or.applyL[B, A])\n",
    "\n",
    "def proof9[A, B]: Not[A Or B] => Not[A] And Not[B] = \n",
    "    n => And((a: A) => n(Or.applyL(a)), (b: B) => n(Or.applyR(b)))\n",
    "\n",
    "def proof10[A, B]: (Not[A] And Not[B]) => Not[A Or B] = \n",
    "    and => Or.elim[A, B, Absurd](And.elimL(and), And.elimR(and))\n",
    "\n",
    "def proof11[A]: Not[A And Not[A]] = \n",
    "    a => And.elimR(a)(And.elimL(a))\n"
   ]
  },
  {
   "cell_type": "code",
   "execution_count": 6,
   "metadata": {},
   "outputs": [
    {
     "data": {
      "text/plain": [
       "defined \u001b[32mtrait\u001b[39m \u001b[36mClassicalLogic\u001b[39m"
      ]
     },
     "execution_count": 6,
     "metadata": {},
     "output_type": "execute_result"
    }
   ],
   "source": [
    "trait ClassicalLogic{\n",
    "    trait DN{\n",
    "        def apply[A](nn: Not[Not[A]]): A\n",
    "    }\n",
    "    \n",
    "    val dn: DN\n",
    "    \n",
    "    def proof1[A]: (Not[A] => A) => A =\n",
    "        f => dn((n: Not[A]) => proof11(And(f(n),n)))\n",
    "}\n"
   ]
  },
  {
   "cell_type": "code",
   "execution_count": null,
   "metadata": {},
   "outputs": [],
   "source": []
  },
  {
   "cell_type": "code",
   "execution_count": null,
   "metadata": {},
   "outputs": [],
   "source": []
  }
 ],
 "metadata": {
  "kernelspec": {
   "display_name": "Scala",
   "language": "scala",
   "name": "scala"
  },
  "language_info": {
   "codemirror_mode": "text/x-scala",
   "file_extension": ".scala",
   "mimetype": "text/x-scala",
   "name": "scala",
   "nbconvert_exporter": "script",
   "version": "2.13.0"
  }
 },
 "nbformat": 4,
 "nbformat_minor": 2
}
