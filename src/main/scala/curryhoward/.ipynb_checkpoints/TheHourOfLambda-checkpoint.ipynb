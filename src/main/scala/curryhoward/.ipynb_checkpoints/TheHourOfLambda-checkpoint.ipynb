{
 "cells": [
  {
   "cell_type": "markdown",
   "metadata": {},
   "source": [
    "# The hour of λ"
   ]
  },
  {
   "cell_type": "markdown",
   "metadata": {},
   "source": [
    "## Algebraic data types"
   ]
  },
  {
   "cell_type": "markdown",
   "metadata": {},
   "source": [
    "We can understand _types_ as collections of *values*. For instance:"
   ]
  },
  {
   "cell_type": "code",
   "execution_count": 1,
   "metadata": {},
   "outputs": [
    {
     "data": {
      "text/plain": [
       "\u001b[36mi\u001b[39m: \u001b[32mInt\u001b[39m = \u001b[32m1\u001b[39m\n",
       "\u001b[36mj\u001b[39m: \u001b[32mInt\u001b[39m = \u001b[32m0\u001b[39m\n",
       "\u001b[36mc\u001b[39m: \u001b[32mChar\u001b[39m = \u001b[32m'a'\u001b[39m\n",
       "\u001b[36md\u001b[39m: \u001b[32mChar\u001b[39m = \u001b[32m'\\u03bb'\u001b[39m\n",
       "\u001b[36ms\u001b[39m: \u001b[32mString\u001b[39m = \u001b[32m\"lambda\"\u001b[39m\n",
       "\u001b[36mt\u001b[39m: \u001b[32mString\u001b[39m = \u001b[32m\"pi\"\u001b[39m\n",
       "\u001b[36mb\u001b[39m: \u001b[32mBoolean\u001b[39m = true\n",
       "\u001b[36mb2\u001b[39m: \u001b[32mBoolean\u001b[39m = false"
      ]
     },
     "execution_count": 1,
     "metadata": {},
     "output_type": "execute_result"
    }
   ],
   "source": [
    "val i: Int = 1\n",
    "val j: Int = 0\n",
    "val c: Char = 'a'\n",
    "val d: Char = 'λ'\n",
    "val s: String = \"lambda\"\n",
    "val t: String = \"pi\"\n",
    "val b: Boolean = true\n",
    "val b2: Boolean = false"
   ]
  },
  {
   "cell_type": "markdown",
   "metadata": {},
   "source": [
    "These are *primitive* types, but we will normally want to create our own types, carefully crafted to represent the particular features of our application domain. We do that by combining types using so-called algebraic data type constructors: *sums* and *products*. "
   ]
  },
  {
   "cell_type": "markdown",
   "metadata": {},
   "source": [
    "### Product types"
   ]
  },
  {
   "cell_type": "markdown",
   "metadata": {},
   "source": [
    "Product types are declared in Scala using so-called *case classes*:"
   ]
  },
  {
   "cell_type": "code",
   "execution_count": 36,
   "metadata": {},
   "outputs": [
    {
     "data": {
      "text/plain": [
       "defined \u001b[32mclass\u001b[39m \u001b[36mCircle\u001b[39m\n",
       "defined \u001b[32mclass\u001b[39m \u001b[36mRectangle\u001b[39m\n",
       "defined \u001b[32mclass\u001b[39m \u001b[36mTriangle\u001b[39m"
      ]
     },
     "execution_count": 36,
     "metadata": {},
     "output_type": "execute_result"
    }
   ],
   "source": [
    "case class Circle(radius: Int)\n",
    "case class Rectangle(width: Int, height: Int)\n",
    "case class Triangle(base: Int) "
   ]
  },
  {
   "cell_type": "markdown",
   "metadata": {},
   "source": [
    "### Sum types"
   ]
  },
  {
   "cell_type": "code",
   "execution_count": 37,
   "metadata": {},
   "outputs": [
    {
     "data": {
      "text/plain": [
       "defined \u001b[32mclass\u001b[39m \u001b[36mShape\u001b[39m\n",
       "defined \u001b[32mclass\u001b[39m \u001b[36mCircle\u001b[39m\n",
       "defined \u001b[32mclass\u001b[39m \u001b[36mRectangle\u001b[39m\n",
       "defined \u001b[32mclass\u001b[39m \u001b[36mTriangle\u001b[39m"
      ]
     },
     "execution_count": 37,
     "metadata": {},
     "output_type": "execute_result"
    }
   ],
   "source": [
    "abstract class Shape\n",
    "case class Circle(radius: Int) extends Shape\n",
    "case class Rectangle(width: Int, height: Int) extends Shape\n",
    "case class Triangle(base: Int) extends Shape"
   ]
  },
  {
   "cell_type": "code",
   "execution_count": 38,
   "metadata": {},
   "outputs": [
    {
     "data": {
      "text/plain": [
       "\u001b[36mshape\u001b[39m: \u001b[32mShape\u001b[39m = \u001b[33mRectangle\u001b[39m(\u001b[32m5\u001b[39m, \u001b[32m4\u001b[39m)"
      ]
     },
     "execution_count": 38,
     "metadata": {},
     "output_type": "execute_result"
    }
   ],
   "source": [
    "val shape: Shape = Rectangle(5,4)"
   ]
  },
  {
   "cell_type": "code",
   "execution_count": 5,
   "metadata": {},
   "outputs": [
    {
     "data": {
      "text/plain": [
       "\u001b[36mshapeType\u001b[39m: \u001b[32mString\u001b[39m = \u001b[32m\"rectangle\"\u001b[39m"
      ]
     },
     "execution_count": 5,
     "metadata": {},
     "output_type": "execute_result"
    }
   ],
   "source": [
    "val shapeType: String = shape match {\n",
    "    case Circle(_) => \"circle\"\n",
    "    case Rectangle(_, _) => \"rectangle\"\n",
    "    case Triangle(_) => \"triangle\"\n",
    "}"
   ]
  },
  {
   "cell_type": "markdown",
   "metadata": {},
   "source": [
    "### Function types"
   ]
  },
  {
   "cell_type": "code",
   "execution_count": 6,
   "metadata": {},
   "outputs": [
    {
     "data": {
      "text/plain": [
       "\u001b[36mrectangleArea\u001b[39m: \u001b[32mRectangle\u001b[39m => \u001b[32mInt\u001b[39m = ammonite.$sess.cmd5$Helper$$Lambda$2269/1528696118@6322be30"
      ]
     },
     "execution_count": 6,
     "metadata": {},
     "output_type": "execute_result"
    }
   ],
   "source": [
    "val rectangleArea: Rectangle => Int = \n",
    "    (r: Rectangle) => r.width * r.height"
   ]
  },
  {
   "cell_type": "code",
   "execution_count": 7,
   "metadata": {},
   "outputs": [
    {
     "data": {
      "text/plain": [
       "\u001b[32mimport \u001b[39m\u001b[36mscala.math.{Pi, pow}\n",
       "\n",
       "\u001b[39m\n",
       "\u001b[36mcicleArea\u001b[39m: \u001b[32mCircle\u001b[39m => \u001b[32mDouble\u001b[39m = ammonite.$sess.cmd6$Helper$$Lambda$2306/1996288907@688df69d"
      ]
     },
     "execution_count": 7,
     "metadata": {},
     "output_type": "execute_result"
    }
   ],
   "source": [
    "import scala.math.{Pi, pow}\n",
    "\n",
    "val cicleArea: Circle => Double = \n",
    "    (c: Circle) => Pi * pow(c.radius, 2)"
   ]
  },
  {
   "cell_type": "code",
   "execution_count": 8,
   "metadata": {},
   "outputs": [
    {
     "data": {
      "text/plain": [
       "\u001b[36mtriangleArea\u001b[39m: \u001b[32mTriangle\u001b[39m => \u001b[32mDouble\u001b[39m = ammonite.$sess.cmd7$Helper$$Lambda$2311/601885993@2925fe21"
      ]
     },
     "execution_count": 8,
     "metadata": {},
     "output_type": "execute_result"
    }
   ],
   "source": [
    "val triangleArea: Triangle => Double = \n",
    "    (t: Triangle) => t.base * t.base / 2.0"
   ]
  },
  {
   "cell_type": "code",
   "execution_count": 9,
   "metadata": {},
   "outputs": [
    {
     "data": {
      "text/plain": [
       "\u001b[36marea\u001b[39m: \u001b[32mShape\u001b[39m => \u001b[32mDouble\u001b[39m = ammonite.$sess.cmd8$Helper$$Lambda$2319/1201565036@272d06fb"
      ]
     },
     "execution_count": 9,
     "metadata": {},
     "output_type": "execute_result"
    }
   ],
   "source": [
    "val area: Shape => Double = (shape: Shape) => \n",
    "    shape match {\n",
    "        case c: Circle => cicleArea(c)\n",
    "        case r: Rectangle => rectangleArea(r)\n",
    "        case t: Triangle => triangleArea(t)\n",
    "    }"
   ]
  },
  {
   "cell_type": "code",
   "execution_count": 10,
   "metadata": {},
   "outputs": [
    {
     "data": {
      "text/plain": [
       "\u001b[36mres9_0\u001b[39m: \u001b[32mDouble\u001b[39m = \u001b[32m20.0\u001b[39m\n",
       "\u001b[36mres9_1\u001b[39m: \u001b[32mDouble\u001b[39m = \u001b[32m3.141592653589793\u001b[39m\n",
       "\u001b[36mres9_2\u001b[39m: \u001b[32mDouble\u001b[39m = \u001b[32m0.5\u001b[39m"
      ]
     },
     "execution_count": 10,
     "metadata": {},
     "output_type": "execute_result"
    }
   ],
   "source": [
    "area.apply(Rectangle(5,4))\n",
    "area(Circle(1))\n",
    "area(Triangle(1))"
   ]
  },
  {
   "cell_type": "markdown",
   "metadata": {},
   "source": [
    "#### Functions as methods"
   ]
  },
  {
   "cell_type": "code",
   "execution_count": 11,
   "metadata": {},
   "outputs": [
    {
     "data": {
      "text/plain": [
       "defined \u001b[32mfunction\u001b[39m \u001b[36marea\u001b[39m"
      ]
     },
     "execution_count": 11,
     "metadata": {},
     "output_type": "execute_result"
    }
   ],
   "source": [
    "def area(shape: Shape): Double = \n",
    "    shape match {\n",
    "        case c: Circle => cicleArea(c)\n",
    "        case r: Rectangle => rectangleArea(r)\n",
    "        case t: Triangle => triangleArea(t)\n",
    "    }"
   ]
  },
  {
   "cell_type": "markdown",
   "metadata": {},
   "source": [
    "## Recursive types"
   ]
  },
  {
   "cell_type": "code",
   "execution_count": 12,
   "metadata": {},
   "outputs": [
    {
     "data": {
      "text/plain": [
       "defined \u001b[32mclass\u001b[39m \u001b[36mShapeList\u001b[39m\n",
       "defined \u001b[32mclass\u001b[39m \u001b[36mNil\u001b[39m\n",
       "defined \u001b[32mclass\u001b[39m \u001b[36mCons\u001b[39m"
      ]
     },
     "execution_count": 12,
     "metadata": {},
     "output_type": "execute_result"
    }
   ],
   "source": [
    "sealed abstract class ShapeList\n",
    "case class Nil() extends ShapeList\n",
    "case class Cons(head: Shape, tail: ShapeList) extends ShapeList"
   ]
  },
  {
   "cell_type": "code",
   "execution_count": 13,
   "metadata": {},
   "outputs": [
    {
     "data": {
      "text/plain": [
       "\u001b[36mlist\u001b[39m: \u001b[32mShapeList\u001b[39m = \u001b[33mCons\u001b[39m(\n",
       "  \u001b[33mCircle\u001b[39m(\u001b[32m1\u001b[39m),\n",
       "  \u001b[33mCons\u001b[39m(\u001b[33mRectangle\u001b[39m(\u001b[32m4\u001b[39m, \u001b[32m5\u001b[39m), \u001b[33mCons\u001b[39m(\u001b[33mTriangle\u001b[39m(\u001b[32m4\u001b[39m), Nil()))\n",
       ")"
      ]
     },
     "execution_count": 13,
     "metadata": {},
     "output_type": "execute_result"
    }
   ],
   "source": [
    "val list: ShapeList = Cons(Circle(1), Cons(Rectangle(4,5), Cons(Triangle(4), Nil())))"
   ]
  },
  {
   "cell_type": "markdown",
   "metadata": {},
   "source": [
    "### Imperatively"
   ]
  },
  {
   "cell_type": "code",
   "execution_count": 14,
   "metadata": {},
   "outputs": [
    {
     "data": {
      "text/plain": [
       "defined \u001b[32mfunction\u001b[39m \u001b[36msumAreasI\u001b[39m"
      ]
     },
     "execution_count": 14,
     "metadata": {},
     "output_type": "execute_result"
    }
   ],
   "source": [
    "def sumAreasI(list: ShapeList): Double = {\n",
    "    var result: Double = 0.0\n",
    "    var cur: ShapeList = list \n",
    "    while (cur != Nil()){\n",
    "        val head: Shape = cur.asInstanceOf[Cons].head\n",
    "        result = result + area(head)\n",
    "        cur = cur.asInstanceOf[Cons].tail \n",
    "    }\n",
    "    result\n",
    "}"
   ]
  },
  {
   "cell_type": "code",
   "execution_count": 15,
   "metadata": {},
   "outputs": [
    {
     "data": {
      "text/plain": [
       "\u001b[36mres14\u001b[39m: \u001b[32mDouble\u001b[39m = \u001b[32m31.141592653589793\u001b[39m"
      ]
     },
     "execution_count": 15,
     "metadata": {},
     "output_type": "execute_result"
    }
   ],
   "source": [
    "sumAreasI(list)"
   ]
  },
  {
   "cell_type": "markdown",
   "metadata": {},
   "source": [
    "### Recursively (i.e. functionally)"
   ]
  },
  {
   "cell_type": "code",
   "execution_count": 16,
   "metadata": {},
   "outputs": [
    {
     "data": {
      "text/plain": [
       "defined \u001b[32mfunction\u001b[39m \u001b[36msumAreas\u001b[39m"
      ]
     },
     "execution_count": 16,
     "metadata": {},
     "output_type": "execute_result"
    }
   ],
   "source": [
    "def sumAreas(list: ShapeList): Double = \n",
    "    list match {\n",
    "        case Nil() => 0.0\n",
    "        case Cons(head, tail) => area(head) + sumAreas(tail)\n",
    "    }"
   ]
  },
  {
   "cell_type": "code",
   "execution_count": 17,
   "metadata": {},
   "outputs": [
    {
     "data": {
      "text/plain": [
       "\u001b[36mres16\u001b[39m: \u001b[32mDouble\u001b[39m = \u001b[32m31.141592653589793\u001b[39m"
      ]
     },
     "execution_count": 17,
     "metadata": {},
     "output_type": "execute_result"
    }
   ],
   "source": [
    "sumAreas(list)"
   ]
  },
  {
   "cell_type": "markdown",
   "metadata": {},
   "source": [
    "### Exercise"
   ]
  },
  {
   "cell_type": "code",
   "execution_count": 18,
   "metadata": {},
   "outputs": [
    {
     "data": {
      "text/plain": [
       "defined \u001b[32mfunction\u001b[39m \u001b[36mperimeter\u001b[39m"
      ]
     },
     "execution_count": 18,
     "metadata": {},
     "output_type": "execute_result"
    }
   ],
   "source": [
    "def perimeter(shape: Shape): Double =\n",
    "    shape match {\n",
    "        case Rectangle(w, h) => 2* (w + h)\n",
    "        case Circle(r) => 2 * Pi * r\n",
    "        case Triangle(b) => 3 * b\n",
    "    }"
   ]
  },
  {
   "cell_type": "code",
   "execution_count": 19,
   "metadata": {},
   "outputs": [
    {
     "data": {
      "text/plain": [
       "defined \u001b[32mfunction\u001b[39m \u001b[36msumPerimeters\u001b[39m"
      ]
     },
     "execution_count": 19,
     "metadata": {},
     "output_type": "execute_result"
    }
   ],
   "source": [
    "def sumPerimeters(list: ShapeList): Double = \n",
    "    list match {\n",
    "        case Nil() => 0.0\n",
    "        case Cons(head, tail) => perimeter(head) + sumPerimeters(tail)\n",
    "    } "
   ]
  },
  {
   "cell_type": "code",
   "execution_count": 20,
   "metadata": {},
   "outputs": [
    {
     "data": {
      "text/plain": [
       "\u001b[36mres19\u001b[39m: \u001b[32mDouble\u001b[39m = \u001b[32m36.283185307179586\u001b[39m"
      ]
     },
     "execution_count": 20,
     "metadata": {},
     "output_type": "execute_result"
    }
   ],
   "source": [
    "sumPerimeters(list)"
   ]
  },
  {
   "cell_type": "markdown",
   "metadata": {},
   "source": [
    "## Modularisation"
   ]
  },
  {
   "cell_type": "markdown",
   "metadata": {},
   "source": [
    "### Higher-order functions"
   ]
  },
  {
   "cell_type": "code",
   "execution_count": 21,
   "metadata": {},
   "outputs": [
    {
     "data": {
      "text/plain": [
       "defined \u001b[32mfunction\u001b[39m \u001b[36mapplyFunctionOnShapes\u001b[39m"
      ]
     },
     "execution_count": 21,
     "metadata": {},
     "output_type": "execute_result"
    }
   ],
   "source": [
    "def applyFunctionOnShapes(f: Shape => Double)(list: ShapeList): Double = \n",
    "    list match {\n",
    "        case Nil() => 0.0\n",
    "        case Cons(head, tail) => f(head) + applyFunctionOnShapes(f)(tail)\n",
    "    }"
   ]
  },
  {
   "cell_type": "code",
   "execution_count": 22,
   "metadata": {},
   "outputs": [
    {
     "data": {
      "text/plain": [
       "\u001b[36msumPerimeters\u001b[39m: \u001b[32mShapeList\u001b[39m => \u001b[32mDouble\u001b[39m = ammonite.$sess.cmd21$Helper$$Lambda$2396/1772929905@5821d226"
      ]
     },
     "execution_count": 22,
     "metadata": {},
     "output_type": "execute_result"
    }
   ],
   "source": [
    "val sumPerimeters: ShapeList => Double = \n",
    "    applyFunctionOnShapes(perimeter)"
   ]
  },
  {
   "cell_type": "code",
   "execution_count": 23,
   "metadata": {},
   "outputs": [
    {
     "data": {
      "text/plain": [
       "\u001b[36msumAreas\u001b[39m: \u001b[32mShapeList\u001b[39m => \u001b[32mDouble\u001b[39m = ammonite.$sess.cmd22$Helper$$Lambda$2401/1227360981@2218527a"
      ]
     },
     "execution_count": 23,
     "metadata": {},
     "output_type": "execute_result"
    }
   ],
   "source": [
    "val sumAreas: ShapeList => Double = \n",
    "    applyFunctionOnShapes(area)"
   ]
  },
  {
   "cell_type": "markdown",
   "metadata": {},
   "source": [
    "### Parametric polymorphism"
   ]
  },
  {
   "cell_type": "code",
   "execution_count": 24,
   "metadata": {},
   "outputs": [
    {
     "data": {
      "text/plain": [
       "defined \u001b[32mclass\u001b[39m \u001b[36mList\u001b[39m\n",
       "defined \u001b[32mclass\u001b[39m \u001b[36mNil\u001b[39m\n",
       "defined \u001b[32mclass\u001b[39m \u001b[36mCons\u001b[39m"
      ]
     },
     "execution_count": 24,
     "metadata": {},
     "output_type": "execute_result"
    }
   ],
   "source": [
    "sealed abstract class List[A]\n",
    "case class Nil[A]() extends List[A]\n",
    "case class Cons[A](head: A, tail: List[A]) extends List[A]"
   ]
  },
  {
   "cell_type": "code",
   "execution_count": 25,
   "metadata": {},
   "outputs": [
    {
     "data": {
      "text/plain": [
       "\u001b[36mlist\u001b[39m: \u001b[32mList\u001b[39m[\u001b[32mShape\u001b[39m] = \u001b[33mCons\u001b[39m(\n",
       "  \u001b[33mCircle\u001b[39m(\u001b[32m1\u001b[39m),\n",
       "  \u001b[33mCons\u001b[39m(\u001b[33mRectangle\u001b[39m(\u001b[32m4\u001b[39m, \u001b[32m5\u001b[39m), \u001b[33mCons\u001b[39m(\u001b[33mTriangle\u001b[39m(\u001b[32m4\u001b[39m), Nil()))\n",
       ")"
      ]
     },
     "execution_count": 25,
     "metadata": {},
     "output_type": "execute_result"
    }
   ],
   "source": [
    "val list: List[Shape] = Cons(Circle(1), Cons(Rectangle(4,5), Cons(Triangle(4), Nil())))"
   ]
  },
  {
   "cell_type": "code",
   "execution_count": 26,
   "metadata": {},
   "outputs": [
    {
     "data": {
      "text/plain": [
       "defined \u001b[32mfunction\u001b[39m \u001b[36mapplyFunctionOnList\u001b[39m"
      ]
     },
     "execution_count": 26,
     "metadata": {},
     "output_type": "execute_result"
    }
   ],
   "source": [
    "def applyFunctionOnList[A, B, C](b: B)(f: (A, B) => B)(list: List[A]): B = \n",
    "    list match {\n",
    "        case Nil() => b\n",
    "        case Cons(head, tail) => f(head, applyFunctionOnList(b)(f)(tail))\n",
    "    }"
   ]
  },
  {
   "cell_type": "code",
   "execution_count": 27,
   "metadata": {},
   "outputs": [
    {
     "data": {
      "text/plain": [
       "\u001b[36msumAreas\u001b[39m: \u001b[32mList\u001b[39m[\u001b[32mShape\u001b[39m] => \u001b[32mDouble\u001b[39m = ammonite.$sess.cmd26$Helper$$Lambda$2434/2112314366@14824dbe"
      ]
     },
     "execution_count": 27,
     "metadata": {},
     "output_type": "execute_result"
    }
   ],
   "source": [
    "val sumAreas: List[Shape] => Double = \n",
    "    applyFunctionOnList(0.0)((s: Shape, d: Double) => area(s) + d)"
   ]
  },
  {
   "cell_type": "code",
   "execution_count": 28,
   "metadata": {},
   "outputs": [
    {
     "data": {
      "text/plain": [
       "\u001b[36msumPerimeters\u001b[39m: \u001b[32mList\u001b[39m[\u001b[32mShape\u001b[39m] => \u001b[32mDouble\u001b[39m = ammonite.$sess.cmd27$Helper$$Lambda$2440/1861796895@351cf3a2"
      ]
     },
     "execution_count": 28,
     "metadata": {},
     "output_type": "execute_result"
    }
   ],
   "source": [
    "val sumPerimeters: List[Shape] => Double = \n",
    "    applyFunctionOnList(0.0)((s: Shape, d: Double) => perimeter(s) + d)"
   ]
  },
  {
   "cell_type": "markdown",
   "metadata": {},
   "source": [
    "### The HallOfFame of Higher-Order Functions"
   ]
  },
  {
   "cell_type": "code",
   "execution_count": 29,
   "metadata": {},
   "outputs": [
    {
     "data": {
      "text/plain": [
       "defined \u001b[32mfunction\u001b[39m \u001b[36mfoldRight\u001b[39m"
      ]
     },
     "execution_count": 29,
     "metadata": {},
     "output_type": "execute_result"
    }
   ],
   "source": [
    "def foldRight[A, B, C](b: B)(f: (A, B) => B)(list: List[A]): B = \n",
    "    list match {\n",
    "        case Nil() => b\n",
    "        case Cons(head, tail) => f(head, foldRight(b)(f)(tail))\n",
    "    }"
   ]
  },
  {
   "cell_type": "code",
   "execution_count": 30,
   "metadata": {},
   "outputs": [
    {
     "data": {
      "text/plain": [
       "defined \u001b[32mfunction\u001b[39m \u001b[36msum\u001b[39m"
      ]
     },
     "execution_count": 30,
     "metadata": {},
     "output_type": "execute_result"
    }
   ],
   "source": [
    "def sum: List[Double] => Double = \n",
    "    foldRight(0.0)((a: Double, b: Double) => a + b)"
   ]
  },
  {
   "cell_type": "code",
   "execution_count": 31,
   "metadata": {},
   "outputs": [
    {
     "data": {
      "text/plain": [
       "defined \u001b[32mfunction\u001b[39m \u001b[36mmap\u001b[39m"
      ]
     },
     "execution_count": 31,
     "metadata": {},
     "output_type": "execute_result"
    }
   ],
   "source": [
    "def map[A, B](f: A => B)(list: List[A]): List[B] = \n",
    "    list match {\n",
    "        case Nil() => Nil()\n",
    "        case Cons(head, tail) => Cons(f(head), map(f)(tail))\n",
    "    }"
   ]
  },
  {
   "cell_type": "code",
   "execution_count": 32,
   "metadata": {},
   "outputs": [
    {
     "data": {
      "text/plain": [
       "defined \u001b[32mfunction\u001b[39m \u001b[36mandThen\u001b[39m"
      ]
     },
     "execution_count": 32,
     "metadata": {},
     "output_type": "execute_result"
    }
   ],
   "source": [
    "def andThen[A, B, C](f: A => B)(g: B => C): A => C = \n",
    "    (a: A) => g(f(a))"
   ]
  },
  {
   "cell_type": "code",
   "execution_count": 33,
   "metadata": {},
   "outputs": [
    {
     "data": {
      "text/plain": [
       "\u001b[36msum\u001b[39m: \u001b[32mList\u001b[39m[\u001b[32mDouble\u001b[39m] => \u001b[32mDouble\u001b[39m = ammonite.$sess.cmd32$Helper$$Lambda$2447/1271322241@cca2a61"
      ]
     },
     "execution_count": 33,
     "metadata": {},
     "output_type": "execute_result"
    }
   ],
   "source": [
    "val sum: List[Double] => Double = \n",
    "    foldRight(0.0)((d1: Double, d2: Double) => d1 + d2)"
   ]
  },
  {
   "cell_type": "code",
   "execution_count": 34,
   "metadata": {},
   "outputs": [
    {
     "data": {
      "text/plain": [
       "\u001b[36msumAreas\u001b[39m: \u001b[32mList\u001b[39m[\u001b[32mShape\u001b[39m] => \u001b[32mDouble\u001b[39m = ammonite.$sess.cmd31$Helper$$Lambda$2454/1758835791@187d6894"
      ]
     },
     "execution_count": 34,
     "metadata": {},
     "output_type": "execute_result"
    }
   ],
   "source": [
    "val sumAreas: List[Shape] => Double =\n",
    "    andThen(map(area))(sum)"
   ]
  },
  {
   "cell_type": "code",
   "execution_count": 35,
   "metadata": {},
   "outputs": [
    {
     "data": {
      "text/plain": [
       "\u001b[36msumPerimeters\u001b[39m: \u001b[32mList\u001b[39m[\u001b[32mShape\u001b[39m] => \u001b[32mDouble\u001b[39m = ammonite.$sess.cmd31$Helper$$Lambda$2454/1758835791@17d0cf0"
      ]
     },
     "execution_count": 35,
     "metadata": {},
     "output_type": "execute_result"
    }
   ],
   "source": [
    "val sumPerimeters: List[Shape] => Double = \n",
    "    andThen(map(perimeter))(sum)"
   ]
  }
 ],
 "metadata": {
  "kernelspec": {
   "display_name": "Scala",
   "language": "scala",
   "name": "scala"
  },
  "language_info": {
   "codemirror_mode": "text/x-scala",
   "file_extension": ".scala",
   "mimetype": "text/x-scala",
   "name": "scala",
   "nbconvert_exporter": "script",
   "version": "2.13.0"
  }
 },
 "nbformat": 4,
 "nbformat_minor": 2
}
