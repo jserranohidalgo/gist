{
 "cells": [
  {
   "cell_type": "code",
   "execution_count": 5,
   "metadata": {},
   "outputs": [
    {
     "data": {
      "text/plain": [
       "defined \u001b[32mtrait\u001b[39m \u001b[36mConstructiveLogicDB\u001b[39m"
      ]
     },
     "execution_count": 5,
     "metadata": {},
     "output_type": "execute_result"
    }
   ],
   "source": [
    "trait ConstructiveLogicDB[L[_, _]]{\n",
    "    type Or[A, B] = Either[A, B]\n",
    "    type And[A, B] = (A, B)\n",
    "    type Not[A] = A => Nothing\n",
    "    \n",
    "    def vz[E, A]: L[(A, E), A]\n",
    "    def vs[E, A, B](v: L[E, A]): L[(B, E), A]\n",
    "    def lam[E, A, B](body: L[(A, E), B]): L[E, A => B]\n",
    "    \n",
    "    def absurd[E]: L[E, Nothing]\n",
    "    def foo[E, A](ab: L[E, Nothing]): L[E, A]\n",
    "    \n",
    "    def not[E, A]: L[E, A => Nothing] = \n",
    "        lam[E, A, Nothing](absurd[(A, E)])\n",
    "    \n",
    "    def and[E, A, B](a: L[E, A], b: L[E, B]): L[E, (A, B)]\n",
    "    def elimL[E, A, B](a: L[E, (A, B)]): L[E, A]\n",
    "    def elimR[E, A, B](a: L[E, (A, B)]): L[E, B]\n",
    "    \n",
    "    def orL[E, A, B](a: L[E, A]): L[E, A Either B]\n",
    "    def orR[E, A, B](b: L[E, B]): L[E, A Either B]\n",
    "    def elimOr[E, A, B, C](\n",
    "        or: L[E, A Either B], \n",
    "        fa: L[E, A => C],\n",
    "        fb: L[E, B => C]): L[E, C]\n",
    "    \n",
    "}"
   ]
  },
  {
   "cell_type": "code",
   "execution_count": 1,
   "metadata": {},
   "outputs": [
    {
     "data": {
      "text/plain": [
       "\u001b[32mimport \u001b[39m\u001b[36mCL._\n",
       "\n",
       "\u001b[39m\n",
       "defined \u001b[32mtrait\u001b[39m \u001b[36mCL\u001b[39m\n",
       "defined \u001b[32mobject\u001b[39m \u001b[36mCL\u001b[39m"
      ]
     },
     "execution_count": 1,
     "metadata": {},
     "output_type": "execute_result"
    }
   ],
   "source": [
    "import CL._\n",
    "\n",
    "trait CL[L[_]]{    \n",
    "    def lam[A, B](f: L[A] => L[B]): L[A => B]\n",
    "    def app[A, B](f: L[A => B], a: L[A]): L[B]\n",
    "    \n",
    "    def elimNothing[A](ab: L[Nothing]): L[A]\n",
    "    def elimNot[A, B](n: L[Not[A]], a: L[A]): L[B]\n",
    "    \n",
    "    def and[A, B](a: L[A], b: L[B]): L[(A, B)]\n",
    "    def elimAndL[A, B](a: L[(A, B)]): L[A]\n",
    "    def elimAndR[A, B](a: L[(A, B)]): L[B]\n",
    "    \n",
    "    def orL[A, B](a: L[A]): L[A Either B]\n",
    "    def orR[A, B](b: L[B]): L[A Either B]\n",
    "    def elimOr[A, B, C](\n",
    "        or: L[A Either B], \n",
    "        fa: L[A => C],\n",
    "        fb: L[B => C]): L[C]\n",
    "    \n",
    "}\n",
    "\n",
    "object CL{\n",
    "    type Or[A, B] = Either[A, B]\n",
    "    type And[A, B] = (A, B)\n",
    "    type Not[A] = A => Nothing\n",
    "\n",
    "    implicit class Ops[A, B, L[_]](f: L[A => B])(implicit L: CL[L]){\n",
    "        def apply(a: L[A]): L[B] = L.app(f, a)\n",
    "    }\n",
    "    \n",
    "    implicit def toLam[L[_], A, B](f: L[A] => L[B])(implicit L: CL[L]): L[A => B] = \n",
    "        L.lam(f)\n",
    "    \n",
    "    type Id[T] = T \n",
    "    \n",
    "    object IdCL extends CL[Id]{\n",
    "        def lam[A, B](f: A => B): A => B = f\n",
    "        def app[A, B](f: A => B, a: A): B = f(a)\n",
    "\n",
    "        def elimNothing[A](ab: Nothing): A = ab\n",
    "        def elimNot[A, B](n: Not[A], a: A): B = n(a)\n",
    "\n",
    "\n",
    "        def and[A, B](a: A, b: B): (A, B) = (a, b)\n",
    "        def elimAndL[A, B](a: (A, B)): A = a._1\n",
    "        def elimAndR[A, B](a: (A, B)): B = a._2\n",
    "\n",
    "        def orL[A, B](a: A): A Either B = Left(a)\n",
    "        def orR[A, B](b: B): A Either B = Right(b)\n",
    "        def elimOr[A, B, C](\n",
    "            or: A Either B, \n",
    "            fa: A => C,\n",
    "            fb: B => C): C = or.fold(fa, fb)\n",
    "    }\n",
    "    \n",
    "/*    sealed abstract class Judgement[E, A]\n",
    "    case class Var[E, A] extends Judg*/\n",
    "        \n",
    "}"
   ]
  },
  {
   "cell_type": "code",
   "execution_count": 2,
   "metadata": {},
   "outputs": [
    {
     "data": {
      "text/plain": [
       "defined \u001b[32mclass\u001b[39m \u001b[36mProofs\u001b[39m"
      ]
     },
     "execution_count": 2,
     "metadata": {},
     "output_type": "execute_result"
    }
   ],
   "source": [
    "abstract class Proofs[L[_]]{\n",
    "    implicit val L: CL[L]\n",
    "    import L._\n",
    "    \n",
    "    def proof1[A, B]: L[(A Or B) => Not[A] => B] = \n",
    "        lam((or: L[A Or B]) => \n",
    "            lam((n: L[Not[A]]) => \n",
    "                elimOr(or,\n",
    "                    lam((a: L[A]) => elimNot[A, B](n, a)), \n",
    "                    lam((b: L[B]) => b))))\n",
    "\n",
    "    def proof2[A, B]: L[Not[A] => A => B] = \n",
    "        lam(n => lam((a: L[A]) => elimNot[A, B](n, a)))\n",
    "\n",
    "    def proof3[A, B]: L[(A => Not[B]) => (A => B) => Not[A]] = \n",
    "        lam((i: L[A => Not[B]]) => \n",
    "            lam((i2: L[A => B]) => \n",
    "                lam[A, Nothing]((a: L[A]) => elimNot(i(a), i2(a)))))\n",
    "/*\n",
    "    def proof4[A, B]: Not[A => B] => Not[B] = \n",
    "        n => (b: B) => n((_: A) => b)\n",
    "\n",
    "    def proof5[A, B]: Not[A] => Not[And[A, B]] = \n",
    "    //    (and: And[A, B]) => n(And.elimL(and))\n",
    "        n => n compose And.elimL\n",
    "\n",
    "    def proof6[A, B]: Not[And[A, Not[A]]] = \n",
    "        (a: And[A, Not[A]]) => And.elimR(a)(And.elimL(a))\n",
    "\n",
    "    def proof7[A, B]: Not[And[A, B]] => A => Not[B] = \n",
    "        n => (a: A) => (b: B) => n(And(a, b))\n",
    "\n",
    "    def proof8[A, B]: Or[A, B] => Or[B, A] = \n",
    "        Or.elim[A, B, Or[B, A]](Or.applyR[B, A], Or.applyL[B, A])\n",
    "\n",
    "    def proof9[A, B]: Not[A Or B] => Not[A] And Not[B] = \n",
    "        n => And((a: A) => n(Or.applyL(a)), (b: B) => n(Or.applyR(b)))\n",
    "\n",
    "    def proof10[A, B]: (Not[A] And Not[B]) => Not[A Or B] = \n",
    "        and => Or.elim[A, B, Absurd](And.elimL(and), And.elimR(and))\n",
    "\n",
    "    def proof11[A]: Not[A And Not[A]] = \n",
    "        a => And.elimR(a)(And.elimL(a))\n",
    "        */\n",
    "}"
   ]
  },
  {
   "cell_type": "code",
   "execution_count": null,
   "metadata": {},
   "outputs": [],
   "source": []
  }
 ],
 "metadata": {
  "kernelspec": {
   "display_name": "Scala",
   "language": "scala",
   "name": "scala"
  },
  "language_info": {
   "codemirror_mode": "text/x-scala",
   "file_extension": ".scala",
   "mimetype": "text/x-scala",
   "name": "scala",
   "nbconvert_exporter": "script",
   "version": "2.13.0"
  }
 },
 "nbformat": 4,
 "nbformat_minor": 2
}
