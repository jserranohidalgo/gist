{
 "cells": [
  {
   "cell_type": "code",
   "execution_count": 1,
   "metadata": {},
   "outputs": [
    {
     "data": {
      "text/plain": [
       "defined \u001b[32mtype\u001b[39m \u001b[36mOr\u001b[39m\n",
       "defined \u001b[32mtype\u001b[39m \u001b[36mAnd\u001b[39m\n",
       "defined \u001b[32mtype\u001b[39m \u001b[36mNot\u001b[39m"
      ]
     },
     "execution_count": 1,
     "metadata": {},
     "output_type": "execute_result"
    }
   ],
   "source": [
    "type Or[A, B] = Either[A, B]\n",
    "type And[A, B] = (A, B)\n",
    "type Not[A] = A => Nothing\n",
    "\n"
   ]
  },
  {
   "cell_type": "code",
   "execution_count": 2,
   "metadata": {},
   "outputs": [
    {
     "data": {
      "text/plain": [
       "defined \u001b[32mtrait\u001b[39m \u001b[36mCL\u001b[39m\n",
       "defined \u001b[32mobject\u001b[39m \u001b[36mCL\u001b[39m"
      ]
     },
     "execution_count": 2,
     "metadata": {},
     "output_type": "execute_result"
    }
   ],
   "source": [
    "trait CL[L[_]]{    \n",
    "\n",
    "    def lam[A, B](f: L[A] => L[B]): L[A => B]\n",
    "    def app[A, B](f: L[A => B], a: L[A]): L[B]\n",
    "    \n",
    "    def not[A](f: L[A] => L[Nothing]): L[Not[A]] = \n",
    "        lam[A, Nothing](f)\n",
    "    \n",
    "    def elimNothing[A](ab: L[Nothing]): L[A]\n",
    "    def elimNot[A, B](n: L[Not[A]], a: L[A]): L[B]\n",
    "    \n",
    "    def and[A, B](a: L[A], b: L[B]): L[(A, B)]\n",
    "    def elimAndL[A, B](a: L[(A, B)]): L[A]\n",
    "    def elimAndR[A, B](a: L[(A, B)]): L[B]\n",
    "    \n",
    "    def orL[A, B](a: L[A]): L[A Either B]\n",
    "    def orR[A, B](b: L[B]): L[A Either B]\n",
    "    def elimOr[A, B, C](\n",
    "        or: L[A Either B], \n",
    "        fa: L[A => C],\n",
    "        fb: L[B => C]): L[C]\n",
    "    \n",
    "}\n",
    "\n",
    "object CL{\n",
    "    object Syntax{\n",
    "        implicit class Ops[A, B, L[_]](f: L[A => B])(implicit L: CL[L]){\n",
    "            def apply(a: L[A]): L[B] = L.app(f, a)\n",
    "        }\n",
    "\n",
    "        implicit def toLam[L[_], A, B](f: L[A] => L[B])(implicit L: CL[L]): L[A => B] = \n",
    "            L.lam(f)\n",
    "    }\n",
    "    \n",
    "    type Id[T] = T \n",
    "    \n",
    "    object IdCL extends CL[Id]{\n",
    "        def lam[A, B](f: A => B): A => B = f\n",
    "        def app[A, B](f: A => B, a: A): B = f(a)\n",
    "\n",
    "        def elimNothing[A](ab: Nothing): A = ab\n",
    "        def elimNot[A, B](n: Not[A], a: A): B = n(a)\n",
    "\n",
    "\n",
    "        def and[A, B](a: A, b: B): (A, B) = (a, b)\n",
    "        def elimAndL[A, B](a: (A, B)): A = a._1\n",
    "        def elimAndR[A, B](a: (A, B)): B = a._2\n",
    "\n",
    "        def orL[A, B](a: A): A Either B = Left(a)\n",
    "        def orR[A, B](b: B): A Either B = Right(b)\n",
    "        def elimOr[A, B, C](\n",
    "            or: A Either B, \n",
    "            fa: A => C,\n",
    "            fb: B => C): C = or.fold(fa, fb)\n",
    "    }\n",
    "}"
   ]
  },
  {
   "cell_type": "code",
   "execution_count": 3,
   "metadata": {},
   "outputs": [
    {
     "data": {
      "text/plain": [
       "defined \u001b[32mclass\u001b[39m \u001b[36mProofs\u001b[39m"
      ]
     },
     "execution_count": 3,
     "metadata": {},
     "output_type": "execute_result"
    }
   ],
   "source": [
    "abstract class Proofs[L[_]]{\n",
    "    implicit val L: CL[L]\n",
    "    import CL.Syntax._\n",
    "    import L._\n",
    "    \n",
    "    def proof1[A, B]: L[(A Or B) => Not[A] => B] = \n",
    "        lam((or: L[A Or B]) => \n",
    "            lam((n: L[Not[A]]) => \n",
    "                elimOr(or,\n",
    "                    lam((a: L[A]) => elimNot[A, B](n, a)), \n",
    "                    lam((b: L[B]) => b))))\n",
    "\n",
    "    def proof2[A, B]: L[Not[A] => A => B] = \n",
    "        lam(n => \n",
    "            lam((a: L[A]) => \n",
    "                elimNot[A, B](n, a)))\n",
    "\n",
    "    def proof3[A, B]: L[(A => Not[B]) => (A => B) => Not[A]] = \n",
    "        lam((i: L[A => Not[B]]) => \n",
    "            lam((i2: L[A => B]) => \n",
    "                not((a: L[A]) => elimNot(i(a), i2(a)))))\n",
    "/*\n",
    "    def proof4[A, B]: Not[A => B] => Not[B] = \n",
    "        n => (b: B) => n((_: A) => b)\n",
    "\n",
    "    def proof5[A, B]: Not[A] => Not[And[A, B]] = \n",
    "    //    (and: And[A, B]) => n(And.elimL(and))\n",
    "        n => n compose And.elimL\n",
    "\n",
    "    def proof6[A, B]: Not[And[A, Not[A]]] = \n",
    "        (a: And[A, Not[A]]) => And.elimR(a)(And.elimL(a))\n",
    "\n",
    "    def proof7[A, B]: Not[And[A, B]] => A => Not[B] = \n",
    "        n => (a: A) => (b: B) => n(And(a, b))\n",
    "\n",
    "    def proof8[A, B]: Or[A, B] => Or[B, A] = \n",
    "        Or.elim[A, B, Or[B, A]](Or.applyR[B, A], Or.applyL[B, A])\n",
    "\n",
    "    def proof9[A, B]: Not[A Or B] => Not[A] And Not[B] = \n",
    "        n => And((a: A) => n(Or.applyL(a)), (b: B) => n(Or.applyR(b)))\n",
    "\n",
    "    def proof10[A, B]: (Not[A] And Not[B]) => Not[A Or B] = \n",
    "        and => Or.elim[A, B, Absurd](And.elimL(and), And.elimR(and))\n",
    "\n",
    "    def proof11[A]: Not[A And Not[A]] = \n",
    "        a => And.elimR(a)(And.elimL(a))\n",
    "        */\n",
    "}"
   ]
  },
  {
   "cell_type": "code",
   "execution_count": 6,
   "metadata": {},
   "outputs": [
    {
     "data": {
      "text/plain": [
       "defined \u001b[32mclass\u001b[39m \u001b[36mDerivation\u001b[39m\n",
       "defined \u001b[32mclass\u001b[39m \u001b[36mVarZ\u001b[39m\n",
       "defined \u001b[32mclass\u001b[39m \u001b[36mVarS\u001b[39m\n",
       "defined \u001b[32mclass\u001b[39m \u001b[36mImplI\u001b[39m\n",
       "defined \u001b[32mclass\u001b[39m \u001b[36mImplE\u001b[39m\n",
       "defined \u001b[32mclass\u001b[39m \u001b[36mNotE\u001b[39m\n",
       "defined \u001b[32mclass\u001b[39m \u001b[36mAndI\u001b[39m\n",
       "defined \u001b[32mclass\u001b[39m \u001b[36mAndE1\u001b[39m\n",
       "defined \u001b[32mclass\u001b[39m \u001b[36mAndE2\u001b[39m\n",
       "defined \u001b[32mclass\u001b[39m \u001b[36mOrI1\u001b[39m\n",
       "defined \u001b[32mclass\u001b[39m \u001b[36mOrI2\u001b[39m\n",
       "defined \u001b[32mclass\u001b[39m \u001b[36mOrE\u001b[39m"
      ]
     },
     "execution_count": 6,
     "metadata": {},
     "output_type": "execute_result"
    }
   ],
   "source": [
    "// derivation rules\n",
    "\n",
    "sealed abstract class Derivation[E, A]\n",
    "\n",
    "case class VarZ[A, E]() \n",
    "extends Derivation[(A, E), A]\n",
    "\n",
    "case class VarS[A, B, E](\n",
    "    d: Derivation[E, A]\n",
    ") extends Derivation[(B, E), A]\n",
    "\n",
    "case class ImplI[A, B, E](\n",
    "    d1: Derivation[(A, E), B]\n",
    ") extends Derivation[E, A => B]\n",
    "\n",
    "case class ImplE[A, B, E](\n",
    "    d1: Derivation[E, A => B],\n",
    "    d2: Derivation[E, A]\n",
    ") extends Derivation[E, B]\n",
    "\n",
    "case class NotE[A, B, E](\n",
    "    d1: Derivation[E, A],\n",
    "    d2: Derivation[E, Not[A]]\n",
    ") extends Derivation[E, B]\n",
    "\n",
    "case class AndI[A, B, E](\n",
    "    d1: Derivation[E, A],\n",
    "    d2: Derivation[E, B]\n",
    ") extends Derivation[E, A And B]\n",
    "\n",
    "case class AndE1[A, B, E](\n",
    "    d1: Derivation[E, A And B]\n",
    ") extends Derivation[E, A]\n",
    "\n",
    "case class AndE2[A, B, E](\n",
    "    d1: Derivation[E, A And B]\n",
    ") extends Derivation[E, B]\n",
    "\n",
    "case class OrI1[A, B, E](\n",
    "    d1: Derivation[E, A]\n",
    ") extends Derivation[E, A Or B]\n",
    "\n",
    "case class OrI2[A, B, E](\n",
    "    d1: Derivation[E, B]\n",
    ") extends Derivation[E, A Or B]\n",
    "\n",
    "case class OrE[A, B, C, E](\n",
    "    d1: Derivation[E, A Or B],\n",
    "    d2: Derivation[E, A => C],\n",
    "    d3: Derivation[E, B => C]\n",
    ") extends Derivation[E, C]\n"
   ]
  },
  {
   "cell_type": "code",
   "execution_count": 7,
   "metadata": {},
   "outputs": [
    {
     "name": "stderr",
     "output_type": "stream",
     "text": [
      "cmd7.sc:11: object creation impossible.\n",
      "Missing implementations for 8 members. Stub implementations follow:\n",
      "  def elimAndL[A, B](a: Helper.this.TBD[(A, B)]): Helper.this.TBD[A] = ???\n",
      "  def elimAndR[A, B](a: Helper.this.TBD[(A, B)]): Helper.this.TBD[B] = ???\n",
      "  def elimNot[A, B](n: Helper.this.TBD[ammonite.$sess.cmd1.wrapper.cmd0.Not[A]], a: Helper.this.TBD[A]): Helper.this.TBD[B] = ???\n",
      "  def elimNothing[A](ab: Helper.this.TBD[Nothing]): Helper.this.TBD[A] = ???\n",
      "  def elimOr[A, B, C](or: Helper.this.TBD[Either[A,B]], fa: Helper.this.TBD[A => C], fb: Helper.this.TBD[B => C]): Helper.this.TBD[C] = ???\n",
      "  def lam[A, B](f: Helper.this.TBD[A] => Helper.this.TBD[B]): Helper.this.TBD[A => B] = ???\n",
      "  def orL[A, B](a: Helper.this.TBD[A]): Helper.this.TBD[Either[A,B]] = ???\n",
      "  def orR[A, B](b: Helper.this.TBD[B]): Helper.this.TBD[Either[A,B]] = ???\n",
      "\n",
      "    implicit object TBD_CL extends CL[TBD]{\n",
      "                    ^Compilation Failed"
     ]
    },
    {
     "ename": "",
     "evalue": "",
     "output_type": "error",
     "traceback": [
      "Compilation Failed"
     ]
    }
   ],
   "source": [
    "sealed abstract class Ctx[E]\n",
    "case class CtxZ() extends Ctx[Unit]\n",
    "case class CtxS[A, E](c: Ctx[E]) extends Ctx[(A, E)]\n",
    "\n",
    "trait TBD[A]{\n",
    "    def apply[E](c: Ctx[E]): Derivation[E, A]\n",
    "}\n",
    "\n",
    "object TBD{\n",
    "    \n",
    "    implicit object TBD_CL extends CL[TBD]{\n",
    "        /*\n",
    "        def lam[A, B](f: L[A] => L[B]): L[A => B]\n",
    "*/\n",
    "        def app[A, B](f: TBD[A => B], a: TBD[A]): TBD[B] = \n",
    "            new TBD[B]{\n",
    "                def apply[E](c: Ctx[E]): Derivation[E, B] = \n",
    "                    ImplE(f(c), a(c))\n",
    "            }\n",
    "/*\n",
    "        def not[A](f: L[A] => L[Nothing]): L[Not[A]] = \n",
    "            lam[A, Nothing](f)\n",
    "\n",
    "        def elimNothing[A](ab: L[Nothing]): L[A]\n",
    "        def elimNot[A, B](n: L[Not[A]], a: L[A]): L[B]\n",
    "*/\n",
    "        def and[A, B](a: TBD[A], b: TBD[B]): TBD[(A, B)] = \n",
    "            new TBD[(A, B)]{\n",
    "                def apply[E](c: Ctx[E]): Derivation[E, (A, B)] = \n",
    "                    AndI(a(c), b(c))\n",
    "            }\n",
    "        \n",
    "        /*\n",
    "        def elimAndL[A, B](a: L[(A, B)]): L[A]\n",
    "        def elimAndR[A, B](a: L[(A, B)]): L[B]\n",
    "\n",
    "        def orL[A, B](a: L[A]): L[A Either B]\n",
    "        def orR[A, B](b: L[B]): L[A Either B]\n",
    "        def elimOr[A, B, C](\n",
    "            or: L[A Either B], \n",
    "            fa: L[A => C],\n",
    "            fb: L[B => C]): L[C]\n",
    "    */\n",
    "    }\n",
    "}"
   ]
  },
  {
   "cell_type": "code",
   "execution_count": null,
   "metadata": {},
   "outputs": [],
   "source": []
  }
 ],
 "metadata": {
  "kernelspec": {
   "display_name": "Scala",
   "language": "scala",
   "name": "scala"
  },
  "language_info": {
   "codemirror_mode": "text/x-scala",
   "file_extension": ".scala",
   "mimetype": "text/x-scala",
   "name": "scala",
   "nbconvert_exporter": "script",
   "version": "2.13.0"
  }
 },
 "nbformat": 4,
 "nbformat_minor": 2
}
