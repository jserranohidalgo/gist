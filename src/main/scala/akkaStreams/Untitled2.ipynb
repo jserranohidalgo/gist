{
 "cells": [
  {
   "cell_type": "code",
   "execution_count": 5,
   "metadata": {},
   "outputs": [
    {
     "data": {
      "text/plain": [
       "\u001b[32mimport \u001b[39m\u001b[36m$ivy.$                                     \n",
       "\u001b[39m\n",
       "\u001b[32mimport \u001b[39m\u001b[36m$ivy.$                                     \n",
       "// repl.pprinter() = repl.pprinter().copy(defaultHeight = 5 )\u001b[39m"
      ]
     },
     "execution_count": 5,
     "metadata": {},
     "output_type": "execute_result"
    }
   ],
   "source": [
    "import $ivy.`com.typesafe.akka::akka-stream:2.6.4`\n",
    "import $ivy.`com.typesafe.akka::akka-http:10.1.11`\n",
    "// repl.pprinter() = repl.pprinter().copy(defaultHeight = 5 )"
   ]
  },
  {
   "cell_type": "code",
   "execution_count": 6,
   "metadata": {},
   "outputs": [
    {
     "data": {
      "text/plain": [
       "\u001b[32mimport \u001b[39m\u001b[36makka.stream._\n",
       "\u001b[39m\n",
       "\u001b[32mimport \u001b[39m\u001b[36makka.stream.scaladsl._\u001b[39m"
      ]
     },
     "execution_count": 6,
     "metadata": {},
     "output_type": "execute_result"
    }
   ],
   "source": [
    "import akka.stream._\n",
    "import akka.stream.scaladsl._"
   ]
  },
  {
   "cell_type": "code",
   "execution_count": 7,
   "metadata": {},
   "outputs": [
    {
     "data": {
      "text/plain": [
       "\u001b[32mimport \u001b[39m\u001b[36makka.{ Done, NotUsed }\n",
       "\u001b[39m\n",
       "\u001b[32mimport \u001b[39m\u001b[36makka.actor.ActorSystem\n",
       "\u001b[39m\n",
       "\u001b[32mimport \u001b[39m\u001b[36makka.util.ByteString\n",
       "\u001b[39m\n",
       "\u001b[32mimport \u001b[39m\u001b[36mscala.concurrent._\n",
       "\u001b[39m\n",
       "\u001b[32mimport \u001b[39m\u001b[36mscala.concurrent.duration._\n",
       "\u001b[39m\n",
       "\u001b[32mimport \u001b[39m\u001b[36mjava.nio.file.Paths\u001b[39m"
      ]
     },
     "execution_count": 7,
     "metadata": {},
     "output_type": "execute_result"
    }
   ],
   "source": [
    "import akka.{ Done, NotUsed }\n",
    "import akka.actor.ActorSystem\n",
    "import akka.util.ByteString\n",
    "import scala.concurrent._\n",
    "import scala.concurrent.duration._\n",
    "import java.nio.file.Paths"
   ]
  },
  {
   "cell_type": "code",
   "execution_count": 8,
   "metadata": {},
   "outputs": [
    {
     "data": {
      "text/plain": [
       "\u001b[32mimport \u001b[39m\u001b[36mcom.typesafe.config._\u001b[39m"
      ]
     },
     "execution_count": 8,
     "metadata": {},
     "output_type": "execute_result"
    }
   ],
   "source": [
    "import com.typesafe.config._"
   ]
  },
  {
   "cell_type": "code",
   "execution_count": 13,
   "metadata": {},
   "outputs": [
    {
     "data": {
      "text/plain": [
       "\u001b[36msystem\u001b[39m: \u001b[32mActorSystem\u001b[39m = akka://QuickStart"
      ]
     },
     "execution_count": 13,
     "metadata": {},
     "output_type": "execute_result"
    }
   ],
   "source": [
    "implicit val system: ActorSystem = ActorSystem(\"QuickStart\")"
   ]
  },
  {
   "cell_type": "code",
   "execution_count": 14,
   "metadata": {},
   "outputs": [
    {
     "data": {
      "text/plain": [
       "\u001b[36mec\u001b[39m: \u001b[32mExecutionContextExecutor\u001b[39m = Dispatcher[akka.actor.default-dispatcher]"
      ]
     },
     "execution_count": 14,
     "metadata": {},
     "output_type": "execute_result"
    }
   ],
   "source": [
    "implicit val ec = system.dispatcher"
   ]
  },
  {
   "cell_type": "code",
   "execution_count": 15,
   "metadata": {},
   "outputs": [
    {
     "data": {
      "text/plain": [
       "\u001b[32mimport \u001b[39m\u001b[36makka.http.scaladsl.Http\n",
       "\u001b[39m\n",
       "\u001b[32mimport \u001b[39m\u001b[36makka.http.scaladsl.model._\n",
       "\u001b[39m\n",
       "\u001b[32mimport \u001b[39m\u001b[36mscala.concurrent._\n",
       "\u001b[39m\n",
       "\u001b[32mimport \u001b[39m\u001b[36mscala.util._\u001b[39m"
      ]
     },
     "execution_count": 15,
     "metadata": {},
     "output_type": "execute_result"
    }
   ],
   "source": [
    "import akka.http.scaladsl.Http\n",
    "import akka.http.scaladsl.model._\n",
    "import scala.concurrent._\n",
    "import scala.util._"
   ]
  },
  {
   "cell_type": "code",
   "execution_count": 16,
   "metadata": {},
   "outputs": [
    {
     "data": {
      "text/plain": [
       "\u001b[36mQueueSize\u001b[39m: \u001b[32mInt\u001b[39m = \u001b[32m10\u001b[39m\n",
       "\u001b[36mpoolClientFlow\u001b[39m: \u001b[32mFlow\u001b[39m[(\u001b[32mHttpRequest\u001b[39m, \u001b[32mPromise\u001b[39m[\u001b[32mHttpResponse\u001b[39m]), (\u001b[32mTry\u001b[39m[\u001b[32mHttpResponse\u001b[39m], \u001b[32mPromise\u001b[39m[\u001b[32mHttpResponse\u001b[39m]), \u001b[32mHttp\u001b[39m.\u001b[32mHostConnectionPool\u001b[39m] = Flow(FlowShape(MapAsyncUnordered.in(1135870657),MapAsyncUnordered.out(431663193)))\n",
       "\u001b[36mqueue\u001b[39m: \u001b[32mSourceQueueWithComplete\u001b[39m[(\u001b[32mHttpRequest\u001b[39m, \u001b[32mPromise\u001b[39m[\u001b[32mHttpResponse\u001b[39m])] = akka.stream.impl.QueueSource$$anon$1@40dce5da"
      ]
     },
     "execution_count": 16,
     "metadata": {},
     "output_type": "execute_result"
    }
   ],
   "source": [
    "\n",
    "val QueueSize = 10\n",
    "\n",
    "val poolClientFlow = \n",
    "    Http().cachedHostConnectionPool[Promise[HttpResponse]](\"akka.io\")\n",
    "\n",
    "val queue =\n",
    "  Source.queue[(HttpRequest, Promise[HttpResponse])](\n",
    "          QueueSize, OverflowStrategy.dropNew)\n",
    "    .via(poolClientFlow)\n",
    "    .to(Sink.foreach({\n",
    "      case ((Success(resp), p)) => p.success(resp)\n",
    "      case ((Failure(e), p))    => p.failure(e)\n",
    "    }))\n",
    "    .run()\n"
   ]
  },
  {
   "cell_type": "code",
   "execution_count": 17,
   "metadata": {},
   "outputs": [
    {
     "data": {
      "text/plain": [
       "defined \u001b[32mfunction\u001b[39m \u001b[36mqueueRequest\u001b[39m"
      ]
     },
     "execution_count": 17,
     "metadata": {},
     "output_type": "execute_result"
    }
   ],
   "source": [
    "def queueRequest(request: HttpRequest): Future[HttpResponse] = {\n",
    "  val responsePromise = Promise[HttpResponse]()\n",
    "  queue.offer(request -> responsePromise).flatMap {\n",
    "    case QueueOfferResult.Enqueued    => responsePromise.future\n",
    "    case QueueOfferResult.Dropped     => Future.failed(new RuntimeException(\"Queue overflowed. Try again later.\"))\n",
    "    case QueueOfferResult.Failure(ex) => Future.failed(ex)\n",
    "    case QueueOfferResult.QueueClosed => Future.failed(new RuntimeException(\"Queue was closed (pool shut down) while running the request. Try again later.\"))\n",
    "  }\n",
    "}"
   ]
  },
  {
   "cell_type": "code",
   "execution_count": 18,
   "metadata": {},
   "outputs": [
    {
     "data": {
      "text/plain": [
       "\u001b[36mres17\u001b[39m: \u001b[32mSource\u001b[39m[\u001b[32mInt\u001b[39m, \u001b[32mSourceQueueWithComplete\u001b[39m[\u001b[32mInt\u001b[39m]] = Source(SourceShape(queueSource.out(1793625467)))"
      ]
     },
     "execution_count": 18,
     "metadata": {},
     "output_type": "execute_result"
    }
   ],
   "source": [
    "Source.queue[Int](5, OverflowStrategy.dropNew)"
   ]
  },
  {
   "cell_type": "code",
   "execution_count": null,
   "metadata": {},
   "outputs": [],
   "source": []
  }
 ],
 "metadata": {
  "kernelspec": {
   "display_name": "Scala",
   "language": "scala",
   "name": "scala"
  },
  "language_info": {
   "codemirror_mode": "text/x-scala",
   "file_extension": ".scala",
   "mimetype": "text/x-scala",
   "name": "scala",
   "nbconvert_exporter": "script",
   "version": "2.13.0"
  }
 },
 "nbformat": 4,
 "nbformat_minor": 2
}
