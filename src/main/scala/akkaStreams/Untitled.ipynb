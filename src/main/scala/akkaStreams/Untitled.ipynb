{
 "cells": [
  {
   "cell_type": "code",
   "execution_count": 30,
   "metadata": {},
   "outputs": [
    {
     "name": "stderr",
     "output_type": "stream",
     "text": [
      "Downloading https://repo1.maven.org/maven2/com/typesafe/akka/akka-http_2.13/10.1.11/akka-http_2.13-10.1.11.pom\n",
      "Downloaded https://repo1.maven.org/maven2/com/typesafe/akka/akka-http_2.13/10.1.11/akka-http_2.13-10.1.11.pom\n",
      "Downloading https://repo1.maven.org/maven2/com/typesafe/akka/akka-http-core_2.13/10.1.11/akka-http-core_2.13-10.1.11.pom\n",
      "Downloaded https://repo1.maven.org/maven2/com/typesafe/akka/akka-http-core_2.13/10.1.11/akka-http-core_2.13-10.1.11.pom\n",
      "Downloading https://repo1.maven.org/maven2/com/typesafe/akka/akka-parsing_2.13/10.1.11/akka-parsing_2.13-10.1.11.pom\n",
      "Downloaded https://repo1.maven.org/maven2/com/typesafe/akka/akka-parsing_2.13/10.1.11/akka-parsing_2.13-10.1.11.pom\n",
      "Downloading https://repo1.maven.org/maven2/com/typesafe/akka/akka-http_2.13/10.1.11/akka-http_2.13-10.1.11.jar\n",
      "Downloading https://repo1.maven.org/maven2/com/typesafe/akka/akka-http-core_2.13/10.1.11/akka-http-core_2.13-10.1.11-sources.jar\n",
      "Downloading https://repo1.maven.org/maven2/com/typesafe/akka/akka-parsing_2.13/10.1.11/akka-parsing_2.13-10.1.11.jar\n",
      "Downloading https://repo1.maven.org/maven2/com/typesafe/akka/akka-http_2.13/10.1.11/akka-http_2.13-10.1.11-sources.jar\n",
      "Downloading https://repo1.maven.org/maven2/com/typesafe/akka/akka-parsing_2.13/10.1.11/akka-parsing_2.13-10.1.11-sources.jar\n",
      "Downloading https://repo1.maven.org/maven2/com/typesafe/akka/akka-http-core_2.13/10.1.11/akka-http-core_2.13-10.1.11.jar\n",
      "Downloaded https://repo1.maven.org/maven2/com/typesafe/akka/akka-http_2.13/10.1.11/akka-http_2.13-10.1.11-sources.jar\n",
      "Downloaded https://repo1.maven.org/maven2/com/typesafe/akka/akka-parsing_2.13/10.1.11/akka-parsing_2.13-10.1.11-sources.jar\n",
      "Downloaded https://repo1.maven.org/maven2/com/typesafe/akka/akka-http-core_2.13/10.1.11/akka-http-core_2.13-10.1.11-sources.jar\n",
      "Downloaded https://repo1.maven.org/maven2/com/typesafe/akka/akka-http_2.13/10.1.11/akka-http_2.13-10.1.11.jar\n",
      "Downloaded https://repo1.maven.org/maven2/com/typesafe/akka/akka-parsing_2.13/10.1.11/akka-parsing_2.13-10.1.11.jar\n",
      "Downloaded https://repo1.maven.org/maven2/com/typesafe/akka/akka-http-core_2.13/10.1.11/akka-http-core_2.13-10.1.11.jar\n"
     ]
    },
    {
     "data": {
      "text/plain": [
       "\u001b[32mimport \u001b[39m\u001b[36m$ivy.$                                     \n",
       "\u001b[39m\n",
       "\u001b[32mimport \u001b[39m\u001b[36m$ivy.$                                     \n",
       "// repl.pprinter() = repl.pprinter().copy(defaultHeight = 5 )\u001b[39m"
      ]
     },
     "execution_count": 30,
     "metadata": {},
     "output_type": "execute_result"
    }
   ],
   "source": [
    "import $ivy.`com.typesafe.akka::akka-stream:2.6.4`\n",
    "import $ivy.`com.typesafe.akka::akka-http:10.1.11`\n",
    "// repl.pprinter() = repl.pprinter().copy(defaultHeight = 5 )"
   ]
  },
  {
   "cell_type": "code",
   "execution_count": 0,
   "metadata": {},
   "outputs": [
    {
     "name": "stderr",
     "output_type": "stream",
     "text": [
      "cmd0.sc:1: not found: value akka\n",
      "import akka.stream._\n",
      "       ^cmd0.sc:2: not found: value akka\n",
      "import akka.stream.scaladsl._\n",
      "       ^Compilation Failed"
     ]
    },
    {
     "ename": "",
     "evalue": "",
     "output_type": "error",
     "traceback": [
      "Compilation Failed"
     ]
    }
   ],
   "source": [
    "import akka.stream._\n",
    "import akka.stream.scaladsl._"
   ]
  },
  {
   "cell_type": "code",
   "execution_count": null,
   "metadata": {},
   "outputs": [],
   "source": [
    "import akka.{ Done, NotUsed }\n",
    "import akka.actor.ActorSystem\n",
    "import akka.util.ByteString\n",
    "import scala.concurrent._\n",
    "import scala.concurrent.duration._\n",
    "import java.nio.file.Paths"
   ]
  },
  {
   "cell_type": "code",
   "execution_count": null,
   "metadata": {},
   "outputs": [],
   "source": [
    "import com.typesafe.config._"
   ]
  },
  {
   "cell_type": "code",
   "execution_count": null,
   "metadata": {},
   "outputs": [],
   "source": [
    "val customConf = ConfigFactory.parseString(\"\"\"\n",
    "  blocking-dispatcher {\n",
    "    executor = \"thread-pool-executor\"\n",
    "    thread-pool-executor {\n",
    "      core-pool-size-min    = 10\n",
    "      core-pool-size-max    = 10\n",
    "    }\n",
    "  }\n",
    "\n",
    "\"\"\")"
   ]
  },
  {
   "cell_type": "code",
   "execution_count": null,
   "metadata": {},
   "outputs": [],
   "source": [
    "implicit val system: ActorSystem = ActorSystem(\"QuickStart\", ConfigFactory.load(customConf))"
   ]
  },
  {
   "cell_type": "code",
   "execution_count": null,
   "metadata": {},
   "outputs": [],
   "source": [
    "implicitly[Materializer]"
   ]
  },
  {
   "cell_type": "code",
   "execution_count": null,
   "metadata": {},
   "outputs": [],
   "source": [
    "implicit val ec = system.dispatcher"
   ]
  },
  {
   "cell_type": "code",
   "execution_count": null,
   "metadata": {},
   "outputs": [],
   "source": [
    "val s1: Source[Int, NotUsed] = Source(List(1,2,3,4))"
   ]
  },
  {
   "cell_type": "code",
   "execution_count": null,
   "metadata": {},
   "outputs": [],
   "source": [
    "val source: Source[Int, NotUsed] = Source(1 to 10)"
   ]
  },
  {
   "cell_type": "code",
   "execution_count": null,
   "metadata": {},
   "outputs": [],
   "source": [
    "val f: Future[Done] = source.runForeach(i => println(i))"
   ]
  },
  {
   "cell_type": "code",
   "execution_count": null,
   "metadata": {},
   "outputs": [],
   "source": [
    "val f: Future[Done] = source.runWith(Sink.foreach(println))"
   ]
  },
  {
   "cell_type": "code",
   "execution_count": null,
   "metadata": {},
   "outputs": [],
   "source": [
    "f.onComplete(_ => println(\"done\"))"
   ]
  },
  {
   "cell_type": "code",
   "execution_count": null,
   "metadata": {},
   "outputs": [],
   "source": [
    "val factorials = source.scan(BigInt(1))((acc, next) => acc * next)\n",
    "\n",
    "val result: Future[IOResult] =\n",
    "  factorials.map(num => ByteString(s\"$num\\n\")).runWith(FileIO.toPath(Paths.get(\"factorials.txt\")))"
   ]
  },
  {
   "cell_type": "code",
   "execution_count": null,
   "metadata": {},
   "outputs": [],
   "source": [
    "FileIO.toPath(Paths.get(\"factorials.txt\"))"
   ]
  },
  {
   "cell_type": "code",
   "execution_count": null,
   "metadata": {},
   "outputs": [],
   "source": [
    "Sink.foreach(println)"
   ]
  },
  {
   "cell_type": "code",
   "execution_count": null,
   "metadata": {},
   "outputs": [],
   "source": [
    "def lineSink(filename: String) = // : Sink[String, Future[IOResult]] =\n",
    "  Flow[String].map(s => ByteString(s + \"\\n\")).toMat(FileIO.toPath(Paths.get(filename)))(Keep.both)"
   ]
  },
  {
   "cell_type": "code",
   "execution_count": null,
   "metadata": {},
   "outputs": [],
   "source": [
    "def lineSinkNU(filename: String): Sink[String, NotUsed] =\n",
    "  Flow[String]\n",
    "    .map(s => ByteString(s + \"\\n\"))\n",
    "    .toMat(FileIO.toPath(Paths.get(filename)))((_, _) => NotUsed)"
   ]
  },
  {
   "cell_type": "code",
   "execution_count": null,
   "metadata": {},
   "outputs": [],
   "source": [
    "source.map(_.toString).runWith(lineSink(\"factorials2.txt\"))"
   ]
  },
  {
   "cell_type": "code",
   "execution_count": null,
   "metadata": {},
   "outputs": [],
   "source": [
    "res16.onComplete(r => println(r))"
   ]
  },
  {
   "cell_type": "code",
   "execution_count": null,
   "metadata": {},
   "outputs": [],
   "source": [
    "source.buffer(3, OverflowStrategy.dropHead).runWith(Sink.foreach(println))"
   ]
  },
  {
   "cell_type": "code",
   "execution_count": null,
   "metadata": {},
   "outputs": [],
   "source": [
    "source.via(Flow[Int].map(s => ByteString(s + \"\\n\")))\n",
    "    .runWith(FileIO.toPath(Paths.get(\"f\")))"
   ]
  },
  {
   "cell_type": "code",
   "execution_count": null,
   "metadata": {},
   "outputs": [],
   "source": [
    "source.via(Flow[Int].map(s => s + \"\"))\n",
    "    .toMat(Sink.fold[String, String](\"\")(_ + _))(Keep.right)\n",
    "    .run"
   ]
  },
  {
   "cell_type": "code",
   "execution_count": null,
   "metadata": {},
   "outputs": [],
   "source": [
    "source.runWith(Sink.fold(0)(_+_))"
   ]
  },
  {
   "cell_type": "markdown",
   "metadata": {},
   "source": [
    "# Buffers and working with rate"
   ]
  },
  {
   "cell_type": "code",
   "execution_count": null,
   "metadata": {},
   "outputs": [],
   "source": [
    "Source(1 to 3)\n",
    "  .map { i =>\n",
    "    println(s\"A: $i\"); i\n",
    "  }\n",
    "  .async\n",
    "  .map { i =>\n",
    "    println(s\"B: $i\"); i\n",
    "  }\n",
    "  .async\n",
    "  .map { i =>\n",
    "    println(s\"C: $i\"); i\n",
    "  }\n",
    "  .async\n",
    "  .runWith(Sink.ignore)"
   ]
  },
  {
   "cell_type": "code",
   "execution_count": null,
   "metadata": {},
   "outputs": [],
   "source": [
    "Source(1 to 3)\n",
    "  .map { i =>\n",
    "    println(s\"A: $i\"); i\n",
    "  }\n",
    "  .map { i =>\n",
    "    println(s\"B: $i\"); i\n",
    "  }\n",
    "  .map { i =>\n",
    "    println(s\"C: $i\"); i\n",
    "  }\n",
    "  .runWith(Sink.ignore)"
   ]
  },
  {
   "cell_type": "markdown",
   "metadata": {},
   "source": [
    "# Futures interop"
   ]
  },
  {
   "cell_type": "code",
   "execution_count": null,
   "metadata": {},
   "outputs": [],
   "source": [
    "import java.util.concurrent.atomic.AtomicInteger"
   ]
  },
  {
   "cell_type": "code",
   "execution_count": null,
   "metadata": {},
   "outputs": [],
   "source": [
    "class SometimesSlowService(implicit ec: ExecutionContext) {\n",
    "\n",
    "  private val runningCount = new AtomicInteger\n",
    "\n",
    "  def convert(s: String): Future[String] = {\n",
    "    println(s\"running: $s (${runningCount.incrementAndGet()})\")\n",
    "    Future {\n",
    "      if (s.nonEmpty && s.head.isLower)\n",
    "        Thread.sleep(500)\n",
    "      else\n",
    "        Thread.sleep(20)\n",
    "      println(s\"completed: $s (${runningCount.decrementAndGet()})\")\n",
    "      s.toUpperCase\n",
    "    }\n",
    " }\n",
    "}"
   ]
  },
  {
   "cell_type": "code",
   "execution_count": null,
   "metadata": {},
   "outputs": [],
   "source": [
    "val service = new SometimesSlowService()(\n",
    "    system.dispatchers.lookup(\"blocking-dispatcher\")\n",
    ")"
   ]
  },
  {
   "cell_type": "code",
   "execution_count": null,
   "metadata": {},
   "outputs": [],
   "source": [
    "Source(List(\"a\", \"B\", \"C\", \"D\", \"e\", \"F\", \"g\", \"H\", \"i\", \"J\"))\n",
    "  .map(elem => { println(s\"before: $elem\"); elem })\n",
    "  .mapAsync(6)(service.convert)\n",
    "  .to(Sink.foreach(elem => println(s\"after: $elem\")))\n",
    "  .withAttributes(Attributes.inputBuffer(initial = 4, max = 4))\n",
    "  .run()"
   ]
  },
  {
   "cell_type": "markdown",
   "metadata": {},
   "source": [
    "# Operators"
   ]
  },
  {
   "cell_type": "code",
   "execution_count": 9,
   "metadata": {},
   "outputs": [
    {
     "data": {
      "text/plain": [
       "\u001b[32mimport \u001b[39m\u001b[36makka.event.Logging\n",
       "\n",
       "\u001b[39m\n",
       "defined \u001b[32mclass\u001b[39m \u001b[36mSourceOps\u001b[39m"
      ]
     },
     "execution_count": 9,
     "metadata": {},
     "output_type": "execute_result"
    }
   ],
   "source": [
    "import akka.event.Logging\n",
    "\n",
    "implicit class SourceOps[A, M](S: Source[A, M]){\n",
    "    def logAll(l: String): Source[A, M] = \n",
    "        S.log(l).withAttributes(Attributes.logLevels(\n",
    "        onElement = Logging.WarningLevel, \n",
    "        onFinish = Logging.WarningLevel, \n",
    "        onFailure = Logging.DebugLevel))\n",
    "}"
   ]
  },
  {
   "cell_type": "code",
   "execution_count": 11,
   "metadata": {},
   "outputs": [
    {
     "name": "stdout",
     "output_type": "stream",
     "text": [
      "[WARN] [03/28/2020 18:18:48.458] [QuickStart-akka.actor.default-dispatcher-9] [akka.stream.Log(akka://QuickStart/system/Materializers/StreamSupervisor-0)] [source] Element: 1\n",
      "[WARN] [03/28/2020 18:18:48.458] [QuickStart-akka.actor.default-dispatcher-9] [akka.stream.Log(akka://QuickStart/system/Materializers/StreamSupervisor-0)] [take while] Element: 1\n",
      "[WARN] [03/28/2020 18:18:48.458] [QuickStart-akka.actor.default-dispatcher-9] [akka.stream.Log(akka://QuickStart/system/Materializers/StreamSupervisor-0)] [concat] Element: 1\n",
      "[WARN] [03/28/2020 18:18:48.459] [QuickStart-akka.actor.default-dispatcher-9] [akka.stream.Log(akka://QuickStart/system/Materializers/StreamSupervisor-0)] [source] Element: 2\n",
      "[WARN] [03/28/2020 18:18:48.459] [QuickStart-akka.actor.default-dispatcher-9] [akka.stream.Log(akka://QuickStart/system/Materializers/StreamSupervisor-0)] [take while] Element: 2\n",
      "[WARN] [03/28/2020 18:18:48.459] [QuickStart-akka.actor.default-dispatcher-9] [akka.stream.Log(akka://QuickStart/system/Materializers/StreamSupervisor-0)] [concat] Element: 2\n",
      "[WARN] [03/28/2020 18:18:48.459] [QuickStart-akka.actor.default-dispatcher-9] [akka.stream.Log(akka://QuickStart/system/Materializers/StreamSupervisor-0)] [source] Element: 3\n",
      "[WARN] [03/28/2020 18:18:48.459] [QuickStart-akka.actor.default-dispatcher-9] [akka.stream.Log(akka://QuickStart/system/Materializers/StreamSupervisor-0)] [source] Downstream finished, cause: SubscriptionWithCancelException$StageWasCompleted$: null\n",
      "[WARN] [03/28/2020 18:18:48.459] [QuickStart-akka.actor.default-dispatcher-9] [akka.stream.Log(akka://QuickStart/system/Materializers/StreamSupervisor-0)] [take while] Upstream finished.\n",
      "[WARN] [03/28/2020 18:18:48.459] [QuickStart-akka.actor.default-dispatcher-9] [akka.stream.Log(akka://QuickStart/system/Materializers/StreamSupervisor-0)] [concat] Element: 5\n",
      "[WARN] [03/28/2020 18:18:48.459] [QuickStart-akka.actor.default-dispatcher-9] [akka.stream.Log(akka://QuickStart/system/Materializers/StreamSupervisor-0)] [concat] Element: 6\n",
      "[WARN] [03/28/2020 18:18:48.459] [QuickStart-akka.actor.default-dispatcher-9] [akka.stream.Log(akka://QuickStart/system/Materializers/StreamSupervisor-0)] [concat] Element: 7\n",
      "[WARN] [03/28/2020 18:18:48.459] [QuickStart-akka.actor.default-dispatcher-9] [akka.stream.Log(akka://QuickStart/system/Materializers/StreamSupervisor-0)] [concat] Upstream finished.\n"
     ]
    },
    {
     "data": {
      "text/html": [
       "<div class=\"jp-RenderedText\">\n",
       "<pre><code><span style=\"color: rgb(0, 187, 187)\"><span class=\"ansi-cyan-fg\">res10</span></span>: <span style=\"color: rgb(0, 187, 0)\"><span class=\"ansi-green-fg\">Future</span></span>[<span style=\"color: rgb(0, 187, 0)\"><span class=\"ansi-green-fg\">Done</span></span>] = <span style=\"color: rgb(0, 187, 0)\"><span class=\"ansi-green-fg\"><span style=\"color: yellow\"><span class=\"ansi-yellow-fg\">Success</span></span>(Done)</span></span></code></pre>\n",
       "</div>"
      ],
      "text/plain": [
       "\u001b[36mres10\u001b[39m: \u001b[32mFuture\u001b[39m[\u001b[32mDone\u001b[39m] = \u001b[32m\u001b[33mSuccess\u001b[39m(Done)\u001b[39m"
      ]
     },
     "metadata": {},
     "output_type": "display_data"
    }
   ],
   "source": [
    "\n",
    "Source(List(1,2,3,4)).logAll(\"source\")\n",
    "    .takeWhile(_ <= 2).logAll(\"take while\")\n",
    "    .concat(Source(List(5,6,7))).logAll(\"concat\")\n",
    "    .runWith(Sink.ignore)"
   ]
  },
  {
   "cell_type": "code",
   "execution_count": 19,
   "metadata": {},
   "outputs": [
    {
     "data": {
      "text/plain": [
       "\u001b[36mres18\u001b[39m: \u001b[32mNotUsed\u001b[39m = NotUsed"
      ]
     },
     "execution_count": 19,
     "metadata": {},
     "output_type": "execute_result"
    }
   ],
   "source": [
    "Flow[Int].map(_ + 1)\n",
    "         .join[NotUsed](Flow[Int].map(_ + 1))\n",
    "    .run"
   ]
  },
  {
   "cell_type": "code",
   "execution_count": 20,
   "metadata": {},
   "outputs": [
    {
     "data": {
      "text/plain": [
       "\u001b[36mres19\u001b[39m: \u001b[32mFlow\u001b[39m[\u001b[32mByteString\u001b[39m, \u001b[32mByteString\u001b[39m, \u001b[32mFuture\u001b[39m[\u001b[32mTcp\u001b[39m.\u001b[32mOutgoingConnection\u001b[39m]] = Flow(FlowShape(OutgoingTCP.in(675478360),GraphStages$Detacher.out(1916872162)))"
      ]
     },
     "execution_count": 20,
     "metadata": {},
     "output_type": "execute_result"
    }
   ],
   "source": [
    "Tcp().outgoingConnection(\"127.0.0.1\", 8888)"
   ]
  },
  {
   "cell_type": "code",
   "execution_count": 23,
   "metadata": {},
   "outputs": [
    {
     "name": "stdout",
     "output_type": "stream",
     "text": [
      "3\n",
      "4\n",
      "5\n"
     ]
    },
    {
     "data": {
      "text/html": [
       "<div class=\"jp-RenderedText\">\n",
       "<pre><code><span style=\"color: rgb(0, 187, 187)\"><span class=\"ansi-cyan-fg\">res22</span></span>: <span style=\"color: rgb(0, 187, 0)\"><span class=\"ansi-green-fg\">Future</span></span>[<span style=\"color: rgb(0, 187, 0)\"><span class=\"ansi-green-fg\">Done</span></span>] = <span style=\"color: rgb(0, 187, 0)\"><span class=\"ansi-green-fg\"><span style=\"color: yellow\"><span class=\"ansi-yellow-fg\">Success</span></span>(Done)</span></span></code></pre>\n",
       "</div>"
      ],
      "text/plain": [
       "\u001b[36mres22\u001b[39m: \u001b[32mFuture\u001b[39m[\u001b[32mDone\u001b[39m] = \u001b[32m\u001b[33mSuccess\u001b[39m(Done)\u001b[39m"
      ]
     },
     "metadata": {},
     "output_type": "display_data"
    }
   ],
   "source": [
    "Source(List(1,2,3))\n",
    "    .via(Flow[Int].map(_+1)\n",
    "            .via(Flow[Int].map(_ + 1)))\n",
    "    .runForeach(println)"
   ]
  },
  {
   "cell_type": "code",
   "execution_count": 25,
   "metadata": {},
   "outputs": [
    {
     "name": "stdout",
     "output_type": "stream",
     "text": [
      "3\n",
      "4\n",
      "5\n"
     ]
    },
    {
     "data": {
      "text/html": [
       "<div class=\"jp-RenderedText\">\n",
       "<pre><code><span style=\"color: rgb(0, 187, 187)\"><span class=\"ansi-cyan-fg\">res24</span></span>: <span style=\"color: rgb(0, 187, 0)\"><span class=\"ansi-green-fg\">Future</span></span>[<span style=\"color: rgb(0, 187, 0)\"><span class=\"ansi-green-fg\">Done</span></span>] = <span style=\"color: rgb(0, 187, 0)\"><span class=\"ansi-green-fg\"><span style=\"color: yellow\"><span class=\"ansi-yellow-fg\">Success</span></span>(Done)</span></span></code></pre>\n",
       "</div>"
      ],
      "text/plain": [
       "\u001b[36mres24\u001b[39m: \u001b[32mFuture\u001b[39m[\u001b[32mDone\u001b[39m] = \u001b[32m\u001b[33mSuccess\u001b[39m(Done)\u001b[39m"
      ]
     },
     "metadata": {},
     "output_type": "display_data"
    }
   ],
   "source": [
    "Source(List(1,2,3))\n",
    "    .via(Flow[Int].map(_+1)\n",
    "            .map(_ + 1))\n",
    "    .runForeach(println)"
   ]
  },
  {
   "cell_type": "code",
   "execution_count": 35,
   "metadata": {},
   "outputs": [
    {
     "data": {
      "text/plain": [
       "\u001b[36mqueue\u001b[39m: \u001b[32mSourceQueueWithComplete\u001b[39m[\u001b[32mInt\u001b[39m] = akka.stream.impl.QueueSource$$anon$1@6f40292f"
      ]
     },
     "execution_count": 35,
     "metadata": {},
     "output_type": "execute_result"
    }
   ],
   "source": [
    "val queue = Source.queue[Int](5, OverflowStrategy.dropNew)\n",
    "    .map(_ + 1)\n",
    "    .to(Sink.foreach(println))\n",
    "    .run"
   ]
  },
  {
   "cell_type": "code",
   "execution_count": 44,
   "metadata": {},
   "outputs": [],
   "source": [
    "for(i <- List(4,5,6,7)) queue.offer(3)"
   ]
  },
  {
   "cell_type": "code",
   "execution_count": 45,
   "metadata": {},
   "outputs": [
    {
     "name": "stdout",
     "output_type": "stream",
     "text": [
      "succeed\n"
     ]
    }
   ],
   "source": [
    "queue.watchCompletion.onComplete{ case Success(t) => println(\"succeed\"); \n",
    "                                  case Failure(f) => println(\"failed\")\n",
    "                                  }"
   ]
  },
  {
   "cell_type": "code",
   "execution_count": 46,
   "metadata": {},
   "outputs": [],
   "source": [
    "queue.complete"
   ]
  },
  {
   "cell_type": "code",
   "execution_count": null,
   "metadata": {},
   "outputs": [],
   "source": []
  }
 ],
 "metadata": {
  "kernelspec": {
   "display_name": "Scala",
   "language": "scala",
   "name": "scala"
  },
  "language_info": {
   "codemirror_mode": "text/x-scala",
   "file_extension": ".scala",
   "mimetype": "text/x-scala",
   "name": "scala",
   "nbconvert_exporter": "script",
   "version": "2.13.0"
  }
 },
 "nbformat": 4,
 "nbformat_minor": 2
}
