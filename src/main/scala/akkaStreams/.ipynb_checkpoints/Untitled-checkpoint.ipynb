{
 "cells": [
  {
   "cell_type": "code",
   "execution_count": 1,
   "metadata": {},
   "outputs": [
    {
     "data": {
      "text/plain": [
       "\u001b[32mimport \u001b[39m\u001b[36m$ivy.$                                     \n",
       "// repl.pprinter() = repl.pprinter().copy(defaultHeight = 5 )\u001b[39m"
      ]
     },
     "execution_count": 1,
     "metadata": {},
     "output_type": "execute_result"
    }
   ],
   "source": [
    "import $ivy.`com.typesafe.akka::akka-stream:2.6.4`\n",
    "// repl.pprinter() = repl.pprinter().copy(defaultHeight = 5 )"
   ]
  },
  {
   "cell_type": "code",
   "execution_count": 2,
   "metadata": {},
   "outputs": [
    {
     "data": {
      "text/plain": [
       "\u001b[32mimport \u001b[39m\u001b[36makka.stream._\n",
       "\u001b[39m\n",
       "\u001b[32mimport \u001b[39m\u001b[36makka.stream.scaladsl._\u001b[39m"
      ]
     },
     "execution_count": 2,
     "metadata": {},
     "output_type": "execute_result"
    }
   ],
   "source": [
    "import akka.stream._\n",
    "import akka.stream.scaladsl._"
   ]
  },
  {
   "cell_type": "code",
   "execution_count": 3,
   "metadata": {},
   "outputs": [
    {
     "data": {
      "text/plain": [
       "\u001b[32mimport \u001b[39m\u001b[36makka.{ Done, NotUsed }\n",
       "\u001b[39m\n",
       "\u001b[32mimport \u001b[39m\u001b[36makka.actor.ActorSystem\n",
       "\u001b[39m\n",
       "\u001b[32mimport \u001b[39m\u001b[36makka.util.ByteString\n",
       "\u001b[39m\n",
       "\u001b[32mimport \u001b[39m\u001b[36mscala.concurrent._\n",
       "\u001b[39m\n",
       "\u001b[32mimport \u001b[39m\u001b[36mscala.concurrent.duration._\n",
       "\u001b[39m\n",
       "\u001b[32mimport \u001b[39m\u001b[36mjava.nio.file.Paths\u001b[39m"
      ]
     },
     "execution_count": 3,
     "metadata": {},
     "output_type": "execute_result"
    }
   ],
   "source": [
    "import akka.{ Done, NotUsed }\n",
    "import akka.actor.ActorSystem\n",
    "import akka.util.ByteString\n",
    "import scala.concurrent._\n",
    "import scala.concurrent.duration._\n",
    "import java.nio.file.Paths"
   ]
  },
  {
   "cell_type": "code",
   "execution_count": 4,
   "metadata": {},
   "outputs": [
    {
     "data": {
      "text/plain": [
       "\u001b[32mimport \u001b[39m\u001b[36mcom.typesafe.config._\u001b[39m"
      ]
     },
     "execution_count": 4,
     "metadata": {},
     "output_type": "execute_result"
    }
   ],
   "source": [
    "import com.typesafe.config._"
   ]
  },
  {
   "cell_type": "code",
   "execution_count": 5,
   "metadata": {},
   "outputs": [
    {
     "data": {
      "text/plain": [
       "\u001b[36mcustomConf\u001b[39m: \u001b[32mConfig\u001b[39m = Config(SimpleConfigObject({\"blocking-dispatcher\":{\"executor\":\"thread-pool-executor\",\"thread-pool-executor\":{\"core-pool-size-max\":10,\"core-pool-size-min\":10}}}))"
      ]
     },
     "execution_count": 5,
     "metadata": {},
     "output_type": "execute_result"
    }
   ],
   "source": [
    "val customConf = ConfigFactory.parseString(\"\"\"\n",
    "  blocking-dispatcher {\n",
    "    executor = \"thread-pool-executor\"\n",
    "    thread-pool-executor {\n",
    "      core-pool-size-min    = 10\n",
    "      core-pool-size-max    = 10\n",
    "    }\n",
    "  }\n",
    "\n",
    "\"\"\")"
   ]
  },
  {
   "cell_type": "code",
   "execution_count": 6,
   "metadata": {},
   "outputs": [
    {
     "data": {
      "text/plain": [
       "\u001b[36msystem\u001b[39m: \u001b[32mActorSystem\u001b[39m = akka://QuickStart\n",
       "\u001b[36mec\u001b[39m: \u001b[32mExecutionContextExecutor\u001b[39m = Dispatcher[akka.actor.default-dispatcher]"
      ]
     },
     "execution_count": 6,
     "metadata": {},
     "output_type": "execute_result"
    }
   ],
   "source": [
    "implicit val system: ActorSystem = ActorSystem(\"QuickStart\", ConfigFactory.load(customConf))\n",
    "implicit val ec = system.dispatcher"
   ]
  },
  {
   "cell_type": "code",
   "execution_count": 7,
   "metadata": {},
   "outputs": [
    {
     "data": {
      "text/plain": [
       "\u001b[36mres6\u001b[39m: \u001b[32mMaterializer\u001b[39m = \u001b[33mPhasedFusingActorMaterializer\u001b[39m(\n",
       "  akka://QuickStart,\n",
       "  ActorMaterializerSettings(4,16,akka.actor.default-dispatcher,<function1>,StreamSubscriptionTimeoutSettings(CancelTermination,5000 milliseconds),false,1000,1000,false,true,IoSettings(16384)),\n",
       "  \u001b[33mAttributes\u001b[39m(\n",
       "    \u001b[33mList\u001b[39m(\n",
       "      \u001b[33mInputBuffer\u001b[39m(\u001b[32m4\u001b[39m, \u001b[32m16\u001b[39m),\n",
       "      \u001b[33mCancellationStrategy\u001b[39m(PropagateFailure),\n",
       "      \u001b[33mDispatcher\u001b[39m(\u001b[32m\"akka.actor.default-dispatcher\"\u001b[39m),\n",
       "      \u001b[33mSupervisionStrategy\u001b[39m(<function1>),\n",
       "      \u001b[33mDebugLogging\u001b[39m(false),\n",
       "      \u001b[33mStreamSubscriptionTimeout\u001b[39m(5000 milliseconds, CancelTermination),\n",
       "      \u001b[33mOutputBurstLimit\u001b[39m(\u001b[32m1000\u001b[39m),\n",
       "      \u001b[33mFuzzingMode\u001b[39m(false),\n",
       "      \u001b[33mMaxFixedBufferSize\u001b[39m(\u001b[32m1000000000\u001b[39m),\n",
       "      \u001b[33mSyncProcessingLimit\u001b[39m(\u001b[32m1000\u001b[39m)\n",
       "    )\n",
       "  ),\n",
       "  akka.dispatch.Dispatchers@4f65ae71,\n",
       "  Actor[akka://QuickStart/system/Materializers/StreamSupervisor-0#1851947501],\n",
       "  false,\n",
       "  akka.stream.impl.SeqActorNameImpl@2e2d5a5d\n",
       ")"
      ]
     },
     "execution_count": 7,
     "metadata": {},
     "output_type": "execute_result"
    }
   ],
   "source": [
    "implicitly[Materializer]"
   ]
  },
  {
   "cell_type": "code",
   "execution_count": null,
   "metadata": {},
   "outputs": [],
   "source": [
    "val source: Source[Int, NotUsed] = Source(1 to 10)"
   ]
  },
  {
   "cell_type": "code",
   "execution_count": null,
   "metadata": {},
   "outputs": [],
   "source": [
    "val f: Future[Done] = source.runForeach(i => println(i))"
   ]
  },
  {
   "cell_type": "code",
   "execution_count": null,
   "metadata": {},
   "outputs": [],
   "source": [
    "val f: Future[Done] = source.runWith(Sink.foreach(println))"
   ]
  },
  {
   "cell_type": "code",
   "execution_count": null,
   "metadata": {},
   "outputs": [],
   "source": [
    "f.onComplete(_ => println(\"done\"))"
   ]
  },
  {
   "cell_type": "code",
   "execution_count": null,
   "metadata": {},
   "outputs": [],
   "source": [
    "val factorials = source.scan(BigInt(1))((acc, next) => acc * next)\n",
    "\n",
    "val result: Future[IOResult] =\n",
    "  factorials.map(num => ByteString(s\"$num\\n\")).runWith(FileIO.toPath(Paths.get(\"factorials.txt\")))"
   ]
  },
  {
   "cell_type": "code",
   "execution_count": null,
   "metadata": {},
   "outputs": [],
   "source": [
    "FileIO.toPath(Paths.get(\"factorials.txt\"))"
   ]
  },
  {
   "cell_type": "code",
   "execution_count": null,
   "metadata": {},
   "outputs": [],
   "source": [
    "Sink.foreach(println)"
   ]
  },
  {
   "cell_type": "code",
   "execution_count": null,
   "metadata": {},
   "outputs": [],
   "source": [
    "def lineSink(filename: String) = // : Sink[String, Future[IOResult]] =\n",
    "  Flow[String].map(s => ByteString(s + \"\\n\")).toMat(FileIO.toPath(Paths.get(filename)))(Keep.both)"
   ]
  },
  {
   "cell_type": "code",
   "execution_count": null,
   "metadata": {},
   "outputs": [],
   "source": [
    "def lineSinkNU(filename: String): Sink[String, NotUsed] =\n",
    "  Flow[String]\n",
    "    .map(s => ByteString(s + \"\\n\"))\n",
    "    .toMat(FileIO.toPath(Paths.get(filename)))((_, _) => NotUsed)"
   ]
  },
  {
   "cell_type": "code",
   "execution_count": null,
   "metadata": {},
   "outputs": [],
   "source": [
    "source.map(_.toString).runWith(lineSink(\"factorials2.txt\"))"
   ]
  },
  {
   "cell_type": "code",
   "execution_count": null,
   "metadata": {},
   "outputs": [],
   "source": [
    "res16.onComplete(r => println(r))"
   ]
  },
  {
   "cell_type": "code",
   "execution_count": null,
   "metadata": {},
   "outputs": [],
   "source": [
    "source.buffer(3, OverflowStrategy.dropHead).runWith(Sink.foreach(println))"
   ]
  },
  {
   "cell_type": "code",
   "execution_count": null,
   "metadata": {},
   "outputs": [],
   "source": [
    "source.via(Flow[Int].map(s => ByteString(s + \"\\n\")))\n",
    "    .runWith(FileIO.toPath(Paths.get(\"f\")))"
   ]
  },
  {
   "cell_type": "code",
   "execution_count": null,
   "metadata": {},
   "outputs": [],
   "source": [
    "source.via(Flow[Int].map(s => s + \"\"))\n",
    "    .toMat(Sink.fold[String, String](\"\")(_ + _))(Keep.right)\n",
    "    .run"
   ]
  },
  {
   "cell_type": "code",
   "execution_count": null,
   "metadata": {},
   "outputs": [],
   "source": [
    "source.runWith(Sink.fold(0)(_+_))"
   ]
  },
  {
   "cell_type": "markdown",
   "metadata": {},
   "source": [
    "# Buffers and working with rate"
   ]
  },
  {
   "cell_type": "code",
   "execution_count": null,
   "metadata": {},
   "outputs": [],
   "source": [
    "Source(1 to 3)\n",
    "  .map { i =>\n",
    "    println(s\"A: $i\"); i\n",
    "  }\n",
    "  .async\n",
    "  .map { i =>\n",
    "    println(s\"B: $i\"); i\n",
    "  }\n",
    "  .async\n",
    "  .map { i =>\n",
    "    println(s\"C: $i\"); i\n",
    "  }\n",
    "  .async\n",
    "  .runWith(Sink.ignore)"
   ]
  },
  {
   "cell_type": "code",
   "execution_count": null,
   "metadata": {},
   "outputs": [],
   "source": [
    "Source(1 to 3)\n",
    "  .map { i =>\n",
    "    println(s\"A: $i\"); i\n",
    "  }\n",
    "  .map { i =>\n",
    "    println(s\"B: $i\"); i\n",
    "  }\n",
    "  .map { i =>\n",
    "    println(s\"C: $i\"); i\n",
    "  }\n",
    "  .runWith(Sink.ignore)"
   ]
  },
  {
   "cell_type": "markdown",
   "metadata": {},
   "source": [
    "# Futures interop"
   ]
  },
  {
   "cell_type": "code",
   "execution_count": 8,
   "metadata": {},
   "outputs": [
    {
     "data": {
      "text/plain": [
       "\u001b[32mimport \u001b[39m\u001b[36mjava.util.concurrent.atomic.AtomicInteger\u001b[39m"
      ]
     },
     "execution_count": 8,
     "metadata": {},
     "output_type": "execute_result"
    }
   ],
   "source": [
    "import java.util.concurrent.atomic.AtomicInteger"
   ]
  },
  {
   "cell_type": "code",
   "execution_count": 9,
   "metadata": {},
   "outputs": [
    {
     "data": {
      "text/plain": [
       "defined \u001b[32mclass\u001b[39m \u001b[36mSometimesSlowService\u001b[39m"
      ]
     },
     "execution_count": 9,
     "metadata": {},
     "output_type": "execute_result"
    }
   ],
   "source": [
    "class SometimesSlowService(implicit ec: ExecutionContext) {\n",
    "\n",
    "  private val runningCount = new AtomicInteger\n",
    "\n",
    "  def convert(s: String): Future[String] = {\n",
    "    println(s\"running: $s (${runningCount.incrementAndGet()})\")\n",
    "    Future {\n",
    "      if (s.nonEmpty && s.head.isLower)\n",
    "        Thread.sleep(500)\n",
    "      else\n",
    "        Thread.sleep(20)\n",
    "      println(s\"completed: $s (${runningCount.decrementAndGet()})\")\n",
    "      s.toUpperCase\n",
    "    }\n",
    " }\n",
    "}"
   ]
  },
  {
   "cell_type": "code",
   "execution_count": 10,
   "metadata": {},
   "outputs": [
    {
     "data": {
      "text/plain": [
       "\u001b[36mblockingExecutionContext\u001b[39m: \u001b[32makka\u001b[39m.\u001b[32mdispatch\u001b[39m.\u001b[32mMessageDispatcher\u001b[39m = Dispatcher[blocking-dispatcher]\n",
       "\u001b[36mservice\u001b[39m: \u001b[32mSometimesSlowService\u001b[39m = ammonite.$sess.cmd8$Helper$SometimesSlowService@6b7378e"
      ]
     },
     "execution_count": 10,
     "metadata": {},
     "output_type": "execute_result"
    }
   ],
   "source": [
    "implicit val blockingExecutionContext = system.dispatchers.lookup(\"blocking-dispatcher\")\n",
    "val service = new SometimesSlowService"
   ]
  },
  {
   "cell_type": "code",
   "execution_count": 12,
   "metadata": {},
   "outputs": [
    {
     "name": "stderr",
     "output_type": "stream",
     "text": [
      "cmd12.sc:6: too many arguments (2) for method run: (implicit materializer: akka.stream.Materializer)akka.NotUsed\n",
      "  .run()(implicitly[Materializer], blockingExecutionContext)\n",
      "                                   ^Compilation Failed"
     ]
    },
    {
     "ename": "",
     "evalue": "",
     "output_type": "error",
     "traceback": [
      "Compilation Failed"
     ]
    }
   ],
   "source": [
    "Source(List(\"a\", \"B\", \"C\", \"D\", \"e\", \"F\", \"g\", \"H\", \"i\", \"J\"))\n",
    "  .map(elem => { println(s\"before: $elem\"); elem })\n",
    "  .mapAsync(4)(service.convert)(blockingExecutionContext)\n",
    "  .to(Sink.foreach(elem => println(s\"after: $elem\")))\n",
    "  .withAttributes(Attributes.inputBuffer(initial = 4, max = 4))\n",
    "  .run()"
   ]
  },
  {
   "cell_type": "code",
   "execution_count": 12,
   "metadata": {},
   "outputs": [
    {
     "name": "stdout",
     "output_type": "stream",
     "text": [
      "before: a\n",
      "a\n",
      "before: B\n",
      "B\n",
      "before: C\n",
      "C\n",
      "before: D\n",
      "D\n",
      "before: e\n",
      "e\n",
      "before: F\n",
      "F\n",
      "before: g\n",
      "g\n",
      "before: H\n",
      "H\n",
      "before: i\n",
      "i\n",
      "before: J\n",
      "J\n"
     ]
    },
    {
     "data": {
      "text/plain": [
       "\u001b[36mres11\u001b[39m: \u001b[32mNotUsed\u001b[39m = NotUsed"
      ]
     },
     "execution_count": 12,
     "metadata": {},
     "output_type": "execute_result"
    }
   ],
   "source": [
    "Source(List(\"a\", \"B\", \"C\", \"D\", \"e\", \"F\", \"g\", \"H\", \"i\", \"J\"))\n",
    "    .map(elem => { println(s\"before: $elem\"); elem })\n",
    "    .to(Sink.foreach(println))\n",
    "    .run"
   ]
  },
  {
   "cell_type": "code",
   "execution_count": null,
   "metadata": {},
   "outputs": [],
   "source": []
  }
 ],
 "metadata": {
  "kernelspec": {
   "display_name": "Scala",
   "language": "scala",
   "name": "scala"
  },
  "language_info": {
   "codemirror_mode": "text/x-scala",
   "file_extension": ".scala",
   "mimetype": "text/x-scala",
   "name": "scala",
   "nbconvert_exporter": "script",
   "version": "2.13.0"
  }
 },
 "nbformat": 4,
 "nbformat_minor": 2
}
