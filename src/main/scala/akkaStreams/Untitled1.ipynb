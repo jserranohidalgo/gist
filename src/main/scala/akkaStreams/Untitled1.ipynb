{
 "cells": [
  {
   "cell_type": "code",
   "execution_count": 1,
   "metadata": {},
   "outputs": [
    {
     "data": {
      "text/plain": [
       "\u001b[32mimport \u001b[39m\u001b[36m$ivy.$                                     \n",
       "\n",
       "\u001b[39m\n",
       "\u001b[32mimport \u001b[39m\u001b[36mjava.nio.file.Paths\n",
       "\n",
       "\u001b[39m\n",
       "\u001b[32mimport \u001b[39m\u001b[36mscala.concurrent._\n",
       "\u001b[39m\n",
       "\u001b[32mimport \u001b[39m\u001b[36mscala.concurrent.duration._\n",
       "\n",
       "\u001b[39m\n",
       "\u001b[32mimport \u001b[39m\u001b[36makka.{ Done, NotUsed }\n",
       "\u001b[39m\n",
       "\u001b[32mimport \u001b[39m\u001b[36makka.actor.ActorSystem\n",
       "\u001b[39m\n",
       "\u001b[32mimport \u001b[39m\u001b[36makka.util.ByteString\n",
       "\n",
       "\u001b[39m\n",
       "\u001b[32mimport \u001b[39m\u001b[36makka.stream._\n",
       "\u001b[39m\n",
       "\u001b[32mimport \u001b[39m\u001b[36makka.stream.scaladsl._\n",
       "\n",
       "\u001b[39m\n",
       "\u001b[32mimport \u001b[39m\u001b[36mcom.typesafe.config._\n",
       "\n",
       "\u001b[39m\n",
       "\u001b[36msystem\u001b[39m: \u001b[32mActorSystem\u001b[39m = akka://QuickStart\n",
       "\u001b[36mec\u001b[39m: \u001b[32mExecutionContextExecutor\u001b[39m = Dispatcher[akka.actor.default-dispatcher]"
      ]
     },
     "execution_count": 1,
     "metadata": {},
     "output_type": "execute_result"
    }
   ],
   "source": [
    "import $ivy.`com.typesafe.akka::akka-stream:2.6.4`\n",
    "\n",
    "import java.nio.file.Paths\n",
    "\n",
    "import scala.concurrent._\n",
    "import scala.concurrent.duration._\n",
    "\n",
    "import akka.{ Done, NotUsed }\n",
    "import akka.actor.ActorSystem\n",
    "import akka.util.ByteString\n",
    "\n",
    "import akka.stream._\n",
    "import akka.stream.scaladsl._\n",
    "\n",
    "import com.typesafe.config._\n",
    "\n",
    "implicit val system: ActorSystem = ActorSystem(\"QuickStart\")\n",
    "implicit val ec = system.dispatcher"
   ]
  },
  {
   "cell_type": "code",
   "execution_count": 2,
   "metadata": {},
   "outputs": [
    {
     "data": {
      "text/html": [
       "Starting"
      ]
     },
     "metadata": {},
     "output_type": "display_data"
    },
    {
     "data": {
      "text/html": [
       "<div class=\"jp-RenderedText\">\n",
       "<pre><code><span style=\"color: rgb(0, 187, 187)\"><span class=\"ansi-cyan-fg\">id</span></span>: <span style=\"color: rgb(0, 187, 0)\"><span class=\"ansi-green-fg\">String</span></span> = <span style=\"color: rgb(0, 187, 0)\"><span class=\"ansi-green-fg\">&quot;655ca104-0f16-4813-84c0-d31889b50f7e&quot;</span></span>\n",
       "<span style=\"color: rgb(0, 187, 187)\"><span class=\"ansi-cyan-fg\">connection</span></span>: <span style=\"color: rgb(0, 187, 0)\"><span class=\"ansi-green-fg\">Flow</span></span>[<span style=\"color: rgb(0, 187, 0)\"><span class=\"ansi-green-fg\">ByteString</span></span>, <span style=\"color: rgb(0, 187, 0)\"><span class=\"ansi-green-fg\">ByteString</span></span>, <span style=\"color: rgb(0, 187, 0)\"><span class=\"ansi-green-fg\">Future</span></span>[<span style=\"color: rgb(0, 187, 0)\"><span class=\"ansi-green-fg\">Tcp</span></span>.<span style=\"color: rgb(0, 187, 0)\"><span class=\"ansi-green-fg\">OutgoingConnection</span></span>]] = Flow(FlowShape(OutgoingTCP.in(658094201),GraphStages$Detacher.out(1387225249)))\n",
       "<span style=\"color: rgb(0, 187, 187)\"><span class=\"ansi-cyan-fg\">replParser</span></span>: <span style=\"color: rgb(0, 187, 0)\"><span class=\"ansi-green-fg\">Flow</span></span>[<span style=\"color: rgb(0, 187, 0)\"><span class=\"ansi-green-fg\">String</span></span>, <span style=\"color: rgb(0, 187, 0)\"><span class=\"ansi-green-fg\">ByteString</span></span>, <span style=\"color: rgb(0, 187, 0)\"><span class=\"ansi-green-fg\">NotUsed</span></span>] = Flow(FlowShape(TakeWhile.in(21153483),Map.out(586261431)))\n",
       "<span style=\"color: rgb(0, 187, 187)\"><span class=\"ansi-cyan-fg\">repl</span></span>: <span style=\"color: rgb(0, 187, 0)\"><span class=\"ansi-green-fg\">Flow</span></span>[<span style=\"color: rgb(0, 187, 0)\"><span class=\"ansi-green-fg\">ByteString</span></span>, <span style=\"color: rgb(0, 187, 0)\"><span class=\"ansi-green-fg\">ByteString</span></span>, <span style=\"color: rgb(0, 187, 0)\"><span class=\"ansi-green-fg\">NotUsed</span></span>] = Flow(FlowShape(DelimiterFramingStage.in(1611732108),Map.out(586261431)))\n",
       "<span style=\"color: rgb(0, 187, 187)\"><span class=\"ansi-cyan-fg\">connected</span></span>: <span style=\"color: rgb(0, 187, 0)\"><span class=\"ansi-green-fg\">Future</span></span>[<span style=\"color: rgb(0, 187, 0)\"><span class=\"ansi-green-fg\">Tcp</span></span>.<span style=\"color: rgb(0, 187, 0)\"><span class=\"ansi-green-fg\">OutgoingConnection</span></span>] = <span style=\"color: rgb(0, 187, 0)\"><span class=\"ansi-green-fg\"><style>@keyframes fadein { from { opacity: 0; } to { opacity: 1; } }</style><span style=\"animation: fadein 2s;\"><span style=\"color: yellow\"><span class=\"ansi-yellow-fg\">Success</span></span>(<span style=\"color: yellow\"><span class=\"ansi-yellow-fg\">OutgoingConnection</span></span>(127.0.0.1:8888, /127.0.0.1:55612))</span></span></span></code></pre>\n",
       "</div>"
      ],
      "text/plain": [
       "\u001b[36mid\u001b[39m: \u001b[32mString\u001b[39m = \u001b[32m\"655ca104-0f16-4813-84c0-d31889b50f7e\"\u001b[39m\n",
       "\u001b[36mconnection\u001b[39m: \u001b[32mFlow\u001b[39m[\u001b[32mByteString\u001b[39m, \u001b[32mByteString\u001b[39m, \u001b[32mFuture\u001b[39m[\u001b[32mTcp\u001b[39m.\u001b[32mOutgoingConnection\u001b[39m]] = Flow(FlowShape(OutgoingTCP.in(658094201),GraphStages$Detacher.out(1387225249)))\n",
       "\u001b[36mreplParser\u001b[39m: \u001b[32mFlow\u001b[39m[\u001b[32mString\u001b[39m, \u001b[32mByteString\u001b[39m, \u001b[32mNotUsed\u001b[39m] = Flow(FlowShape(TakeWhile.in(21153483),Map.out(586261431)))\n",
       "\u001b[36mrepl\u001b[39m: \u001b[32mFlow\u001b[39m[\u001b[32mByteString\u001b[39m, \u001b[32mByteString\u001b[39m, \u001b[32mNotUsed\u001b[39m] = Flow(FlowShape(DelimiterFramingStage.in(1611732108),Map.out(586261431)))\n",
       "\u001b[36mconnected\u001b[39m: \u001b[32mFuture\u001b[39m[\u001b[32mTcp\u001b[39m.\u001b[32mOutgoingConnection\u001b[39m] = \u001b[32m\u001b[33mSuccess\u001b[39m(\u001b[33mOutgoingConnection\u001b[39m(127.0.0.1:8888, /127.0.0.1:55612))\u001b[39m"
      ]
     },
     "metadata": {},
     "output_type": "display_data"
    }
   ],
   "source": [
    "val id = java.util.UUID.randomUUID().toString\n",
    "kernel.publish.html(\"Starting\", id)\n",
    "\n",
    "val connection = Tcp().outgoingConnection(\"127.0.0.1\", 8888)\n",
    "\n",
    "val replParser =\n",
    "  Flow[String].takeWhile(_ != \"q\")\n",
    "    .concat(Source.single(\"BYE\"))\n",
    "    .map(elem => ByteString(s\"$elem\\n\"))\n",
    "\n",
    "val repl = Flow[ByteString]\n",
    "  .via(Framing.delimiter(ByteString(\"\\n\"), maximumFrameLength = 256, allowTruncation = true))\n",
    "  .map(_.utf8String)\n",
    "  .map(text => kernel.publish.updateHtml(\"Server: \" + text, id))\n",
    "  .map(_ => \"input\" ) //kernel.stdin(\"> \"))\n",
    "  .via(replParser)\n",
    "\n",
    "val connected = connection.join(repl).run()"
   ]
  },
  {
   "cell_type": "code",
   "execution_count": null,
   "metadata": {},
   "outputs": [],
   "source": []
  }
 ],
 "metadata": {
  "kernelspec": {
   "display_name": "Scala",
   "language": "scala",
   "name": "scala"
  },
  "language_info": {
   "codemirror_mode": "text/x-scala",
   "file_extension": ".scala",
   "mimetype": "text/x-scala",
   "name": "scala",
   "nbconvert_exporter": "script",
   "version": "2.13.0"
  }
 },
 "nbformat": 4,
 "nbformat_minor": 2
}
