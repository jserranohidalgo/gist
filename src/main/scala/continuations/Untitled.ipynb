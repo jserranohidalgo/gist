{
 "cells": [
  {
   "cell_type": "code",
   "execution_count": 1,
   "metadata": {},
   "outputs": [
    {
     "data": {
      "text/plain": [
       "\u001b[32mimport \u001b[39m\u001b[36m$plugin.$                                          \u001b[39m"
      ]
     },
     "execution_count": 1,
     "metadata": {},
     "output_type": "execute_result"
    }
   ],
   "source": [
    "//import $ivy.`org.typelevel::cats-core:2.1.1`\n",
    "import $plugin.$ivy.`org.spire-math::kind-projector:0.9.9`"
   ]
  },
  {
   "cell_type": "code",
   "execution_count": 2,
   "metadata": {},
   "outputs": [
    {
     "data": {
      "text/plain": [
       "defined \u001b[32mclass\u001b[39m \u001b[36mCont\u001b[39m\n",
       "defined \u001b[32mfunction\u001b[39m \u001b[36mpure\u001b[39m\n",
       "defined \u001b[32mfunction\u001b[39m \u001b[36mrunC\u001b[39m\n",
       "defined \u001b[32mfunction\u001b[39m \u001b[36mreset\u001b[39m\n",
       "defined \u001b[32mfunction\u001b[39m \u001b[36mshift\u001b[39m"
      ]
     },
     "execution_count": 2,
     "metadata": {},
     "output_type": "execute_result"
    }
   ],
   "source": [
    "case class Cont[W, A](run: (A => W) => W)\n",
    "\n",
    "def pure[W, A]: A => Cont[W, A] = \n",
    "    a => Cont(f => f(a))\n",
    "\n",
    "def runC[A]: Cont[A, A] => A = \n",
    "    _.run(identity)\n",
    "\n",
    "def reset[W, A]: Cont[A, A] => Cont[W, A] = \n",
    "    runC[A] andThen pure[W, A]\n",
    "\n",
    "def shift[W, A]: ((A => W) => Cont[W, W]) => Cont[W, A] = \n",
    "    f => Cont(f andThen runC)"
   ]
  },
  {
   "cell_type": "code",
   "execution_count": 3,
   "metadata": {},
   "outputs": [
    {
     "data": {
      "text/plain": [
       "defined \u001b[32mfunction\u001b[39m \u001b[36mbind\u001b[39m"
      ]
     },
     "execution_count": 3,
     "metadata": {},
     "output_type": "execute_result"
    }
   ],
   "source": [
    "def bind[W, A, B](c: Cont[W, A])(f: A => Cont[W, B]): Cont[W, B] = \n",
    "    Cont((g: B => W) => {\n",
    "        c.run((a: A) => \n",
    "            f(a).run(g))\n",
    "    })"
   ]
  },
  {
   "cell_type": "code",
   "execution_count": 4,
   "metadata": {},
   "outputs": [
    {
     "data": {
      "text/plain": [
       "defined \u001b[32mfunction\u001b[39m \u001b[36mmap2\u001b[39m"
      ]
     },
     "execution_count": 4,
     "metadata": {},
     "output_type": "execute_result"
    }
   ],
   "source": [
    "def map2[W, A](c1: Cont[W, A], c2: Cont[W, A])(f: (A, A) => A): Cont[W, A] = \n",
    "    Cont((g: A => W) => {\n",
    "        c1.run((a1: A) => \n",
    "            c2.run((a2: A) => \n",
    "                g(f(a1,a2))))\n",
    "    })"
   ]
  },
  {
   "cell_type": "code",
   "execution_count": 5,
   "metadata": {},
   "outputs": [
    {
     "data": {
      "text/plain": [
       "defined \u001b[32mclass\u001b[39m \u001b[36mLiftA\u001b[39m"
      ]
     },
     "execution_count": 5,
     "metadata": {},
     "output_type": "execute_result"
    }
   ],
   "source": [
    "\n",
    "implicit class LiftA[W](c1: Cont[W, Int]){\n",
    "    def *(c2: Cont[W, Int]): Cont[W, Int] = \n",
    "        map2(c1, c2)(_ * _)\n",
    "    def +(c2: Cont[W, Int]): Cont[W, Int] = \n",
    "        map2(c1, c2)(_ + _)\n",
    "    def -(c2: Cont[W, Int]): Cont[W, Int] = \n",
    "        map2(c1, c2)(_ - _)\n",
    "}"
   ]
  },
  {
   "cell_type": "code",
   "execution_count": 6,
   "metadata": {},
   "outputs": [
    {
     "data": {
      "text/plain": [
       "defined \u001b[32mfunction\u001b[39m \u001b[36mt2\u001b[39m"
      ]
     },
     "execution_count": 6,
     "metadata": {},
     "output_type": "execute_result"
    }
   ],
   "source": [
    "def t2[W]: Cont[W, Int] = \n",
    "    reset(\n",
    "        pure[Int, Int](3) + shift(\n",
    "            (k: Int => Int) => pure(k(10)))) - \n",
    "    pure(1)"
   ]
  },
  {
   "cell_type": "code",
   "execution_count": 7,
   "metadata": {},
   "outputs": [
    {
     "data": {
      "text/plain": [
       "\u001b[36mres6\u001b[39m: \u001b[32mInt\u001b[39m = \u001b[32m12\u001b[39m"
      ]
     },
     "execution_count": 7,
     "metadata": {},
     "output_type": "execute_result"
    }
   ],
   "source": [
    "runC(t2[Int])"
   ]
  },
  {
   "cell_type": "code",
   "execution_count": 8,
   "metadata": {},
   "outputs": [
    {
     "data": {
      "text/plain": [
       "defined \u001b[32mfunction\u001b[39m \u001b[36mt3\u001b[39m"
      ]
     },
     "execution_count": 8,
     "metadata": {},
     "output_type": "execute_result"
    }
   ],
   "source": [
    "def t3[W]: Cont[W, Int] = \n",
    "    reset(pure[Int, Int](2) * shift(k => pure(k(k(10))))) + pure(1)"
   ]
  },
  {
   "cell_type": "code",
   "execution_count": 9,
   "metadata": {},
   "outputs": [
    {
     "data": {
      "text/plain": [
       "\u001b[36mres8\u001b[39m: \u001b[32mInt\u001b[39m = \u001b[32m41\u001b[39m"
      ]
     },
     "execution_count": 9,
     "metadata": {},
     "output_type": "execute_result"
    }
   ],
   "source": [
    "runC(t3[Int])"
   ]
  },
  {
   "cell_type": "markdown",
   "metadata": {},
   "source": [
    "# How to discard delimited continuations"
   ]
  },
  {
   "cell_type": "code",
   "execution_count": 9,
   "metadata": {},
   "outputs": [
    {
     "name": "stderr",
     "output_type": "stream",
     "text": [
      "cmd9.sc:2: type mismatch;\n",
      " found   : ammonite.$sess.cmd4.wrapper.cmd1.Cont[String,Int]\n",
      " required: cmd9.this.cmd1.Cont[Any,Any]\n",
      "Note: String <: Any, but class Cont is invariant in type W.\n",
      "You may wish to define W as +W instead. (SLS 4.5)\n",
      "Note: Int <: Any, but class Cont is invariant in type A.\n",
      "You may wish to define A as +A instead. (SLS 4.5)\n",
      "    reset(pure(2) * shift((k: Int => String) => pure[String, String](\"abort\")))\n",
      "                  ^Compilation Failed"
     ]
    },
    {
     "ename": "",
     "evalue": "",
     "output_type": "error",
     "traceback": [
      "Compilation Failed"
     ]
    }
   ],
   "source": [
    "def t4[W] = // : Cont[W, String] = \n",
    "    reset(pure(2) * shift((k: Int => String) => pure[String, String](\"abort\")))"
   ]
  },
  {
   "cell_type": "code",
   "execution_count": null,
   "metadata": {},
   "outputs": [],
   "source": []
  }
 ],
 "metadata": {
  "kernelspec": {
   "display_name": "Scala (2.12)",
   "language": "scala",
   "name": "scala212"
  },
  "language_info": {
   "codemirror_mode": "text/x-scala",
   "file_extension": ".scala",
   "mimetype": "text/x-scala",
   "name": "scala",
   "nbconvert_exporter": "script",
   "version": "2.12.9"
  }
 },
 "nbformat": 4,
 "nbformat_minor": 2
}
