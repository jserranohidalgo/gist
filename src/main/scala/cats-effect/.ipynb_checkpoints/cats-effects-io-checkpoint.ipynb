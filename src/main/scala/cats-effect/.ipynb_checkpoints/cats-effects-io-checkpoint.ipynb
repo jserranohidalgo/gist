{
 "cells": [
  {
   "cell_type": "code",
   "execution_count": 1,
   "metadata": {},
   "outputs": [
    {
     "name": "stderr",
     "output_type": "stream",
     "text": [
      "Downloading https://repo1.maven.org/maven2/org/typelevel/cats-effect_2.13/2.1.3/cats-effect_2.13-2.1.3.pom\n",
      "Downloaded https://repo1.maven.org/maven2/org/typelevel/cats-effect_2.13/2.1.3/cats-effect_2.13-2.1.3.pom\n",
      "Downloading https://repo1.maven.org/maven2/org/typelevel/cats-effect_2.13/2.1.3/cats-effect_2.13-2.1.3-sources.jar\n",
      "Downloading https://repo1.maven.org/maven2/org/typelevel/cats-effect_2.13/2.1.3/cats-effect_2.13-2.1.3.jar\n",
      "Downloaded https://repo1.maven.org/maven2/org/typelevel/cats-effect_2.13/2.1.3/cats-effect_2.13-2.1.3-sources.jar\n",
      "Downloaded https://repo1.maven.org/maven2/org/typelevel/cats-effect_2.13/2.1.3/cats-effect_2.13-2.1.3.jar\n"
     ]
    },
    {
     "data": {
      "text/plain": [
       "\u001b[32mimport \u001b[39m\u001b[36m$ivy.$                                 \u001b[39m"
      ]
     },
     "execution_count": 1,
     "metadata": {},
     "output_type": "execute_result"
    }
   ],
   "source": [
    "import $ivy.`org.typelevel::cats-effect:2.1.3`"
   ]
  },
  {
   "cell_type": "code",
   "execution_count": 12,
   "metadata": {},
   "outputs": [
    {
     "data": {
      "text/plain": [
       "\u001b[32mimport \u001b[39m\u001b[36mcats.effect.{IO, Resource}\n",
       "\u001b[39m\n",
       "\u001b[32mimport \u001b[39m\u001b[36mcats.implicits._ \n",
       "\u001b[39m\n",
       "\u001b[32mimport \u001b[39m\u001b[36mjava.io._ \n",
       "\u001b[39m\n",
       "\u001b[32mimport \u001b[39m\u001b[36mcats.effect.{Concurrent, IO, Resource}\n",
       "\u001b[39m\n",
       "\u001b[32mimport \u001b[39m\u001b[36mcats.effect.concurrent.Semaphore\n",
       "\n",
       "\n",
       "\u001b[39m\n",
       "defined \u001b[32mfunction\u001b[39m \u001b[36minputStream\u001b[39m\n",
       "defined \u001b[32mfunction\u001b[39m \u001b[36moutputStream\u001b[39m\n",
       "defined \u001b[32mfunction\u001b[39m \u001b[36minputOutputStreams\u001b[39m"
      ]
     },
     "execution_count": 12,
     "metadata": {},
     "output_type": "execute_result"
    }
   ],
   "source": [
    "import cats.effect.{IO, Resource}\n",
    "import cats.implicits._ \n",
    "import java.io._ \n",
    "import cats.effect.{Concurrent, IO, Resource}\n",
    "import cats.effect.concurrent.Semaphore\n",
    "\n",
    "\n",
    "def inputStream(f: File, guard: Semaphore[IO]): Resource[IO, FileInputStream] =\n",
    "  Resource.make {\n",
    "    IO(new FileInputStream(f))                         // build\n",
    "  } { inStream =>\n",
    "    guard.withPermit {\n",
    "        IO(inStream.close()).handleErrorWith(_ => IO.unit) // release\n",
    "    }\n",
    "  }\n",
    "\n",
    "def outputStream(f: File, guard: Semaphore[IO]): Resource[IO, FileOutputStream] =\n",
    "  Resource.make {\n",
    "    IO(new FileOutputStream(f))                         // build \n",
    "  } { outStream =>\n",
    "    guard.withPermit {\n",
    "        IO(outStream.close()).handleErrorWith(_ => IO.unit) // release\n",
    "    }\n",
    "  }\n",
    "\n",
    "def inputOutputStreams(in: File, out: File, guard: Semaphore[IO]): Resource[IO, (InputStream, OutputStream)] =\n",
    "  for {\n",
    "    inStream  <- inputStream(in, guard)\n",
    "    outStream <- outputStream(out, guard)\n",
    "  } yield (inStream, outStream)"
   ]
  },
  {
   "cell_type": "code",
   "execution_count": 13,
   "metadata": {},
   "outputs": [
    {
     "data": {
      "text/plain": [
       "\u001b[32mimport \u001b[39m\u001b[36mcats.effect.{IO, Resource}\n",
       "\u001b[39m\n",
       "\u001b[32mimport \u001b[39m\u001b[36mjava.io._\n",
       "\u001b[39m\n",
       "\u001b[32mimport \u001b[39m\u001b[36mcats.implicits._ \n",
       "\n",
       "\u001b[39m\n",
       "defined \u001b[32mfunction\u001b[39m \u001b[36mtransmit\u001b[39m\n",
       "defined \u001b[32mfunction\u001b[39m \u001b[36mtransfer\u001b[39m\n",
       "defined \u001b[32mfunction\u001b[39m \u001b[36mcopy\u001b[39m"
      ]
     },
     "execution_count": 13,
     "metadata": {},
     "output_type": "execute_result"
    }
   ],
   "source": [
    "import cats.effect.{IO, Resource}\n",
    "import java.io._\n",
    "import cats.implicits._ \n",
    "\n",
    "def transmit(origin: InputStream, destination: OutputStream, buffer: Array[Byte], acc: Long): IO[Long] =\n",
    "  for {\n",
    "    amount <- IO(origin.read(buffer, 0, buffer.size))\n",
    "    count  <- if(amount > -1) IO(destination.write(buffer, 0, amount)) >> transmit(origin, destination, buffer, acc + amount)\n",
    "              else IO.pure(acc) // End of read stream reached (by java.io.InputStream contract), nothing to write\n",
    "  } yield count // Returns the actual amount of bytes transmitted\n",
    "\n",
    "def transfer(origin: InputStream, destination: OutputStream): IO[Long] =\n",
    "  for {\n",
    "    buffer <- IO(new Array[Byte](1024 * 10)) // Allocated only when the IO is evaluated\n",
    "    total  <- transmit(origin, destination, buffer, 0L)\n",
    "  } yield total\n",
    "\n",
    "def copy(origin: File, destination: File)(implicit concurrent: Concurrent[IO]): IO[Long] = \n",
    "  Semaphore[IO](1) flatMap { guard =>\n",
    "      inputOutputStreams(origin, destination, guard).use { \n",
    "          case (in, out) => transfer(in, out)\n",
    "      }\n",
    "  }"
   ]
  },
  {
   "cell_type": "code",
   "execution_count": 15,
   "metadata": {},
   "outputs": [
    {
     "data": {
      "text/plain": [
       "\u001b[32mimport \u001b[39m\u001b[36mjava.util.concurrent.Executors\n",
       "\u001b[39m\n",
       "\u001b[32mimport \u001b[39m\u001b[36mcats.effect.{ContextShift, Fiber, IO}\n",
       "\u001b[39m\n",
       "\u001b[32mimport \u001b[39m\u001b[36mscala.concurrent.ExecutionContext\n",
       "\n",
       "\u001b[39m\n",
       "\u001b[36mecOne\u001b[39m: \u001b[32mconcurrent\u001b[39m.\u001b[32mExecutionContextExecutor\u001b[39m = scala.concurrent.impl.ExecutionContextImpl@1e991706\n",
       "\u001b[36mcsOne\u001b[39m: \u001b[32mContextShift\u001b[39m[\u001b[32mIO\u001b[39m] = cats.effect.internals.IOContextShift@4a2271cb"
      ]
     },
     "execution_count": 15,
     "metadata": {},
     "output_type": "execute_result"
    }
   ],
   "source": [
    "import java.util.concurrent.Executors\n",
    "import cats.effect.{ContextShift, Fiber, IO}\n",
    "import scala.concurrent.ExecutionContext\n",
    "\n",
    "val ecOne = ExecutionContext.fromExecutor(\n",
    "    Executors.newSingleThreadExecutor())\n",
    "implicit val csOne: ContextShift[IO] = IO.contextShift(ecOne)"
   ]
  },
  {
   "cell_type": "code",
   "execution_count": 16,
   "metadata": {},
   "outputs": [
    {
     "data": {
      "text/plain": [
       "\u001b[36mres15\u001b[39m: \u001b[32mLong\u001b[39m = \u001b[32m1634L\u001b[39m"
      ]
     },
     "execution_count": 16,
     "metadata": {},
     "output_type": "execute_result"
    }
   ],
   "source": [
    "copy(new File(\"/Users/jserrano/Documents/gist/build.sbt\"), new File(\"/Users/jserrano/Documents/gist/build2.sbt\")).unsafeRunSync\n",
    "\n"
   ]
  },
  {
   "cell_type": "code",
   "execution_count": null,
   "metadata": {},
   "outputs": [],
   "source": []
  },
  {
   "cell_type": "code",
   "execution_count": null,
   "metadata": {},
   "outputs": [],
   "source": []
  }
 ],
 "metadata": {
  "kernelspec": {
   "display_name": "Scala",
   "language": "scala",
   "name": "scala"
  },
  "language_info": {
   "codemirror_mode": "text/x-scala",
   "file_extension": ".scala",
   "mimetype": "text/x-scala",
   "name": "scala",
   "nbconvert_exporter": "script",
   "version": "2.13.0"
  }
 },
 "nbformat": 4,
 "nbformat_minor": 2
}
