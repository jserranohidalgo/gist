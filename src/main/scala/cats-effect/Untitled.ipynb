{
 "cells": [
  {
   "cell_type": "code",
   "execution_count": 1,
   "metadata": {},
   "outputs": [
    {
     "name": "stderr",
     "output_type": "stream",
     "text": [
      "Downloading https://repo1.maven.org/maven2/io/monix/monix_2.13/3.2.1/monix_2.13-3.2.1.pom\n",
      "Downloaded https://repo1.maven.org/maven2/io/monix/monix_2.13/3.2.1/monix_2.13-3.2.1.pom\n",
      "Downloading https://repo1.maven.org/maven2/io/monix/monix-reactive_2.13/3.2.1/monix-reactive_2.13-3.2.1.pom\n",
      "Downloading https://repo1.maven.org/maven2/io/monix/monix-execution_2.13/3.2.1/monix-execution_2.13-3.2.1.pom\n",
      "Downloading https://repo1.maven.org/maven2/io/monix/monix-tail_2.13/3.2.1/monix-tail_2.13-3.2.1.pom\n",
      "Downloading https://repo1.maven.org/maven2/io/monix/monix-java_2.13/3.2.1/monix-java_2.13-3.2.1.pom\n",
      "Downloading https://repo1.maven.org/maven2/io/monix/monix-catnap_2.13/3.2.1/monix-catnap_2.13-3.2.1.pom\n",
      "Downloading https://repo1.maven.org/maven2/io/monix/monix-eval_2.13/3.2.1/monix-eval_2.13-3.2.1.pom\n",
      "Downloaded https://repo1.maven.org/maven2/io/monix/monix-execution_2.13/3.2.1/monix-execution_2.13-3.2.1.pom\n",
      "Downloaded https://repo1.maven.org/maven2/io/monix/monix-eval_2.13/3.2.1/monix-eval_2.13-3.2.1.pom\n",
      "Downloaded https://repo1.maven.org/maven2/io/monix/monix-catnap_2.13/3.2.1/monix-catnap_2.13-3.2.1.pom\n",
      "Downloaded https://repo1.maven.org/maven2/io/monix/monix-tail_2.13/3.2.1/monix-tail_2.13-3.2.1.pom\n",
      "Downloaded https://repo1.maven.org/maven2/io/monix/monix-reactive_2.13/3.2.1/monix-reactive_2.13-3.2.1.pom\n",
      "Downloaded https://repo1.maven.org/maven2/io/monix/monix-java_2.13/3.2.1/monix-java_2.13-3.2.1.pom\n",
      "Downloading https://repo1.maven.org/maven2/io/monix/implicitbox_2.13/0.2.0/implicitbox_2.13-0.2.0.pom\n",
      "Downloading https://repo1.maven.org/maven2/org/jctools/jctools-core/2.1.2/jctools-core-2.1.2.pom\n",
      "Downloaded https://repo1.maven.org/maven2/io/monix/implicitbox_2.13/0.2.0/implicitbox_2.13-0.2.0.pom\n",
      "Downloaded https://repo1.maven.org/maven2/org/jctools/jctools-core/2.1.2/jctools-core-2.1.2.pom\n",
      "Downloading https://repo1.maven.org/maven2/io/monix/monix-execution_2.13/3.2.1/monix-execution_2.13-3.2.1.jar\n",
      "Downloading https://repo1.maven.org/maven2/io/monix/monix-eval_2.13/3.2.1/monix-eval_2.13-3.2.1.jar\n",
      "Downloading https://repo1.maven.org/maven2/io/monix/monix-catnap_2.13/3.2.1/monix-catnap_2.13-3.2.1.jar\n",
      "Downloading https://repo1.maven.org/maven2/org/jctools/jctools-core/2.1.2/jctools-core-2.1.2-sources.jar\n",
      "Downloading https://repo1.maven.org/maven2/io/monix/monix-java_2.13/3.2.1/monix-java_2.13-3.2.1.jar\n",
      "Downloading https://repo1.maven.org/maven2/io/monix/implicitbox_2.13/0.2.0/implicitbox_2.13-0.2.0-sources.jar\n",
      "Downloaded https://repo1.maven.org/maven2/io/monix/implicitbox_2.13/0.2.0/implicitbox_2.13-0.2.0-sources.jar\n",
      "Downloading https://repo1.maven.org/maven2/io/monix/monix-execution_2.13/3.2.1/monix-execution_2.13-3.2.1-sources.jar\n",
      "Downloaded https://repo1.maven.org/maven2/io/monix/monix-java_2.13/3.2.1/monix-java_2.13-3.2.1.jar\n",
      "Downloading https://repo1.maven.org/maven2/io/monix/implicitbox_2.13/0.2.0/implicitbox_2.13-0.2.0.jar\n",
      "Downloaded https://repo1.maven.org/maven2/org/jctools/jctools-core/2.1.2/jctools-core-2.1.2-sources.jar\n",
      "Downloading https://repo1.maven.org/maven2/io/monix/monix-catnap_2.13/3.2.1/monix-catnap_2.13-3.2.1-sources.jar\n",
      "Downloaded https://repo1.maven.org/maven2/io/monix/implicitbox_2.13/0.2.0/implicitbox_2.13-0.2.0.jar\n",
      "Downloading https://repo1.maven.org/maven2/io/monix/monix-reactive_2.13/3.2.1/monix-reactive_2.13-3.2.1.jar\n",
      "Downloaded https://repo1.maven.org/maven2/io/monix/monix-catnap_2.13/3.2.1/monix-catnap_2.13-3.2.1.jar\n",
      "Downloading https://repo1.maven.org/maven2/io/monix/monix-eval_2.13/3.2.1/monix-eval_2.13-3.2.1-sources.jar\n",
      "Downloaded https://repo1.maven.org/maven2/io/monix/monix-catnap_2.13/3.2.1/monix-catnap_2.13-3.2.1-sources.jar\n",
      "Downloading https://repo1.maven.org/maven2/io/monix/monix-tail_2.13/3.2.1/monix-tail_2.13-3.2.1-sources.jar\n",
      "Downloaded https://repo1.maven.org/maven2/io/monix/monix-eval_2.13/3.2.1/monix-eval_2.13-3.2.1-sources.jar\n",
      "Downloading https://repo1.maven.org/maven2/io/monix/monix-java_2.13/3.2.1/monix-java_2.13-3.2.1-sources.jar\n",
      "Downloaded https://repo1.maven.org/maven2/io/monix/monix-execution_2.13/3.2.1/monix-execution_2.13-3.2.1-sources.jar\n",
      "Downloading https://repo1.maven.org/maven2/io/monix/monix-reactive_2.13/3.2.1/monix-reactive_2.13-3.2.1-sources.jar\n",
      "Downloaded https://repo1.maven.org/maven2/io/monix/monix-java_2.13/3.2.1/monix-java_2.13-3.2.1-sources.jar\n",
      "Downloading https://repo1.maven.org/maven2/io/monix/monix_2.13/3.2.1/monix_2.13-3.2.1-sources.jar\n",
      "Downloaded https://repo1.maven.org/maven2/io/monix/monix-tail_2.13/3.2.1/monix-tail_2.13-3.2.1-sources.jar\n",
      "Downloading https://repo1.maven.org/maven2/org/jctools/jctools-core/2.1.2/jctools-core-2.1.2.jar\n",
      "Downloaded https://repo1.maven.org/maven2/io/monix/monix-eval_2.13/3.2.1/monix-eval_2.13-3.2.1.jar\n",
      "Downloading https://repo1.maven.org/maven2/io/monix/monix_2.13/3.2.1/monix_2.13-3.2.1.jar\n",
      "Downloaded https://repo1.maven.org/maven2/org/jctools/jctools-core/2.1.2/jctools-core-2.1.2.jar\n",
      "Downloading https://repo1.maven.org/maven2/io/monix/monix-tail_2.13/3.2.1/monix-tail_2.13-3.2.1.jar\n",
      "Downloaded https://repo1.maven.org/maven2/io/monix/monix_2.13/3.2.1/monix_2.13-3.2.1-sources.jar\n",
      "Downloaded https://repo1.maven.org/maven2/io/monix/monix-reactive_2.13/3.2.1/monix-reactive_2.13-3.2.1-sources.jar\n",
      "Downloaded https://repo1.maven.org/maven2/io/monix/monix_2.13/3.2.1/monix_2.13-3.2.1.jar\n",
      "Downloaded https://repo1.maven.org/maven2/io/monix/monix-execution_2.13/3.2.1/monix-execution_2.13-3.2.1.jar\n",
      "Downloaded https://repo1.maven.org/maven2/io/monix/monix-reactive_2.13/3.2.1/monix-reactive_2.13-3.2.1.jar\n",
      "Downloaded https://repo1.maven.org/maven2/io/monix/monix-tail_2.13/3.2.1/monix-tail_2.13-3.2.1.jar\n"
     ]
    },
    {
     "data": {
      "text/plain": [
       "\u001b[32mimport \u001b[39m\u001b[36m$ivy.$                      \u001b[39m"
      ]
     },
     "execution_count": 1,
     "metadata": {},
     "output_type": "execute_result"
    }
   ],
   "source": [
    "import $ivy.`io.monix::monix:3.2.1`"
   ]
  },
  {
   "cell_type": "code",
   "execution_count": 5,
   "metadata": {},
   "outputs": [
    {
     "data": {
      "text/plain": [
       "\u001b[32mimport \u001b[39m\u001b[36mmonix.execution.Scheduler.Implicits.global\n",
       "\n",
       "// A Future type that is also Cancelable\n",
       "\u001b[39m\n",
       "\u001b[32mimport \u001b[39m\u001b[36mmonix.execution.CancelableFuture\n",
       "\n",
       "// Task is in monix.eval\n",
       "\u001b[39m\n",
       "\u001b[32mimport \u001b[39m\u001b[36mmonix.eval.Task\n",
       "\u001b[39m\n",
       "\u001b[32mimport \u001b[39m\u001b[36mscala.util.{Success, Failure}\u001b[39m"
      ]
     },
     "execution_count": 5,
     "metadata": {},
     "output_type": "execute_result"
    }
   ],
   "source": [
    "// In order to evaluate tasks, we'll need a Scheduler\n",
    "import monix.execution.Scheduler.Implicits.global\n",
    "\n",
    "// A Future type that is also Cancelable\n",
    "import monix.execution.CancelableFuture\n",
    "\n",
    "// Task is in monix.eval\n",
    "import monix.eval.Task\n",
    "import scala.util.{Success, Failure}"
   ]
  },
  {
   "cell_type": "code",
   "execution_count": 12,
   "metadata": {},
   "outputs": [
    {
     "data": {
      "text/html": [
       "<div class=\"jp-RenderedText\">\n",
       "<pre><code><span style=\"color: rgb(0, 187, 0)\"><span class=\"ansi-green-fg\">import </span></span><span style=\"color: rgb(0, 187, 187)\"><span class=\"ansi-cyan-fg\">monix.eval.Task\n",
       "</span></span>\n",
       "<span style=\"color: rgb(0, 187, 0)\"><span class=\"ansi-green-fg\">import </span></span><span style=\"color: rgb(0, 187, 187)\"><span class=\"ansi-cyan-fg\">monix.execution.CancelableFuture\n",
       "</span></span>\n",
       "<span style=\"color: rgb(0, 187, 0)\"><span class=\"ansi-green-fg\">import </span></span><span style=\"color: rgb(0, 187, 187)\"><span class=\"ansi-cyan-fg\">concurrent.duration._\n",
       "\n",
       "</span></span>\n",
       "<span style=\"color: rgb(0, 187, 187)\"><span class=\"ansi-cyan-fg\">task</span></span>: <span style=\"color: rgb(0, 187, 0)\"><span class=\"ansi-green-fg\">Task</span></span>[<span style=\"color: rgb(0, 187, 0)\"><span class=\"ansi-green-fg\">Int</span></span>] = <span style=\"color: yellow\"><span class=\"ansi-yellow-fg\">FlatMap</span></span>(\n",
       "  <span style=\"color: yellow\"><span class=\"ansi-yellow-fg\">Async</span></span>(&lt;function2&gt;, false, false, true),\n",
       "  monix.eval.Task$$Lambda$2671/116378004@3d924e3e\n",
       ")\n",
       "<span style=\"color: rgb(0, 187, 187)\"><span class=\"ansi-cyan-fg\">result</span></span>: <span style=\"color: rgb(0, 187, 0)\"><span class=\"ansi-green-fg\">CancelableFuture</span></span>[<span style=\"color: rgb(0, 187, 0)\"><span class=\"ansi-green-fg\">Int</span></span>] = <span style=\"color: rgb(0, 187, 0)\"><span class=\"ansi-green-fg\"><span style=\"color: white\"><span class=\"ansi-white-fg\">[running]</span></span></span></span></code></pre>\n",
       "</div>"
      ],
      "text/plain": [
       "\u001b[32mimport \u001b[39m\u001b[36mmonix.eval.Task\n",
       "\u001b[39m\n",
       "\u001b[32mimport \u001b[39m\u001b[36mmonix.execution.CancelableFuture\n",
       "\u001b[39m\n",
       "\u001b[32mimport \u001b[39m\u001b[36mconcurrent.duration._\n",
       "\n",
       "\u001b[39m\n",
       "\u001b[36mtask\u001b[39m: \u001b[32mTask\u001b[39m[\u001b[32mInt\u001b[39m] = \u001b[33mFlatMap\u001b[39m(\n",
       "  \u001b[33mAsync\u001b[39m(<function2>, false, false, true),\n",
       "  monix.eval.Task$$Lambda$2671/116378004@3d924e3e\n",
       ")\n",
       "\u001b[36mresult\u001b[39m: \u001b[32mCancelableFuture\u001b[39m[\u001b[32mInt\u001b[39m] = \u001b[32m\u001b[37m[running]\u001b[39m\u001b[39m"
      ]
     },
     "metadata": {},
     "output_type": "display_data"
    }
   ],
   "source": [
    "import monix.eval.Task\n",
    "import monix.execution.CancelableFuture\n",
    "import concurrent.duration._\n",
    "\n",
    "val task = Task(1 + 1).delayExecution(1.second)\n",
    "\n",
    "val result: CancelableFuture[Int] =\n",
    "  task.runToFuture\n",
    "\n",
    "// If we change our mind\n",
    "result.cancel()"
   ]
  },
  {
   "cell_type": "code",
   "execution_count": 14,
   "metadata": {},
   "outputs": [],
   "source": [
    "result.onComplete{ case e => println(e); case r => println(r)}"
   ]
  },
  {
   "cell_type": "code",
   "execution_count": 15,
   "metadata": {},
   "outputs": [],
   "source": [
    "result.foreach(println)"
   ]
  },
  {
   "cell_type": "code",
   "execution_count": 17,
   "metadata": {},
   "outputs": [],
   "source": [
    "result.onComplete(println)"
   ]
  },
  {
   "cell_type": "code",
   "execution_count": 19,
   "metadata": {},
   "outputs": [
    {
     "data": {
      "text/plain": [
       "\u001b[36mtask\u001b[39m: \u001b[32mTask\u001b[39m[\u001b[32mInt\u001b[39m] = \u001b[33mFlatMap\u001b[39m(\n",
       "  \u001b[33mAsync\u001b[39m(<function2>, false, false, true),\n",
       "  monix.eval.Task$$Lambda$2671/116378004@5be29d31\n",
       ")\n",
       "\u001b[36mcancelable\u001b[39m: \u001b[32mmonix\u001b[39m.\u001b[32mexecution\u001b[39m.\u001b[32mCancelable\u001b[39m = monix.execution.Cancelable$CancelableTask@55751ce8"
      ]
     },
     "execution_count": 19,
     "metadata": {},
     "output_type": "execute_result"
    }
   ],
   "source": [
    "val task = Task(1 + 1).delayExecution(1.second)\n",
    "\n",
    "val cancelable = task.runAsync { result =>\n",
    "  result match {\n",
    "    case Right(value) =>\n",
    "      println(value)\n",
    "    case Left(ex) =>\n",
    "      System.err.println(s\"ERROR: ${ex.getMessage}\")\n",
    "  }\n",
    "}\n",
    "\n",
    "// If we change our mind...\n",
    "//cancelable.cancel()"
   ]
  },
  {
   "cell_type": "code",
   "execution_count": 29,
   "metadata": {},
   "outputs": [
    {
     "data": {
      "text/plain": [
       "\u001b[36mtask\u001b[39m: \u001b[32mTask\u001b[39m[\u001b[32mInt\u001b[39m] = \u001b[33mFlatMap\u001b[39m(\n",
       "  \u001b[33mAsync\u001b[39m(<function2>, false, false, true),\n",
       "  monix.eval.Task$$Lambda$2671/116378004@9d7d42b\n",
       ")\n",
       "\u001b[36mres28_2\u001b[39m: \u001b[32mInt\u001b[39m = \u001b[32m1\u001b[39m"
      ]
     },
     "execution_count": 29,
     "metadata": {},
     "output_type": "execute_result"
    }
   ],
   "source": [
    "val task = Task(1 + 1).delayExecution(1.second)\n",
    "\n",
    "task.foreach(println)\n",
    "\n",
    "1"
   ]
  },
  {
   "cell_type": "code",
   "execution_count": null,
   "metadata": {},
   "outputs": [],
   "source": []
  }
 ],
 "metadata": {
  "kernelspec": {
   "display_name": "Scala",
   "language": "scala",
   "name": "scala"
  },
  "language_info": {
   "codemirror_mode": "text/x-scala",
   "file_extension": ".scala",
   "mimetype": "text/x-scala",
   "name": "scala",
   "nbconvert_exporter": "script",
   "version": "2.13.0"
  }
 },
 "nbformat": 4,
 "nbformat_minor": 2
}
